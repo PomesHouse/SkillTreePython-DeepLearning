{
  "nbformat": 4,
  "nbformat_minor": 0,
  "metadata": {
    "colab": {
      "name": "ch00_06_github연동과 pythonscript활용 .ipynb",
      "private_outputs": true,
      "provenance": [],
      "authorship_tag": "ABX9TyO9S8oVlaAltiUvIjkTJkfp",
      "include_colab_link": true
    },
    "kernelspec": {
      "name": "python3",
      "display_name": "Python 3"
    },
    "language_info": {
      "name": "python"
    }
  },
  "cells": [
    {
      "cell_type": "markdown",
      "metadata": {
        "id": "view-in-github",
        "colab_type": "text"
      },
      "source": [
        "<a href=\"https://colab.research.google.com/github/PomesHouse/SkillTreePython-DeepLearning/blob/main/00.%EC%B6%94%EA%B0%80%ED%95%99%EC%8A%B5/ch00_06_github%EC%97%B0%EB%8F%99%EA%B3%BC_pythonscript%ED%99%9C%EC%9A%A9_.ipynb\" target=\"_parent\"><img src=\"https://colab.research.google.com/assets/colab-badge.svg\" alt=\"Open In Colab\"/></a>"
      ]
    },
    {
      "cell_type": "markdown",
      "source": [
        "###**차량 번호판 탐지 프로젝트**\n",
        "---\n",
        "\n",
        "![](http://file.carisyou.com/upload/2018/11/20/EDITOR_201811201122494820.jpg)\n",
        "\n",
        "\n",
        "* Step1. 전체 이미지를 '차량' 인식 모델(=yolo)에 넣는다. \n",
        "* Step2. yolo를 통해 '차량' 영역의 좌표를 얻는다. \n",
        "* Step3. 좌표를 이용해 '차량' 영역만 크롭한 이미지를 번호판 인식 모델(=haarcascade)에 넣는다.\n",
        " - `haarcascade_russian_plate_number.xml`\n",
        "\n",
        "* Step4. 번호판 영역의 좌표를 얻고 시각화 한다.\n"
      ],
      "metadata": {
        "id": "tWYSbV9Tde7x"
      }
    },
    {
      "cell_type": "markdown",
      "source": [
        "\n",
        "\n",
        "---\n"
      ],
      "metadata": {
        "id": "7geTjq3X8d_e"
      }
    },
    {
      "cell_type": "markdown",
      "source": [
        "## 라이브러리 로드"
      ],
      "metadata": {
        "id": "eOu3gxIzuVpD"
      }
    },
    {
      "cell_type": "code",
      "source": [
        "!wget https://pjreddie.com/media/files/yolov3.weights -O yolov3.weights"
      ],
      "metadata": {
        "id": "RGYidK2R5dG3"
      },
      "execution_count": null,
      "outputs": []
    },
    {
      "cell_type": "code",
      "source": [
        "! git clone https://github.com/PomesHouse/SkillTreePython-DeepLearning"
      ],
      "metadata": {
        "id": "ub8hirRx5g5v"
      },
      "execution_count": null,
      "outputs": []
    },
    {
      "cell_type": "markdown",
      "source": [
        "---"
      ],
      "metadata": {
        "id": "lQNOM9dr-lRG"
      }
    },
    {
      "cell_type": "markdown",
      "source": [
        "## 실행"
      ],
      "metadata": {
        "id": "j9xdIKBv2caY"
      }
    },
    {
      "cell_type": "code",
      "source": [
        "import sys\n",
        "sys.path.append('/content/SkillTreePython-DeepLearning/data/')"
      ],
      "metadata": {
        "id": "r3XNWrpgzSz_"
      },
      "execution_count": null,
      "outputs": []
    },
    {
      "cell_type": "code",
      "source": [
        "from detect_plate import *"
      ],
      "metadata": {
        "id": "SP7UWbD3zc9X"
      },
      "execution_count": null,
      "outputs": []
    },
    {
      "cell_type": "code",
      "source": [
        "weight_file = '/content/yolov3.weights'\n",
        "cfg_file = '/content/SkillTreePython-DeepLearning/data/yolov3.cfg'\n",
        "name_file = '/content/SkillTreePython-DeepLearning/data/coco.names'\n",
        "\n",
        "model, predict_layer_names = set_model(weight_file, cfg_file)\n",
        "class_names = set_label(name_file)"
      ],
      "metadata": {
        "id": "kERdDC7tziul"
      },
      "execution_count": null,
      "outputs": []
    },
    {
      "cell_type": "code",
      "source": [
        "plate_cascade_name = '/content/SkillTreePython-DeepLearning/data/haarcascade_russian_plate_number.xml'\n",
        "f_path = '/content/SkillTreePython-DeepLearning/data/BMW_car.webp'\n",
        "img = cv2.imread(f_path)\n",
        "plate2detect(img, model, predict_layer_names, class_names, plate_cascade_name)"
      ],
      "metadata": {
        "id": "P-wjK07x1yTP"
      },
      "execution_count": null,
      "outputs": []
    },
    {
      "cell_type": "code",
      "source": [
        "cap = cv2.VideoCapture('/content/car_video.mp4') \n",
        "while True:\n",
        "  _, frame = cap.read() \n",
        "  if frame is None: \n",
        "    print('No frame !')\n",
        "    break\n",
        "  plate2detect(frame, model, predict_layer_names, class_names, plate_cascade_name)"
      ],
      "metadata": {
        "id": "orKPumIz6_8j"
      },
      "execution_count": null,
      "outputs": []
    }
  ]
}