{
  "nbformat": 4,
  "nbformat_minor": 0,
  "metadata": {
    "colab": {
      "name": "ch00_04_OpenCV활용-haarcascade_객체인식.ipynb",
      "provenance": [],
      "collapsed_sections": [],
      "machine_shape": "hm",
      "include_colab_link": true
    },
    "kernelspec": {
      "name": "python3",
      "display_name": "Python 3"
    },
    "accelerator": "GPU"
  },
  "cells": [
    {
      "cell_type": "markdown",
      "metadata": {
        "id": "view-in-github",
        "colab_type": "text"
      },
      "source": [
        "<a href=\"https://colab.research.google.com/github/yebiny/SkillTreePython-DeepLearning/blob/main/00.%EC%B6%94%EA%B0%80%ED%95%99%EC%8A%B5/ch00_04_OpenCV%ED%99%9C%EC%9A%A9_haarcascade_%EA%B0%9D%EC%B2%B4%EC%9D%B8%EC%8B%9D.ipynb\" target=\"_parent\"><img src=\"https://colab.research.google.com/assets/colab-badge.svg\" alt=\"Open In Colab\"/></a>"
      ]
    },
    {
      "cell_type": "markdown",
      "metadata": {
        "id": "wWpXZc2fi39U"
      },
      "source": [
        "# ch00.04. OpenCV 활용 - haarcascade 객체인식\n",
        "\n",
        "---\n",
        "* 날짜:\n",
        "* 이름:\n",
        "\n",
        "## 학습내용\n",
        "    - 이미지에서 객체 인식하기\n",
        "    - 동영상에서 객체 인식하기\n",
        "\n",
        "## 학습자료\n",
        "\n",
        "\n",
        "- [OpenCV 홈페이지](https://opencv.org/)\n",
        "\n",
        "- [OpenCV-pythoin Documentation](https://opencv-python.readthedocs.io/en/latest/)\n",
        "\n",
        "- [face-recognition](https://face-recognition.readthedocs.io/en/latest/readme.html#features)\n"
      ]
    },
    {
      "cell_type": "markdown",
      "source": [
        "## 개념정리\n",
        "---\n",
        "\n",
        "![](https://github.com/yebiny/Image-Segmentation-TF2/blob/main/imgs/seg_type.png?raw=true)\n",
        "\n"
      ],
      "metadata": {
        "id": "wklacZalLSfZ"
      }
    },
    {
      "cell_type": "markdown",
      "source": [
        "## face recognition를 이용한 얼굴탐지\n",
        "---\n"
      ],
      "metadata": {
        "id": "4Dr3Kh_JLgkt"
      }
    },
    {
      "cell_type": "markdown",
      "source": [
        "\n",
        "#### **세팅**\n",
        "\n",
        "```\n",
        "! pip install face_recognition\n",
        "```"
      ],
      "metadata": {
        "id": "0oNf0pBpV3C7"
      }
    },
    {
      "cell_type": "code",
      "source": [
        ""
      ],
      "metadata": {
        "id": "Rs1edEXOLuxf"
      },
      "execution_count": null,
      "outputs": []
    },
    {
      "cell_type": "code",
      "source": [
        ""
      ],
      "metadata": {
        "id": "YwWoD98wvCMH"
      },
      "execution_count": null,
      "outputs": []
    },
    {
      "cell_type": "markdown",
      "source": [
        "#### **예측**"
      ],
      "metadata": {
        "id": "rdvDrNJtva8h"
      }
    },
    {
      "cell_type": "code",
      "source": [
        ""
      ],
      "metadata": {
        "id": "oUSTSxIM7JUI"
      },
      "execution_count": null,
      "outputs": []
    },
    {
      "cell_type": "markdown",
      "source": [
        "#### **결과 시각화**\n",
        "\n",
        "* return : (y1, x2, y2, x1)"
      ],
      "metadata": {
        "id": "CHdswAxUvcVw"
      }
    },
    {
      "cell_type": "code",
      "source": [
        ""
      ],
      "metadata": {
        "id": "-x-XB-cFvKOG"
      },
      "execution_count": null,
      "outputs": []
    },
    {
      "cell_type": "markdown",
      "source": [
        "## OpenCV를 이용한 얼굴탐지\n",
        "---\n",
        "\n",
        "### **Harr Feature Selection**\n",
        "\n",
        "![](https://img1.daumcdn.net/thumb/R1280x0/?scode=mtistory2&fname=https%3A%2F%2Fblog.kakaocdn.net%2Fdn%2FCGrST%2FbtqwozewRoL%2F97TeD7AXg37r84HSrpJ7n0%2Fimg.png)\n",
        "\n",
        "[참고블로그](https://webnautes.tistory.com/1352)"
      ],
      "metadata": {
        "id": "Xxsn0LuBLnms"
      }
    },
    {
      "cell_type": "markdown",
      "source": [
        "### | 이미지에 적용하기"
      ],
      "metadata": {
        "id": "hvo1YUYwF-jY"
      }
    },
    {
      "cell_type": "code",
      "metadata": {
        "id": "xmPfYD-zMwU-"
      },
      "source": [
        ""
      ],
      "execution_count": null,
      "outputs": []
    },
    {
      "cell_type": "markdown",
      "source": [
        "#### **세팅**\n",
        "\n",
        "필요 파일\n",
        "```\n",
        "face_cascade_name = 'haarcascade_frontalface_alt.xml'\n",
        "eyes_cascade_name = 'haarcascade_eye_tree_eyeglasses.xml'\n",
        "file_name = 'obama_01.jpeg, obama_02.jpeg, obama_01.jpg'\n",
        "```\n",
        "\n",
        "파일 위치\n",
        "```\n",
        "- opencv\n",
        "  - data\n",
        "    - haarcascades\n",
        "```"
      ],
      "metadata": {
        "id": "0y13Y88g82xG"
      }
    },
    {
      "cell_type": "code",
      "metadata": {
        "id": "XjZbyknIM-BH"
      },
      "source": [
        ""
      ],
      "execution_count": null,
      "outputs": []
    },
    {
      "cell_type": "code",
      "metadata": {
        "id": "HwT2nJVfNOw7"
      },
      "source": [
        ""
      ],
      "execution_count": null,
      "outputs": []
    },
    {
      "cell_type": "code",
      "metadata": {
        "id": "5nV9lJWENcJD"
      },
      "source": [
        ""
      ],
      "execution_count": null,
      "outputs": []
    },
    {
      "cell_type": "markdown",
      "source": [
        "#### **전처리**"
      ],
      "metadata": {
        "id": "Qk2w36eN8Hb8"
      }
    },
    {
      "cell_type": "code",
      "metadata": {
        "id": "1nvxrGQFN4II"
      },
      "source": [
        ""
      ],
      "execution_count": null,
      "outputs": []
    },
    {
      "cell_type": "code",
      "metadata": {
        "id": "xJpsTG3UOKKw"
      },
      "source": [
        ""
      ],
      "execution_count": null,
      "outputs": []
    },
    {
      "cell_type": "code",
      "metadata": {
        "id": "TiM7QoZ7OGfJ"
      },
      "source": [
        ""
      ],
      "execution_count": null,
      "outputs": []
    },
    {
      "cell_type": "code",
      "source": [
        ""
      ],
      "metadata": {
        "id": "1JnLAo0Q5aEx"
      },
      "execution_count": null,
      "outputs": []
    },
    {
      "cell_type": "markdown",
      "source": [
        "#### **예측**\n"
      ],
      "metadata": {
        "id": "dYmgnkDF8LA9"
      }
    },
    {
      "cell_type": "code",
      "source": [
        ""
      ],
      "metadata": {
        "id": "kUP-S_o48OVz"
      },
      "execution_count": null,
      "outputs": []
    },
    {
      "cell_type": "code",
      "source": [
        ""
      ],
      "metadata": {
        "id": "R5pd6jwZ8gqm"
      },
      "execution_count": null,
      "outputs": []
    },
    {
      "cell_type": "code",
      "source": [
        ""
      ],
      "metadata": {
        "id": "KIBL8ABt8RaS"
      },
      "execution_count": null,
      "outputs": []
    },
    {
      "cell_type": "markdown",
      "source": [
        "#### **함수화**"
      ],
      "metadata": {
        "id": "ng3b7lrM8pU_"
      }
    },
    {
      "cell_type": "code",
      "source": [
        ""
      ],
      "metadata": {
        "id": "LeMSsv8W6OL3"
      },
      "execution_count": null,
      "outputs": []
    },
    {
      "cell_type": "markdown",
      "source": [
        "* 함수사용"
      ],
      "metadata": {
        "id": "pWKvWU6T8rm7"
      }
    },
    {
      "cell_type": "code",
      "source": [
        ""
      ],
      "metadata": {
        "id": "0orGXrzw6jlG"
      },
      "execution_count": null,
      "outputs": []
    },
    {
      "cell_type": "markdown",
      "source": [
        "### | 비디오에 적용하기"
      ],
      "metadata": {
        "id": "KOmu5gJJFEZV"
      }
    },
    {
      "cell_type": "markdown",
      "source": [
        "#### **세팅**\n"
      ],
      "metadata": {
        "id": "CkUUeHVvGDEt"
      }
    },
    {
      "cell_type": "code",
      "metadata": {
        "id": "mI7m4BdD-EDt"
      },
      "source": [
        ""
      ],
      "execution_count": null,
      "outputs": []
    },
    {
      "cell_type": "code",
      "metadata": {
        "id": "T0GOD-rC-EDu"
      },
      "source": [
        ""
      ],
      "execution_count": null,
      "outputs": []
    },
    {
      "cell_type": "code",
      "metadata": {
        "id": "mFfsoE7E-EDu"
      },
      "source": [
        ""
      ],
      "execution_count": null,
      "outputs": []
    },
    {
      "cell_type": "code",
      "metadata": {
        "id": "xR4t7dh3-EDu"
      },
      "source": [
        ""
      ],
      "execution_count": null,
      "outputs": []
    },
    {
      "cell_type": "markdown",
      "source": [
        "#### **함수화**"
      ],
      "metadata": {
        "id": "7r3OWpECGGlz"
      }
    },
    {
      "cell_type": "code",
      "metadata": {
        "id": "cG0SuExZNzSn"
      },
      "source": [
        ""
      ],
      "execution_count": null,
      "outputs": []
    },
    {
      "cell_type": "code",
      "source": [
        ""
      ],
      "metadata": {
        "id": "E7FYIPXqW5kR"
      },
      "execution_count": null,
      "outputs": []
    },
    {
      "cell_type": "markdown",
      "source": [
        "## 과제\n",
        "---\n",
        "\n"
      ],
      "metadata": {
        "id": "3KWrnXSuIPqz"
      }
    },
    {
      "cell_type": "markdown",
      "source": [
        "### **과제 01**\n",
        "\n",
        "[히스토그램](https://opencv-python.readthedocs.io/en/latest/doc/19.imageHistograms/imageHistograms.html)\n",
        "\n",
        "[히스토그램 균일화](https://opencv-python.readthedocs.io/en/latest/doc/20.imageHistogramEqualization/imageHistogramEqualization.html)\n"
      ],
      "metadata": {
        "id": "LJpI_xBBaAgY"
      }
    },
    {
      "cell_type": "code",
      "source": [
        ""
      ],
      "metadata": {
        "id": "A44BzhQmIRHh"
      },
      "execution_count": null,
      "outputs": []
    },
    {
      "cell_type": "markdown",
      "source": [
        "### **과제 02**\n",
        "```\n",
        "- haarcascade_smile.xml\n",
        "- haarcascade_upperbody.xml\n",
        "```"
      ],
      "metadata": {
        "id": "RE7x2rczaDrv"
      }
    },
    {
      "cell_type": "code",
      "source": [
        ""
      ],
      "metadata": {
        "id": "h6LQHYYnaDrv"
      },
      "execution_count": null,
      "outputs": []
    }
  ]
}