{
  "nbformat": 4,
  "nbformat_minor": 0,
  "metadata": {
    "colab": {
      "name": "OpenCV시험.ipynb",
      "private_outputs": true,
      "provenance": [],
      "authorship_tag": "ABX9TyNvIDYwWUzO8cGAGU/Ki6Nq",
      "include_colab_link": true
    },
    "kernelspec": {
      "name": "python3",
      "display_name": "Python 3"
    },
    "language_info": {
      "name": "python"
    }
  },
  "cells": [
    {
      "cell_type": "markdown",
      "metadata": {
        "id": "view-in-github",
        "colab_type": "text"
      },
      "source": [
        "<a href=\"https://colab.research.google.com/github/PomesHouse/SkillTreePython-DeepLearning/blob/main/00.%EC%B6%94%EA%B0%80%ED%95%99%EC%8A%B5/OpenCV%EC%8B%9C%ED%97%98.ipynb\" target=\"_parent\"><img src=\"https://colab.research.google.com/assets/colab-badge.svg\" alt=\"Open In Colab\"/></a>"
      ]
    },
    {
      "cell_type": "code",
      "execution_count": null,
      "metadata": {
        "id": "2WdRAk3Jse4i"
      },
      "outputs": [],
      "source": [
        "import numpy as np\n",
        "import matplotlib.pyplot as plt\n",
        "import cv2\n",
        "from google.colab.patches import cv2_imshow"
      ]
    },
    {
      "cell_type": "markdown",
      "source": [
        "##1"
      ],
      "metadata": {
        "id": "LjcCCQdbtkr_"
      }
    },
    {
      "cell_type": "code",
      "source": [
        "background = np.full((100,100,3), ( 255,255,255), dtype = 'uint8')\n",
        "cv2.circle(background, (50, 50), 30, (0,255,0), 2)\n",
        "plt.grid(True)\n",
        "plt.imshow(background)"
      ],
      "metadata": {
        "id": "EnT33SgftjD_"
      },
      "execution_count": null,
      "outputs": []
    },
    {
      "cell_type": "markdown",
      "source": [
        "## 2"
      ],
      "metadata": {
        "id": "gzpqotPutpav"
      }
    },
    {
      "cell_type": "code",
      "source": [
        "img = cv2.imread('/content/withdoggie.jpg')\n",
        "cv2_imshow(img[300:600, 600: 800])"
      ],
      "metadata": {
        "id": "f1zAOxLRvvOw"
      },
      "execution_count": null,
      "outputs": []
    },
    {
      "cell_type": "markdown",
      "source": [
        "##3"
      ],
      "metadata": {
        "id": "msar96kEtphO"
      }
    },
    {
      "cell_type": "code",
      "source": [
        "line = np.linspace(0,255,100)\n",
        "print(line.shape)\n",
        "print(line[::10])\n",
        "line = np.linspace(0,255,100).reshape(100,1)\n",
        "print(line.shape)\n",
        "cv2_imshow(line)\n",
        "img2 = np.concatenate([line for i in range(100)],axis=1)\n",
        "cv2_imshow(img2)\n",
        "print(img2.shape) \n",
        "ret, dst = cv2.threshold(img2, 127, 255, cv2.THRESH_BINARY)\n",
        "print(img2.shape, dst.shape)\n",
        "cv2_imshow(dst)"
      ],
      "metadata": {
        "id": "MCY-JDQMwIAp"
      },
      "execution_count": null,
      "outputs": []
    },
    {
      "cell_type": "markdown",
      "source": [
        "## 7"
      ],
      "metadata": {
        "id": "5EjLyC7wt0O3"
      }
    },
    {
      "cell_type": "code",
      "source": [
        "bkg = np.full((100, 100, 3) ,(255,255,255), dtype = 'uint8')\n",
        "circle = cv2.circle(bkg, (50, 50), 50, (0, 255, 0), -1)\n",
        "bkg_m = np.zeros((100, 100), dtype= 'uint8')\n",
        "mask = cv2.rectangle(bkg_m, (0, 0), (50, 50), (255,255,255), -1)\n",
        "masked = cv2.bitwise_and(circle, circle, mask = mask)\n",
        "cv2_imshow(masked)\n"
      ],
      "metadata": {
        "id": "WiZH8BBjt1Se"
      },
      "execution_count": null,
      "outputs": []
    }
  ]
}