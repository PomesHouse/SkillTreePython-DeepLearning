{
  "cells": [
    {
      "cell_type": "markdown",
      "metadata": {
        "id": "view-in-github",
        "colab_type": "text"
      },
      "source": [
        "<a href=\"https://colab.research.google.com/github/yebiny/SkillTreePython-DeepLearning/blob/main/00.%EC%B6%94%EA%B0%80%ED%95%99%EC%8A%B5/ch00_05_OpenCV%ED%99%9C%EC%9A%A9_%EC%B0%A8%EC%84%A0%EC%9D%B8%EC%8B%9D.ipynb\" target=\"_parent\"><img src=\"https://colab.research.google.com/assets/colab-badge.svg\" alt=\"Open In Colab\"/></a>"
      ]
    },
    {
      "cell_type": "markdown",
      "metadata": {
        "id": "wWpXZc2fi39U"
      },
      "source": [
        "# ch00.05. OpenCV 활용 - 차선인식\n",
        "---\n",
        "* 날짜:\n",
        "* 이름:\n",
        "\n",
        "## 학습내용\n",
        "    - 허프 변환을 이용한 차선 인식\n",
        "    - 이미지에서 차선 인식하기\n",
        "    - 동영상에서 차선 인식하기\n",
        "\n",
        "## 학습자료\n",
        "\n",
        "\n",
        "- [OpenCV 홈페이지](https://opencv.org/)\n",
        "\n",
        "- [OpenCV-python Documentation](https://opencv-python.readthedocs.io/en/latest/)\n"
      ]
    },
    {
      "cell_type": "markdown",
      "metadata": {
        "id": "wklacZalLSfZ"
      },
      "source": [
        "## 개념정리\n",
        "---\n",
        "\n",
        "카메라에서 도로의 차선을 감지하는 것으로 차량 혹은 로봇의 자율주행 기술에 자주 사용됩니다.\n",
        "\n",
        "<p align='center'>\n",
        "<img src=https://miro.medium.com/max/1400/1*nX0QqMYYWA4pT3yppzFzgw.jpeg width=500>\n",
        "</p>\n"
      ]
    },
    {
      "cell_type": "markdown",
      "metadata": {
        "id": "4Dr3Kh_JLgkt"
      },
      "source": [
        "## 허프 변환을 이용한 차선감지\n",
        "---\n"
      ]
    },
    {
      "cell_type": "markdown",
      "metadata": {
        "id": "0oNf0pBpV3C7"
      },
      "source": [
        "\n",
        "#### **세팅**\n"
      ]
    },
    {
      "cell_type": "code",
      "execution_count": null,
      "metadata": {
        "id": "Rs1edEXOLuxf"
      },
      "outputs": [],
      "source": [
        ""
      ]
    },
    {
      "cell_type": "code",
      "execution_count": null,
      "metadata": {
        "id": "YwWoD98wvCMH"
      },
      "outputs": [],
      "source": [
        ""
      ]
    },
    {
      "cell_type": "markdown",
      "metadata": {
        "id": "Qk2w36eN8Hb8"
      },
      "source": [
        "### **| 전처리**"
      ]
    },
    {
      "cell_type": "code",
      "execution_count": null,
      "metadata": {
        "id": "1nvxrGQFN4II"
      },
      "outputs": [],
      "source": [
        ""
      ]
    },
    {
      "cell_type": "code",
      "execution_count": null,
      "metadata": {
        "id": "xJpsTG3UOKKw"
      },
      "outputs": [],
      "source": [
        ""
      ]
    },
    {
      "cell_type": "code",
      "execution_count": null,
      "metadata": {
        "id": "TiM7QoZ7OGfJ"
      },
      "outputs": [],
      "source": [
        ""
      ]
    },
    {
      "cell_type": "markdown",
      "metadata": {
        "id": "QnLSW3YK01cp"
      },
      "source": [
        "### **| 차선 인식**"
      ]
    },
    {
      "cell_type": "markdown",
      "metadata": {
        "id": "Uw5_Ddh4UX52"
      },
      "source": [
        "#### **Region of interest**"
      ]
    },
    {
      "cell_type": "code",
      "execution_count": null,
      "metadata": {
        "id": "u4gr-PWOUalG"
      },
      "outputs": [],
      "source": [
        ""
      ]
    },
    {
      "cell_type": "code",
      "execution_count": null,
      "metadata": {
        "id": "XQSsuDtwUcE-"
      },
      "outputs": [],
      "source": [
        ""
      ]
    },
    {
      "cell_type": "code",
      "execution_count": null,
      "metadata": {
        "id": "xx0P0Mk1UdaO"
      },
      "outputs": [],
      "source": [
        ""
      ]
    },
    {
      "cell_type": "markdown",
      "source": [
        "#### **허프 변환**"
      ],
      "metadata": {
        "id": "5XNEqdhMutWO"
      }
    },
    {
      "cell_type": "code",
      "execution_count": null,
      "metadata": {
        "id": "vrYkYHQQ04zx"
      },
      "outputs": [],
      "source": [
        ""
      ]
    },
    {
      "cell_type": "code",
      "execution_count": null,
      "metadata": {
        "id": "5sPoK5F53vJi"
      },
      "outputs": [],
      "source": [
        ""
      ]
    },
    {
      "cell_type": "code",
      "execution_count": null,
      "metadata": {
        "id": "Ra6d7pCvdpoQ"
      },
      "outputs": [],
      "source": [
        ""
      ]
    },
    {
      "cell_type": "markdown",
      "metadata": {
        "id": "ng3b7lrM8pU_"
      },
      "source": [
        "### **| 함수 작성**"
      ]
    },
    {
      "cell_type": "code",
      "execution_count": null,
      "metadata": {
        "id": "BUIxP9GEGPgX"
      },
      "outputs": [],
      "source": [
        ""
      ]
    },
    {
      "cell_type": "markdown",
      "metadata": {
        "id": "pWKvWU6T8rm7"
      },
      "source": [
        "#### **이미지 적용**"
      ]
    },
    {
      "cell_type": "code",
      "execution_count": null,
      "metadata": {
        "id": "0orGXrzw6jlG"
      },
      "outputs": [],
      "source": [
        ""
      ]
    },
    {
      "cell_type": "markdown",
      "source": [
        "#### **영상 적용**"
      ],
      "metadata": {
        "id": "4Rm8djGmu3mF"
      }
    },
    {
      "cell_type": "code",
      "execution_count": null,
      "metadata": {
        "colab": {
          "background_save": true
        },
        "id": "9Kpzw9WOH_2d"
      },
      "outputs": [],
      "source": [
        "    "
      ]
    },
    {
      "cell_type": "markdown",
      "metadata": {
        "id": "3KWrnXSuIPqz"
      },
      "source": [
        "## 과제\n",
        "---\n",
        "\n"
      ]
    },
    {
      "cell_type": "markdown",
      "metadata": {
        "id": "LJpI_xBBaAgY"
      },
      "source": [
        "### **과제 01**\n",
        "[Image Smoothing](https://opencv-python.readthedocs.io/en/latest/doc/11.imageSmoothing/imageSmoothing.html)\n",
        "\n",
        "[Image Gradients](https://opencv-python.readthedocs.io/en/latest/doc/13.imageGradient/imageGradient.html)\n",
        "\n",
        "[허프 변환](https://opencv-python.readthedocs.io/en/latest/doc/25.imageHoughLineTransform/imageHoughLineTransform.html)\n",
        "\n"
      ]
    },
    {
      "cell_type": "code",
      "execution_count": null,
      "metadata": {
        "id": "A44BzhQmIRHh"
      },
      "outputs": [],
      "source": [
        ""
      ]
    }
  ],
  "metadata": {
    "accelerator": "GPU",
    "colab": {
      "collapsed_sections": [],
      "machine_shape": "hm",
      "name": "ch00_05_OpenCV활용-차선인식.ipynb",
      "provenance": [],
      "include_colab_link": true
    },
    "kernelspec": {
      "display_name": "Python 3",
      "name": "python3"
    }
  },
  "nbformat": 4,
  "nbformat_minor": 0
}