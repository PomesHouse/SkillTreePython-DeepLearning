{
  "nbformat": 4,
  "nbformat_minor": 0,
  "metadata": {
    "colab": {
      "name": "ch03_01_NLP기초-텍스트처리.ipynb",
      "provenance": [],
      "collapsed_sections": [],
      "include_colab_link": true
    },
    "kernelspec": {
      "name": "python3",
      "display_name": "Python 3"
    },
    "language_info": {
      "name": "python"
    }
  },
  "cells": [
    {
      "cell_type": "markdown",
      "metadata": {
        "id": "view-in-github",
        "colab_type": "text"
      },
      "source": [
        "<a href=\"https://colab.research.google.com/github/PomesHouse/SkillTreePython-DeepLearning/blob/main/03.NLP-with-tensorflow2.0/ch03_01_NLP%EA%B8%B0%EC%B4%88_%ED%85%8D%EC%8A%A4%ED%8A%B8%EC%B2%98%EB%A6%AC.ipynb\" target=\"_parent\"><img src=\"https://colab.research.google.com/assets/colab-badge.svg\" alt=\"Open In Colab\"/></a>"
      ]
    },
    {
      "cell_type": "markdown",
      "source": [
        "# ch03.01 NLP기초 - 텍스트 처리\n",
        "---\n",
        "\n",
        "* 날짜:\n",
        "* 이름:\n",
        "\n",
        "## 학습내용\n",
        "    - 텍스트 전처리 과정을 이해한다.\n",
        "      * 텍스트 토큰화\n",
        "      * 텍스트 인덱싱\n",
        "      * 원-핫 인코딩\n",
        "      * 텍스트 임베딩\n",
        "    - 간단한 문장을 분류하는 딥러닝 모델을 구현한다.\n"
      ],
      "metadata": {
        "id": "sWs2kEC1_b-P"
      }
    },
    {
      "cell_type": "markdown",
      "source": [
        "```\n",
        "! git clone https://github.com/yebiny/SkillTreePython-DeepLearning\n",
        "```"
      ],
      "metadata": {
        "id": "zml97VsFlWC1"
      }
    },
    {
      "cell_type": "code",
      "execution_count": 1,
      "metadata": {
        "id": "lqjonRF6KbGY",
        "colab": {
          "base_uri": "https://localhost:8080/"
        },
        "outputId": "c6a962df-1acb-45dc-d490-b1b1a6bd3650"
      },
      "outputs": [
        {
          "output_type": "stream",
          "name": "stdout",
          "text": [
            "Cloning into 'SkillTreePython-DeepLearning'...\n",
            "remote: Enumerating objects: 710, done.\u001b[K\n",
            "remote: Counting objects: 100% (283/283), done.\u001b[K\n",
            "remote: Compressing objects: 100% (127/127), done.\u001b[K\n",
            "remote: Total 710 (delta 174), reused 255 (delta 155), pack-reused 427\u001b[K\n",
            "Receiving objects: 100% (710/710), 38.09 MiB | 29.11 MiB/s, done.\n",
            "Resolving deltas: 100% (367/367), done.\n"
          ]
        }
      ],
      "source": [
        "! git clone https://github.com/yebiny/SkillTreePython-DeepLearning"
      ]
    },
    {
      "cell_type": "markdown",
      "source": [
        "```\n",
        "import sys\n",
        "sys.path.append('/content/SkillTreePython-DeepLearning/02.케라스_창시자에게_배우는_딥러닝/scripts')\n",
        "from import_lib import *\n",
        "```"
      ],
      "metadata": {
        "id": "iDliBVhLlYiY"
      }
    },
    {
      "cell_type": "code",
      "source": [
        "import sys\n",
        "sys.path.append('/content/SkillTreePython-DeepLearning/02.케라스_창시자에게_배우는_딥러닝/scripts')\n",
        "from import_lib import *"
      ],
      "metadata": {
        "id": "InMFlAq4Xwge"
      },
      "execution_count": 2,
      "outputs": []
    },
    {
      "cell_type": "markdown",
      "source": [
        "## 텍스트 데이터 처리\n",
        "---"
      ],
      "metadata": {
        "id": "RgUP6THDdK7O"
      }
    },
    {
      "cell_type": "markdown",
      "source": [
        "### **| 전처리 구현하기**"
      ],
      "metadata": {
        "id": "5XY0FswrfDrS"
      }
    },
    {
      "cell_type": "markdown",
      "source": [
        "#### **딕셔너리 제작**\n",
        "\n",
        "```\n",
        "\"문장이 이런식으로 이루어져 있습니다.\"\n",
        "# 1, 토큰화\n",
        "\"문장 이 이런 식 으로 이루 어져  있습니다\" # -> 어떻게 토큰화 할지 라이브러리 존재~\n",
        "\"hello everyone\"\n",
        "# 모든데이터는 숫자!\n",
        "2. 단어 인덱싱\n",
        "# 모든 토큰에 대해 숫자로 매핑\n",
        "# 인덱싱 위해서는 딕셔너리 필요\n",
        "```"
      ],
      "metadata": {
        "id": "VrSMuSciaqlU"
      }
    },
    {
      "cell_type": "code",
      "source": [
        "samples = ['very nice movie',\n",
        "           'this movie is bad',\n",
        "           'it is so bad',\n",
        "           'wow it is a good movie']\n",
        "\n",
        "word_dict = {}\n",
        "for sample in samples:\n",
        "    # 토큰화\n",
        "    for token in sample.split(' '):\n",
        "        # print(token)\n",
        "        if token not in word_dict:\n",
        "            word_dict[token] = len(word_dict) + 1\n",
        "print(word_dict)\n",
        "print('모든 단어 개수: ', len(word_dict))"
      ],
      "metadata": {
        "id": "aYpYwBlhf3En",
        "colab": {
          "base_uri": "https://localhost:8080/"
        },
        "outputId": "3ab5576f-05d4-44af-d5a6-3658deae27bc"
      },
      "execution_count": 15,
      "outputs": [
        {
          "output_type": "stream",
          "name": "stdout",
          "text": [
            "{'very': 1, 'nice': 2, 'movie': 3, 'this': 4, 'is': 5, 'bad': 6, 'it': 7, 'so': 8, 'wow': 9, 'a': 10, 'good': 11}\n",
            "모든 단어 개수:  11\n"
          ]
        }
      ]
    },
    {
      "cell_type": "code",
      "source": [
        "클래스가 3개일때\n",
        "\n",
        "1: 1 0 0\n",
        "2: 0 1 0\n",
        "3: 0 0 1\n",
        "\n",
        "클래스개수가 단어 개수만큼 ( 5000개 단어 ~ 10000개 단어 ~)\n",
        "1: 1 0 0 ...0\n",
        "2: 0 1 0 ...0\n",
        "...\n",
        "5000: 0 0 ...1"
      ],
      "metadata": {
        "id": "0zryBvVccV57"
      },
      "execution_count": null,
      "outputs": []
    },
    {
      "cell_type": "markdown",
      "source": [
        "#### **단어 인덱싱**"
      ],
      "metadata": {
        "id": "KEsBK72AfMB0"
      }
    },
    {
      "cell_type": "code",
      "source": [
        "# 문장 -> 토큰 -> 숫자\n",
        "def word_indexing(sample, word_dict):\n",
        "    indexed = []\n",
        "    for token in sample.split(' '):\n",
        "        num = word_dict[token]\n",
        "        indexed.append(num)\n",
        "    return np.array(indexed)\n",
        "idx = 1\n",
        "samples[idx], word_indexing(samples[idx], word_dict )"
      ],
      "metadata": {
        "id": "OevIeAf6g0QN",
        "colab": {
          "base_uri": "https://localhost:8080/"
        },
        "outputId": "f245cc9e-9549-4e3f-91d3-871a93001784"
      },
      "execution_count": 16,
      "outputs": [
        {
          "output_type": "execute_result",
          "data": {
            "text/plain": [
              "('this movie is bad', array([4, 3, 5, 6]))"
            ]
          },
          "metadata": {},
          "execution_count": 16
        }
      ]
    },
    {
      "cell_type": "code",
      "source": [
        "###############\n",
        "plt.figure(figsize = (len(samples)*2,4))\n",
        "for i, sample in enumerate(samples):\n",
        "    indexed = word_indexing(sample, word_dict)\n",
        "    plt.subplot(1, len(samples), i + 1)\n",
        "    sns.heatmap(indexed.reshape(len(indexed), 1), cmap = 'gray',\n",
        "                annot = True, cbar = False,\n",
        "                yticklabels = sample.split(' '),\n",
        "                xticklabels = [])\n",
        "plt.show()"
      ],
      "metadata": {
        "id": "dtmzeJfjgo46",
        "colab": {
          "base_uri": "https://localhost:8080/",
          "height": 248
        },
        "outputId": "1ff27075-c96a-43cb-ad26-a7eb22f3b2be"
      },
      "execution_count": 18,
      "outputs": [
        {
          "output_type": "display_data",
          "data": {
            "text/plain": [
              "<Figure size 576x288 with 4 Axes>"
            ],
            "image/png": "[encoded data removed]"
          },
          "metadata": {
            "needs_background": "light"
          }
        }
      ]
    },
    {
      "cell_type": "markdown",
      "source": [
        "#### **원-핫 인코딩**"
      ],
      "metadata": {
        "id": "Y942NAXGftDf"
      }
    },
    {
      "cell_type": "code",
      "source": [
        "# sample_mxlen: 한 문장안에 몇개의 토큰까지 허락\n",
        "# total_words: 딕셔너리 안에 있는 모든 단어 수\n",
        "def word_onehot(sample, sample_mxlen, total_words):\n",
        "    onehot = np.zeros((sample_mxlen, total_words +1)) # 단어인덱스 1~11, 파이썬 인덱스 0~11 총 12개\n",
        "    for i, token in enumerate(sample.split(' ')):\n",
        "        if i == sample_mxlen: break # 샘플이 너무길면 자르기\n",
        "        index = word_dict[token] # 토큰이 몇번째 해당하는지 반환\n",
        "        onehot[i, index] = 1 # i번째 토큰, index 해당하는 자리에 1을 할당 \n",
        "    return onehot\n",
        "\n",
        "idx = 3\n",
        "print(samples[idx])\n",
        "print(word_indexing(samples[idx], word_dict))\n",
        "print(word_onehot(samples[idx], 5, len(word_dict)))\n"
      ],
      "metadata": {
        "id": "Xt4aVBN7g89I",
        "colab": {
          "base_uri": "https://localhost:8080/"
        },
        "outputId": "0f47064f-7e89-482a-d5d0-661c90cad271"
      },
      "execution_count": 20,
      "outputs": [
        {
          "output_type": "stream",
          "name": "stdout",
          "text": [
            "wow it is a good movie\n",
            "[ 9  7  5 10 11  3]\n",
            "[[0. 0. 0. 0. 0. 0. 0. 0. 0. 1. 0. 0.]\n",
            " [0. 0. 0. 0. 0. 0. 0. 1. 0. 0. 0. 0.]\n",
            " [0. 0. 0. 0. 0. 1. 0. 0. 0. 0. 0. 0.]\n",
            " [0. 0. 0. 0. 0. 0. 0. 0. 0. 0. 1. 0.]\n",
            " [0. 0. 0. 0. 0. 0. 0. 0. 0. 0. 0. 1.]]\n"
          ]
        }
      ]
    },
    {
      "cell_type": "code",
      "source": [
        "plt.figure(figsize = (len(samples)*3 , 4))\n",
        "for i, sample in enumerate(samples):\n",
        "    onehot = word_onehot(samples[i], 6, len(word_dict))\n",
        "    plt.subplot(1, len(samples), i + 1)\n",
        "    sns.heatmap(onehot, cmap = 'gray',\n",
        "                annot = True, cbar = False,\n",
        "                yticklabels = sample.split(' '),\n",
        "                xticklabels = [])\n",
        "plt.show()"
      ],
      "metadata": {
        "id": "K-JUpREAhHDm",
        "colab": {
          "base_uri": "https://localhost:8080/",
          "height": 248
        },
        "outputId": "06b1b9ee-d161-4025-9d10-a08c6bb5cd05"
      },
      "execution_count": 21,
      "outputs": [
        {
          "output_type": "display_data",
          "data": {
            "text/plain": [
              "<Figure size 864x288 with 4 Axes>"
            ],
            "image/png": "[encoded data removed]"
          },
          "metadata": {
            "needs_background": "light"
          }
        }
      ]
    },
    {
      "cell_type": "markdown",
      "source": [
        "### | **텐서플로우 케라스 Tokenizer**\n"
      ],
      "metadata": {
        "id": "LsZv-_kzeu_h"
      }
    },
    {
      "cell_type": "code",
      "source": [
        "samples"
      ],
      "metadata": {
        "colab": {
          "base_uri": "https://localhost:8080/"
        },
        "id": "kqfCyGUAuZSL",
        "outputId": "18df70cd-227f-4656-c05c-1caec597f81b"
      },
      "execution_count": 22,
      "outputs": [
        {
          "output_type": "execute_result",
          "data": {
            "text/plain": [
              "['very nice movie',\n",
              " 'this movie is bad',\n",
              " 'it is so bad',\n",
              " 'wow it is a good movie']"
            ]
          },
          "metadata": {},
          "execution_count": 22
        }
      ]
    },
    {
      "cell_type": "code",
      "source": [
        "from tensorflow.keras.preprocessing.text import Tokenizer\n",
        "tk = Tokenizer()\n",
        "tk.fit_on_texts(samples)"
      ],
      "metadata": {
        "id": "bK7TFAxghuyH"
      },
      "execution_count": 23,
      "outputs": []
    },
    {
      "cell_type": "code",
      "source": [
        "print('생성된 딕셔너리:', tk.word_index)\n",
        "print('단어 카운트:', tk.word_counts)\n",
        "print('단어 하나가 몇개의 문장에 포함되어 있는가:', tk.word_docs)\n",
        "print('문장(샘플) 카운트:', tk.document_count)"
      ],
      "metadata": {
        "id": "NOMD-mKyibr8",
        "colab": {
          "base_uri": "https://localhost:8080/"
        },
        "outputId": "f0b1e9f0-84a1-4a1a-a6b0-f55e52d43346"
      },
      "execution_count": 24,
      "outputs": [
        {
          "output_type": "stream",
          "name": "stdout",
          "text": [
            "생성된 딕셔너리: {'movie': 1, 'is': 2, 'bad': 3, 'it': 4, 'very': 5, 'nice': 6, 'this': 7, 'so': 8, 'wow': 9, 'a': 10, 'good': 11}\n",
            "단어 카운트: OrderedDict([('very', 1), ('nice', 1), ('movie', 3), ('this', 1), ('is', 3), ('bad', 2), ('it', 2), ('so', 1), ('wow', 1), ('a', 1), ('good', 1)])\n",
            "단어 하나가 몇개의 문장에 포함되어 있는가: defaultdict(<class 'int'>, {'very': 1, 'nice': 1, 'movie': 3, 'this': 1, 'bad': 2, 'is': 3, 'it': 2, 'so': 1, 'wow': 1, 'good': 1, 'a': 1})\n",
            "문장(샘플) 카운트: 4\n"
          ]
        }
      ]
    },
    {
      "cell_type": "markdown",
      "source": [
        "#### **단어 인덱싱**"
      ],
      "metadata": {
        "id": "K7A_XvdfhdT4"
      }
    },
    {
      "cell_type": "code",
      "source": [
        "seas = tk.texts_to_sequences(samples)\n",
        "print('단어 인덱싱 결과:', seas)"
      ],
      "metadata": {
        "id": "PPZG6lkfid_-",
        "colab": {
          "base_uri": "https://localhost:8080/"
        },
        "outputId": "ac845d39-96ce-4105-a624-da101054f0fb"
      },
      "execution_count": 25,
      "outputs": [
        {
          "output_type": "stream",
          "name": "stdout",
          "text": [
            "단어 인덱싱 결과: [[5, 6, 1], [7, 1, 2, 3], [4, 2, 8, 3], [9, 4, 2, 10, 11, 1]]\n"
          ]
        }
      ]
    },
    {
      "cell_type": "code",
      "source": [
        "##########\n",
        "plt.figure(figsize = (len(samples)*2, 4))\n",
        "for i, sample in enumerate(samples):\n",
        "    indexed = np.array(seas[i])\n",
        "    plt.subplot(1, len(samples), i + 1)\n",
        "    sns.heatmap(indexed.reshape(len(indexed), 1), cmap = 'gray',\n",
        "                annot = True, cbar = False,\n",
        "                yticklabels = sample.split(' '),\n",
        "                xticklabels = [])\n",
        "plt.show()"
      ],
      "metadata": {
        "id": "rnk2iV_XhTfy",
        "colab": {
          "base_uri": "https://localhost:8080/",
          "height": 248
        },
        "outputId": "220d30fc-01d7-47e0-9ed2-09ce8b5abdcc"
      },
      "execution_count": 33,
      "outputs": [
        {
          "output_type": "display_data",
          "data": {
            "text/plain": [
              "<Figure size 576x288 with 4 Axes>"
            ],
            "image/png": "[encoded data removed]"
          },
          "metadata": {
            "needs_background": "light"
          }
        }
      ]
    },
    {
      "cell_type": "markdown",
      "source": [
        "#### **패딩**"
      ],
      "metadata": {
        "id": "Qn-KEjZShneG"
      }
    },
    {
      "cell_type": "code",
      "source": [
        "from tensorflow.keras.preprocessing.sequence import pad_sequences\n",
        "\n",
        "pads = pad_sequences(seas, 6)\n",
        "print('Before padding:\\n ', seas, np.array(seas).shape)\n",
        "print('패딩 결과: \\n', pads, pads.shape)"
      ],
      "metadata": {
        "id": "U9ExtwrFitNX",
        "colab": {
          "base_uri": "https://localhost:8080/"
        },
        "outputId": "9bffbbff-cb0a-4f07-b1f1-a8eedb638d4e"
      },
      "execution_count": 37,
      "outputs": [
        {
          "output_type": "stream",
          "name": "stdout",
          "text": [
            "Before padding:\n",
            "  [[5, 6, 1], [7, 1, 2, 3], [4, 2, 8, 3], [9, 4, 2, 10, 11, 1]] (4,)\n",
            "패딩 결과: \n",
            " [[ 0  0  0  5  6  1]\n",
            " [ 0  0  7  1  2  3]\n",
            " [ 0  0  4  2  8  3]\n",
            " [ 9  4  2 10 11  1]] (4, 6)\n"
          ]
        },
        {
          "output_type": "stream",
          "name": "stderr",
          "text": [
            "/usr/local/lib/python3.7/dist-packages/ipykernel_launcher.py:4: VisibleDeprecationWarning: Creating an ndarray from ragged nested sequences (which is a list-or-tuple of lists-or-tuples-or ndarrays with different lengths or shapes) is deprecated. If you meant to do this, you must specify 'dtype=object' when creating the ndarray.\n",
            "  after removing the cwd from sys.path.\n"
          ]
        }
      ]
    },
    {
      "cell_type": "code",
      "source": [
        "plt.figure(figsize = (len(samples)*2, 4))\n",
        "for i, sample in enumerate(samples):\n",
        "    plt.subplot(1, len(samples), i +1)\n",
        "    sns.heatmap(pads[i].reshape(len(indexed), 1), cmap = 'gray',\n",
        "                annot = True, cbar = False,\n",
        "                yticklabels = ['']*(6-len(sample.split(' ')))+ sample.split(' '),\n",
        "                xticklabels = [])\n",
        "plt.show()"
      ],
      "metadata": {
        "id": "1pnYg9XYhgri",
        "colab": {
          "base_uri": "https://localhost:8080/",
          "height": 248
        },
        "outputId": "9c41614a-6f34-4dd6-a0c6-9d11bf8f4e9b"
      },
      "execution_count": 39,
      "outputs": [
        {
          "output_type": "display_data",
          "data": {
            "text/plain": [
              "<Figure size 576x288 with 4 Axes>"
            ],
            "image/png": "[encoded data removed]"
          },
          "metadata": {
            "needs_background": "light"
          }
        }
      ]
    },
    {
      "cell_type": "markdown",
      "source": [
        "#### **원핫 인코딩**"
      ],
      "metadata": {
        "id": "4dxENhJPhs_y"
      }
    },
    {
      "cell_type": "code",
      "source": [
        "len(word_dict)"
      ],
      "metadata": {
        "id": "Cm1IFHXihxUZ",
        "colab": {
          "base_uri": "https://localhost:8080/"
        },
        "outputId": "1dc9276e-77aa-4d83-c152-e7580e8ce988"
      },
      "execution_count": 40,
      "outputs": [
        {
          "output_type": "execute_result",
          "data": {
            "text/plain": [
              "11"
            ]
          },
          "metadata": {},
          "execution_count": 40
        }
      ]
    },
    {
      "cell_type": "code",
      "source": [
        "pads"
      ],
      "metadata": {
        "colab": {
          "base_uri": "https://localhost:8080/"
        },
        "id": "xfdOfgYK8PGh",
        "outputId": "a6913165-8134-4717-bafe-7561f71bb512"
      },
      "execution_count": 41,
      "outputs": [
        {
          "output_type": "execute_result",
          "data": {
            "text/plain": [
              "array([[ 0,  0,  0,  5,  6,  1],\n",
              "       [ 0,  0,  7,  1,  2,  3],\n",
              "       [ 0,  0,  4,  2,  8,  3],\n",
              "       [ 9,  4,  2, 10, 11,  1]], dtype=int32)"
            ]
          },
          "metadata": {},
          "execution_count": 41
        }
      ]
    },
    {
      "cell_type": "code",
      "source": [
        "# 인풋 시퀀스는 길이가 동일!\n",
        "onehots = utils.to_categorical(pads, num_classes = len(word_dict)+1) # 단어 개수 +1 해주기\n",
        "# +1 하는 이유는 단어가 없거나/ 딕셔너리에 존재하지 않는 단어는 첫번째 클래스에 할당\n",
        "print(pads.shape, onehots.shape)"
      ],
      "metadata": {
        "id": "fP_5p5BGiV-4",
        "colab": {
          "base_uri": "https://localhost:8080/"
        },
        "outputId": "87ad27d3-dbaf-4b10-ae1b-4f6e76d6e88a"
      },
      "execution_count": 48,
      "outputs": [
        {
          "output_type": "stream",
          "name": "stdout",
          "text": [
            "(4, 6) (4, 6, 12)\n"
          ]
        }
      ]
    },
    {
      "cell_type": "code",
      "source": [
        "samples[1].split(' ')"
      ],
      "metadata": {
        "colab": {
          "base_uri": "https://localhost:8080/"
        },
        "id": "bDW-1T2C_or-",
        "outputId": "dbf71a2f-a22c-4b82-be08-424b1da6e10b"
      },
      "execution_count": 52,
      "outputs": [
        {
          "output_type": "execute_result",
          "data": {
            "text/plain": [
              "['this', 'movie', 'is', 'bad']"
            ]
          },
          "metadata": {},
          "execution_count": 52
        }
      ]
    },
    {
      "cell_type": "code",
      "source": [
        "plt.figure(figsize = (len(samples)*3, 4))\n",
        "for i, sample in enumerate(samples):\n",
        "    plt.subplot(1, len(samples), i + 1)\n",
        "    sns.heatmap(onehots[i], cmap = 'Blues',\n",
        "                annot = True, cbar = False,\n",
        "                yticklabels = ['']*(6-len(sample.split(' '))) + sample.split(' '),\n",
        "                xticklabels = [])\n",
        "plt.show()"
      ],
      "metadata": {
        "colab": {
          "base_uri": "https://localhost:8080/",
          "height": 248
        },
        "id": "8Sr9RmSW9ssv",
        "outputId": "71928699-30c4-4bce-a069-9b4e4f7d9d50"
      },
      "execution_count": 58,
      "outputs": [
        {
          "output_type": "display_data",
          "data": {
            "text/plain": [
              "<Figure size 864x288 with 4 Axes>"
            ],
            "image/png": "[encoded data removed]"
          },
          "metadata": {
            "needs_background": "light"
          }
        }
      ]
    },
    {
      "cell_type": "code",
      "source": [
        "# 원핫 인코딩 결과\n",
        "# 행: 샘플 하나의 최대 길이\n",
        "# 열: 단어 하나가 몇개의 dimension으로 표현될 수 있는가"
      ],
      "metadata": {
        "id": "oivTrne7i4BA"
      },
      "execution_count": null,
      "outputs": []
    },
    {
      "cell_type": "markdown",
      "source": [
        "#### **단어 임베딩**"
      ],
      "metadata": {
        "id": "vynVTAfjkV1S"
      }
    },
    {
      "cell_type": "code",
      "source": [
        "# 단어 하나가 표현할 수 있는 dimension이 자유롭다. \n",
        "# 원핫 인코딩 처럼 단어 하나를 딕셔너리에 있는 단어 수의 크기만큼의 dimension으로 표현 하지 않아도 됨\n",
        "# 1: word 2: hello 3:any\n",
        "# my   1 0 0 0\n",
        "# word 0 1 0 0"
      ],
      "metadata": {
        "id": "iJGDnvra_Ois"
      },
      "execution_count": null,
      "outputs": []
    },
    {
      "cell_type": "code",
      "source": [
        "pads.shape"
      ],
      "metadata": {
        "id": "UBEezkcbjSRq",
        "colab": {
          "base_uri": "https://localhost:8080/"
        },
        "outputId": "7ed1b32e-4f10-4050-ba4b-ce882ee28b5b"
      },
      "execution_count": 59,
      "outputs": [
        {
          "output_type": "execute_result",
          "data": {
            "text/plain": [
              "(4, 6)"
            ]
          },
          "metadata": {},
          "execution_count": 59
        }
      ]
    },
    {
      "cell_type": "code",
      "source": [
        "# 인풋 :패딩된 sequences\n",
        "# 딕셔너리의 모든 영어단어수 11 + 1\n",
        "embedding_layer = layers.Embedding(input_dim = 12, output_dim = 3) # 원핫처리후 임베딩\n",
        "# 학습이 필요한 레이어"
      ],
      "metadata": {
        "id": "AJoXjdphCdSc"
      },
      "execution_count": 60,
      "outputs": []
    },
    {
      "cell_type": "code",
      "source": [
        "pads[0]"
      ],
      "metadata": {
        "colab": {
          "base_uri": "https://localhost:8080/"
        },
        "id": "P2TULwyaDYlb",
        "outputId": "7929445b-cea6-4ea1-f0bf-18745fc74874"
      },
      "execution_count": 62,
      "outputs": [
        {
          "output_type": "execute_result",
          "data": {
            "text/plain": [
              "array([0, 0, 0, 5, 6, 1], dtype=int32)"
            ]
          },
          "metadata": {},
          "execution_count": 62
        }
      ]
    },
    {
      "cell_type": "code",
      "source": [
        "embeded = embedding_layer(pads[0])\n",
        "embeded.shape"
      ],
      "metadata": {
        "colab": {
          "base_uri": "https://localhost:8080/"
        },
        "id": "HxY2mXLPDMrs",
        "outputId": "049e54c7-ea63-4a37-f7fd-baf283ea1162"
      },
      "execution_count": 61,
      "outputs": [
        {
          "output_type": "execute_result",
          "data": {
            "text/plain": [
              "TensorShape([6, 3])"
            ]
          },
          "metadata": {},
          "execution_count": 61
        }
      ]
    },
    {
      "cell_type": "code",
      "source": [
        "plt.figure(figsize = (len(samples)*3, 4))\n",
        "for i, sample in enumerate(samples):\n",
        "    embeded = embedding_layer(pads[i])\n",
        "    plt.subplot(1, len(samples), i + 1)\n",
        "    sns.heatmap(embeded, cmap = 'Blues',\n",
        "                annot = True, cbar = False,\n",
        "                yticklabels = ['']*(6-len(sample.split(' ')))+sample.split(' '),\n",
        "                xticklabels = [])\n",
        "plt.show()"
      ],
      "metadata": {
        "colab": {
          "base_uri": "https://localhost:8080/",
          "height": 248
        },
        "id": "b7vhRV5QEWwF",
        "outputId": "231f2cf3-f555-4c4e-b041-2f2950d42b9b"
      },
      "execution_count": 64,
      "outputs": [
        {
          "output_type": "display_data",
          "data": {
            "text/plain": [
              "<Figure size 864x288 with 4 Axes>"
            ],
            "image/png": "[encoded data removed]"
          },
          "metadata": {
            "needs_background": "light"
          }
        }
      ]
    },
    {
      "cell_type": "markdown",
      "source": [
        "## 간단 예제\n",
        "---"
      ],
      "metadata": {
        "id": "_qAvInrFdSXD"
      }
    },
    {
      "cell_type": "markdown",
      "source": [
        "### | **텍스트 전처리**"
      ],
      "metadata": {
        "id": "xweowVT7e2Kh"
      }
    },
    {
      "cell_type": "code",
      "source": [
        "docs = [\"너무 재미 있네요\",\n",
        "        \"최고 예요\",\n",
        "        \"참 잘 만든 영화 예요\",\n",
        "        \"추천 하고 싶은 영화 입니다\",\n",
        "        \"한번 더 보고 싶네요\",\n",
        "        \"글쎄 요\",\"별로 예요\",\"생각 보다 지루 하네요\",\n",
        "        \"연기 가 어색 해요\",\"재미 있어서 한번 더 볼거에요\", \"별로 재미 가 없어요\", \"재미 있고 잘 만든 영화 입니다\",\n",
        "        \"재미 가 별로 없어요\", \"별로 예요\"]\n",
        "classes = np.array([1,1,1,1,1,0,0,0,0,1,0,1,0,0]) # 긍정:1 , 부정:0\n",
        "print(len(docs), classes.shape)\n",
        "\n",
        "# 토큰\n",
        "token = Tokenizer()\n",
        "token.fit_on_texts(docs)\n",
        "print('딕셔너리:', token.word_index)\n",
        "print('딕셔너리 총 단어 개수:', len(token.word_index))\n",
        "\n",
        "# 인덱싱\n",
        "x = token.texts_to_sequences(docs)\n",
        "print(x)\n",
        "\n",
        "# 패딩\n",
        "x_pad = pad_sequences(x, 6) # 한 문장에 최대 몇개의 단어?\n",
        "print('패딩 결과\\n', x_pad, x_pad.shape)"
      ],
      "metadata": {
        "id": "pPV-RtzMu3F8",
        "colab": {
          "base_uri": "https://localhost:8080/"
        },
        "outputId": "c9f88cd4-bcd5-4047-cd99-65f81d0f853a"
      },
      "execution_count": 66,
      "outputs": [
        {
          "output_type": "stream",
          "name": "stdout",
          "text": [
            "14 (14,)\n",
            "딕셔너리: {'재미': 1, '예요': 2, '별로': 3, '영화': 4, '가': 5, '잘': 6, '만든': 7, '입니다': 8, '한번': 9, '더': 10, '없어요': 11, '너무': 12, '있네요': 13, '최고': 14, '참': 15, '추천': 16, '하고': 17, '싶은': 18, '보고': 19, '싶네요': 20, '글쎄': 21, '요': 22, '생각': 23, '보다': 24, '지루': 25, '하네요': 26, '연기': 27, '어색': 28, '해요': 29, '있어서': 30, '볼거에요': 31, '있고': 32}\n",
            "딕셔너리 총 단어 개수: 32\n",
            "[[12, 1, 13], [14, 2], [15, 6, 7, 4, 2], [16, 17, 18, 4, 8], [9, 10, 19, 20], [21, 22], [3, 2], [23, 24, 25, 26], [27, 5, 28, 29], [1, 30, 9, 10, 31], [3, 1, 5, 11], [1, 32, 6, 7, 4, 8], [1, 5, 3, 11], [3, 2]]\n",
            "패딩 결과\n",
            " [[ 0  0  0 12  1 13]\n",
            " [ 0  0  0  0 14  2]\n",
            " [ 0 15  6  7  4  2]\n",
            " [ 0 16 17 18  4  8]\n",
            " [ 0  0  9 10 19 20]\n",
            " [ 0  0  0  0 21 22]\n",
            " [ 0  0  0  0  3  2]\n",
            " [ 0  0 23 24 25 26]\n",
            " [ 0  0 27  5 28 29]\n",
            " [ 0  1 30  9 10 31]\n",
            " [ 0  0  3  1  5 11]\n",
            " [ 1 32  6  7  4  8]\n",
            " [ 0  0  1  5  3 11]\n",
            " [ 0  0  0  0  3  2]] (14, 6)\n"
          ]
        }
      ]
    },
    {
      "cell_type": "markdown",
      "source": [
        "### | **모델 구현 및 학습**"
      ],
      "metadata": {
        "id": "eurAGRoOe4zR"
      }
    },
    {
      "cell_type": "code",
      "source": [
        "# 단어 하나가 원-핫인코딩 되면 크기몇의 벡터로 표현?: 32 + 1(딕셔너리에 없는 / 비어있는 단어)"
      ],
      "metadata": {
        "id": "4YSxeeuaZpyd"
      },
      "execution_count": null,
      "outputs": []
    },
    {
      "cell_type": "code",
      "source": [
        "def create_model():\n",
        "    x = layers.Input(shape = 6)\n",
        "    y = layers.Embedding(33,8)(x)\n",
        "    y = layers.Flatten()(y)\n",
        "    y = layers.Dense(1, activation = 'sigmoid')(y) # 이진분류\n",
        "    return models.Model(x,y)\n",
        "model = create_model()\n",
        "model.summary()"
      ],
      "metadata": {
        "id": "Q1uY45u5Zz4I",
        "colab": {
          "base_uri": "https://localhost:8080/"
        },
        "outputId": "4e481071-3b53-4c04-b9f2-c727016df757"
      },
      "execution_count": 67,
      "outputs": [
        {
          "output_type": "stream",
          "name": "stdout",
          "text": [
            "Model: \"model\"\n",
            "_________________________________________________________________\n",
            " Layer (type)                Output Shape              Param #   \n",
            "=================================================================\n",
            " input_1 (InputLayer)        [(None, 6)]               0         \n",
            "                                                                 \n",
            " embedding_1 (Embedding)     (None, 6, 8)              264       \n",
            "                                                                 \n",
            " flatten (Flatten)           (None, 48)                0         \n",
            "                                                                 \n",
            " dense (Dense)               (None, 1)                 49        \n",
            "                                                                 \n",
            "=================================================================\n",
            "Total params: 313\n",
            "Trainable params: 313\n",
            "Non-trainable params: 0\n",
            "_________________________________________________________________\n"
          ]
        }
      ]
    },
    {
      "cell_type": "code",
      "source": [
        "model.compile(optimizer = 'adam',\n",
        "              loss = 'binary_crossentropy',\n",
        "              metrics = ['acc'],)\n",
        "model.fit(x_pad, classes, epochs = 20)"
      ],
      "metadata": {
        "colab": {
          "base_uri": "https://localhost:8080/"
        },
        "id": "W40lMJeKJK06",
        "outputId": "71f5b847-9df8-4fec-e7dc-557e86dfe4f5"
      },
      "execution_count": 70,
      "outputs": [
        {
          "output_type": "stream",
          "name": "stdout",
          "text": [
            "Epoch 1/20\n",
            "1/1 [==============================] - 1s 791ms/step - loss: 0.6950 - acc: 0.5000\n",
            "Epoch 2/20\n",
            "1/1 [==============================] - 0s 11ms/step - loss: 0.6925 - acc: 0.6429\n",
            "Epoch 3/20\n",
            "1/1 [==============================] - 0s 8ms/step - loss: 0.6900 - acc: 0.6429\n",
            "Epoch 4/20\n",
            "1/1 [==============================] - 0s 7ms/step - loss: 0.6875 - acc: 0.6429\n",
            "Epoch 5/20\n",
            "1/1 [==============================] - 0s 6ms/step - loss: 0.6850 - acc: 0.7143\n",
            "Epoch 6/20\n",
            "1/1 [==============================] - 0s 7ms/step - loss: 0.6825 - acc: 0.7143\n",
            "Epoch 7/20\n",
            "1/1 [==============================] - 0s 7ms/step - loss: 0.6801 - acc: 0.7143\n",
            "Epoch 8/20\n",
            "1/1 [==============================] - 0s 6ms/step - loss: 0.6776 - acc: 0.7143\n",
            "Epoch 9/20\n",
            "1/1 [==============================] - 0s 7ms/step - loss: 0.6752 - acc: 0.8571\n",
            "Epoch 10/20\n",
            "1/1 [==============================] - 0s 6ms/step - loss: 0.6727 - acc: 0.8571\n",
            "Epoch 11/20\n",
            "1/1 [==============================] - 0s 15ms/step - loss: 0.6703 - acc: 0.8571\n",
            "Epoch 12/20\n",
            "1/1 [==============================] - 0s 15ms/step - loss: 0.6678 - acc: 0.9286\n",
            "Epoch 13/20\n",
            "1/1 [==============================] - 0s 6ms/step - loss: 0.6654 - acc: 0.9286\n",
            "Epoch 14/20\n",
            "1/1 [==============================] - 0s 10ms/step - loss: 0.6629 - acc: 0.9286\n",
            "Epoch 15/20\n",
            "1/1 [==============================] - 0s 8ms/step - loss: 0.6605 - acc: 0.9286\n",
            "Epoch 16/20\n",
            "1/1 [==============================] - 0s 8ms/step - loss: 0.6580 - acc: 0.9286\n",
            "Epoch 17/20\n",
            "1/1 [==============================] - 0s 16ms/step - loss: 0.6556 - acc: 0.9286\n",
            "Epoch 18/20\n",
            "1/1 [==============================] - 0s 9ms/step - loss: 0.6531 - acc: 1.0000\n",
            "Epoch 19/20\n",
            "1/1 [==============================] - 0s 9ms/step - loss: 0.6506 - acc: 1.0000\n",
            "Epoch 20/20\n",
            "1/1 [==============================] - 0s 8ms/step - loss: 0.6481 - acc: 1.0000\n"
          ]
        },
        {
          "output_type": "execute_result",
          "data": {
            "text/plain": [
              "<keras.callbacks.History at 0x7f5c6753d810>"
            ]
          },
          "metadata": {},
          "execution_count": 70
        }
      ]
    },
    {
      "cell_type": "markdown",
      "source": [
        "### **| 예측**"
      ],
      "metadata": {
        "id": "AJ-eNZ-Ge-xp"
      }
    },
    {
      "cell_type": "code",
      "source": [
        "# 0.5 기준, 0이면 부정, 1이면 긍정 \n",
        "preds = model.predict(x_pad)\n",
        "for i in range(len(preds)):\n",
        "    print(docs[i], np.round(preds[i][0]))"
      ],
      "metadata": {
        "id": "ZfSIV2RVu3Q1",
        "colab": {
          "base_uri": "https://localhost:8080/"
        },
        "outputId": "a5867165-08a0-432c-ebae-1c09ca8eb70c"
      },
      "execution_count": 72,
      "outputs": [
        {
          "output_type": "stream",
          "name": "stdout",
          "text": [
            "너무 재미 있네요 1.0\n",
            "최고 예요 1.0\n",
            "참 잘 만든 영화 예요 1.0\n",
            "추천 하고 싶은 영화 입니다 1.0\n",
            "한번 더 보고 싶네요 1.0\n",
            "글쎄 요 0.0\n",
            "별로 예요 0.0\n",
            "생각 보다 지루 하네요 0.0\n",
            "연기 가 어색 해요 0.0\n",
            "재미 있어서 한번 더 볼거에요 1.0\n",
            "별로 재미 가 없어요 0.0\n",
            "재미 있고 잘 만든 영화 입니다 1.0\n",
            "재미 가 별로 없어요 0.0\n",
            "별로 예요 0.0\n"
          ]
        }
      ]
    },
    {
      "cell_type": "code",
      "source": [
        "docs_test = ['생각 보다 별로 예요', '별로']\n",
        "\n",
        "# 인덱싱\n",
        "x_test = token.texts_to_sequences(docs_test)\n",
        "print(x_test)\n",
        "# 패딩\n",
        "x_test = pad_sequences(x_test, 6) # 한 문장에 최대 몇개의 단어?\n",
        "print('패딩 결과\\n', x_test, x_test.shape)"
      ],
      "metadata": {
        "id": "AMENFMmIcbiw",
        "colab": {
          "base_uri": "https://localhost:8080/"
        },
        "outputId": "2c2552dc-e9e6-4ae5-94cf-1c1177259727"
      },
      "execution_count": 76,
      "outputs": [
        {
          "output_type": "stream",
          "name": "stdout",
          "text": [
            "[[23, 24, 3, 2], [3]]\n",
            "패딩 결과\n",
            " [[ 0  0 23 24  3  2]\n",
            " [ 0  0  0  0  0  3]] (2, 6)\n"
          ]
        }
      ]
    },
    {
      "cell_type": "code",
      "source": [
        "# 0.5 기준, 0이면 부정, 1이면 긍정\n",
        "preds = model.predict(x_test)\n",
        "for i in range(len(preds)):\n",
        "    print(docs_test[i], preds[i][0], np.round(preds[i][0]))"
      ],
      "metadata": {
        "colab": {
          "base_uri": "https://localhost:8080/"
        },
        "id": "hZs86JObJ2uH",
        "outputId": "c92fd456-b87b-45f1-fd2e-ff6f94f5b16c"
      },
      "execution_count": 78,
      "outputs": [
        {
          "output_type": "stream",
          "name": "stdout",
          "text": [
            "생각 보다 별로 예요 0.4567607 0.0\n",
            "별로 0.4898295 0.0\n"
          ]
        }
      ]
    }
  ]
}