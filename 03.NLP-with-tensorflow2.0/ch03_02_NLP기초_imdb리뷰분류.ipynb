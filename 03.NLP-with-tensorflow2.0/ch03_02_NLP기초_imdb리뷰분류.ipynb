{
  "nbformat": 4,
  "nbformat_minor": 0,
  "metadata": {
    "colab": {
      "name": "ch03_02_NLP기초-imdb리뷰분류.ipynb",
      "provenance": [],
      "collapsed_sections": [],
      "include_colab_link": true
    },
    "kernelspec": {
      "name": "python3",
      "display_name": "Python 3"
    },
    "language_info": {
      "name": "python"
    },
    "gpuClass": "standard"
  },
  "cells": [
    {
      "cell_type": "markdown",
      "metadata": {
        "id": "view-in-github",
        "colab_type": "text"
      },
      "source": [
        "<a href=\"https://colab.research.google.com/github/PomesHouse/SkillTreePython-DeepLearning/blob/main/03.NLP-with-tensorflow2.0/ch03_02_NLP%EA%B8%B0%EC%B4%88_imdb%EB%A6%AC%EB%B7%B0%EB%B6%84%EB%A5%98.ipynb\" target=\"_parent\"><img src=\"https://colab.research.google.com/assets/colab-badge.svg\" alt=\"Open In Colab\"/></a>"
      ]
    },
    {
      "cell_type": "markdown",
      "source": [
        "# ch03.02 NLP기초 - imdb 리뷰 분류\n",
        "---\n",
        "\n",
        "* 날짜:\n",
        "* 이름:\n",
        "\n",
        "## 학습내용\n",
        "    - 텍스트 전처리 과정을 이해한다.\n",
        "      * 텍스트 토큰화\n",
        "      * 텍스트 인덱싱\n",
        "      * 원-핫 인코딩\n",
        "      * 텍스트 임베딩\n",
        "    - 간단한 문장을 분류하는 딥러닝 모델을 구현한다.\n",
        "\n"
      ],
      "metadata": {
        "id": "sWs2kEC1_b-P"
      }
    },
    {
      "cell_type": "markdown",
      "source": [
        "```\n",
        "! git clone https://github.com/yebiny/SkillTreePython-DeepLearning\n",
        "```"
      ],
      "metadata": {
        "id": "zml97VsFlWC1"
      }
    },
    {
      "cell_type": "code",
      "execution_count": 2,
      "metadata": {
        "id": "lqjonRF6KbGY",
        "colab": {
          "base_uri": "https://localhost:8080/"
        },
        "outputId": "bc99f2c6-b3d6-49dc-8824-fef8e269a175"
      },
      "outputs": [
        {
          "output_type": "stream",
          "name": "stdout",
          "text": [
            "Cloning into 'SkillTreePython-DeepLearning'...\n",
            "remote: Enumerating objects: 695, done.\u001b[K\n",
            "remote: Counting objects: 100% (268/268), done.\u001b[K\n",
            "remote: Compressing objects: 100% (112/112), done.\u001b[K\n",
            "remote: Total 695 (delta 163), reused 255 (delta 155), pack-reused 427\u001b[K\n",
            "Receiving objects: 100% (695/695), 38.00 MiB | 32.05 MiB/s, done.\n",
            "Resolving deltas: 100% (356/356), done.\n"
          ]
        }
      ],
      "source": [
        "! git clone https://github.com/yebiny/SkillTreePython-DeepLearning"
      ]
    },
    {
      "cell_type": "markdown",
      "source": [
        "```\n",
        "import sys\n",
        "sys.path.append('/content/SkillTreePython-DeepLearning/scripts')\n",
        "from import_lib import *\n",
        "```"
      ],
      "metadata": {
        "id": "iDliBVhLlYiY"
      }
    },
    {
      "cell_type": "code",
      "source": [
        "import sys\n",
        "sys.path.append('/content/SkillTreePython-DeepLearning/scripts')\n",
        "from import_lib import *"
      ],
      "metadata": {
        "id": "InMFlAq4Xwge"
      },
      "execution_count": 3,
      "outputs": []
    },
    {
      "cell_type": "markdown",
      "source": [
        "## FCN 모델을 이용한 영화리뷰 분류\n",
        "---"
      ],
      "metadata": {
        "id": "VU3BLoJCGSlV"
      }
    },
    {
      "cell_type": "markdown",
      "source": [
        "### **| 데이터 처리**"
      ],
      "metadata": {
        "id": "UiHqcR2ANSyg"
      }
    },
    {
      "cell_type": "code",
      "execution_count": 4,
      "metadata": {
        "id": "VVsT77Gieb4m",
        "colab": {
          "base_uri": "https://localhost:8080/"
        },
        "outputId": "fbd239db-8676-4ff9-e799-68010217b87f"
      },
      "outputs": [
        {
          "output_type": "stream",
          "name": "stdout",
          "text": [
            "Downloading data from https://storage.googleapis.com/tensorflow/tf-keras-datasets/imdb.npz\n",
            "17465344/17464789 [==============================] - 0s 0us/step\n",
            "17473536/17464789 [==============================] - 0s 0us/step\n",
            "(25000,) (25000,) (25000,) (25000,)\n"
          ]
        }
      ],
      "source": [
        "from tensorflow.keras.datasets import imdb\n",
        "# FCN: Fully connected entwork (Dense layer)\n",
        "max_features = 500 # 많은 단어를 사용할 수록 성능 향상? -> 다차원 데이터를 다루기 위해서는 FCN으로는 어렵다\n",
        "max_len = 100 # 문장안에 존재할 최대 단어수\n",
        "# 문장 -> (단어의 개수, 각 단어의 벡터차원)\n",
        "(x_train, y_train),(x_test, y_test) = imdb.load_data(num_words = max_features) #  몇개의 단어를 사용할 것인가\n",
        "print(x_train.shape, y_train.shape, x_test.shape, y_test.shape)"
      ]
    },
    {
      "cell_type": "code",
      "source": [
        "print('첫번째 리뷰:', x_train[0])\n",
        "print('첫번째 리뷰의 단어 개수:', len(x_train[0]))\n",
        "print('첫번째 리뷰의 클래스:', y_train[0])"
      ],
      "metadata": {
        "id": "30OhC62r3LUA",
        "colab": {
          "base_uri": "https://localhost:8080/"
        },
        "outputId": "13464495-c681-4c9e-cf7f-062363a6a75e"
      },
      "execution_count": 5,
      "outputs": [
        {
          "output_type": "stream",
          "name": "stdout",
          "text": [
            "첫번째 리뷰: [1, 14, 22, 16, 43, 2, 2, 2, 2, 65, 458, 2, 66, 2, 4, 173, 36, 256, 5, 25, 100, 43, 2, 112, 50, 2, 2, 9, 35, 480, 284, 5, 150, 4, 172, 112, 167, 2, 336, 385, 39, 4, 172, 2, 2, 17, 2, 38, 13, 447, 4, 192, 50, 16, 6, 147, 2, 19, 14, 22, 4, 2, 2, 469, 4, 22, 71, 87, 12, 16, 43, 2, 38, 76, 15, 13, 2, 4, 22, 17, 2, 17, 12, 16, 2, 18, 2, 5, 62, 386, 12, 8, 316, 8, 106, 5, 4, 2, 2, 16, 480, 66, 2, 33, 4, 130, 12, 16, 38, 2, 5, 25, 124, 51, 36, 135, 48, 25, 2, 33, 6, 22, 12, 215, 28, 77, 52, 5, 14, 407, 16, 82, 2, 8, 4, 107, 117, 2, 15, 256, 4, 2, 7, 2, 5, 2, 36, 71, 43, 2, 476, 26, 400, 317, 46, 7, 4, 2, 2, 13, 104, 88, 4, 381, 15, 297, 98, 32, 2, 56, 26, 141, 6, 194, 2, 18, 4, 226, 22, 21, 134, 476, 26, 480, 5, 144, 30, 2, 18, 51, 36, 28, 224, 92, 25, 104, 4, 226, 65, 16, 38, 2, 88, 12, 16, 283, 5, 16, 2, 113, 103, 32, 15, 16, 2, 19, 178, 32]\n",
            "첫번째 리뷰의 단어 개수: 218\n",
            "첫번째 리뷰의 클래스: 1\n"
          ]
        }
      ]
    },
    {
      "cell_type": "code",
      "source": [
        "# 문장 안에 단어가 몇개씩 들어있는가?\n",
        "x_lens = [len(x) for x in x_train]\n",
        "_ = plt.hist(x_lens, bins = 50)"
      ],
      "metadata": {
        "id": "LR0PZndR34TE",
        "colab": {
          "base_uri": "https://localhost:8080/",
          "height": 265
        },
        "outputId": "5a509bd9-eea2-4831-b0fc-79543d055f8a"
      },
      "execution_count": 6,
      "outputs": [
        {
          "output_type": "display_data",
          "data": {
            "text/plain": [
              "<Figure size 432x288 with 1 Axes>"
            ],
            "image/png": "[encoded data removed]"
          },
          "metadata": {
            "needs_background": "light"
          }
        }
      ]
    },
    {
      "cell_type": "code",
      "source": [
        "# 딕셔너리\n",
        "word2index = imdb.get_word_index()\n",
        "word2index"
      ],
      "metadata": {
        "id": "j_5TdG3l4A-V"
      },
      "execution_count": null,
      "outputs": []
    },
    {
      "cell_type": "code",
      "source": [
        "index2word = {}\n",
        "for word, idx in word2index.items():\n",
        "    index2word[idx + 3] = word"
      ],
      "metadata": {
        "id": "Cl3Y75343_v7"
      },
      "execution_count": 8,
      "outputs": []
    },
    {
      "cell_type": "code",
      "source": [
        "# 첫번째 리뷰 해석\n",
        "review = x_train[0]\n",
        "trans = []\n",
        "for index in review:\n",
        "    if index in index2word.keys():\n",
        "        trans.append(index2word[index])"
      ],
      "metadata": {
        "id": "7bnMqQnae6Cm"
      },
      "execution_count": 9,
      "outputs": []
    },
    {
      "cell_type": "code",
      "source": [
        "print(' '.join(x for x in trans))\n",
        "print(review)"
      ],
      "metadata": {
        "colab": {
          "base_uri": "https://localhost:8080/"
        },
        "id": "nmjRnlQVIWXF",
        "outputId": "ff087385-020b-4a64-89bb-3d13d6c2dae8"
      },
      "execution_count": 13,
      "outputs": [
        {
          "output_type": "stream",
          "name": "stdout",
          "text": [
            "this film was just story direction really the part they played and you could just being there is an amazing actor and now the same being director father came from the same as so i loved the fact there was a real with this film the throughout the film were great it was just so much that i the film as as it was for and would recommend it to everyone to watch and the was amazing really at the end it was so and you know what they say if you at a film it must have been good and this definitely was also to the two little that played the of and they were just children are often left out of the i think because the stars that play them all up are such a big for the whole film but these children are amazing and should be for what they have done don't you think the whole story was so because it was true and was life after all that was with us all\n",
            "[1, 14, 22, 16, 43, 2, 2, 2, 2, 65, 458, 2, 66, 2, 4, 173, 36, 256, 5, 25, 100, 43, 2, 112, 50, 2, 2, 9, 35, 480, 284, 5, 150, 4, 172, 112, 167, 2, 336, 385, 39, 4, 172, 2, 2, 17, 2, 38, 13, 447, 4, 192, 50, 16, 6, 147, 2, 19, 14, 22, 4, 2, 2, 469, 4, 22, 71, 87, 12, 16, 43, 2, 38, 76, 15, 13, 2, 4, 22, 17, 2, 17, 12, 16, 2, 18, 2, 5, 62, 386, 12, 8, 316, 8, 106, 5, 4, 2, 2, 16, 480, 66, 2, 33, 4, 130, 12, 16, 38, 2, 5, 25, 124, 51, 36, 135, 48, 25, 2, 33, 6, 22, 12, 215, 28, 77, 52, 5, 14, 407, 16, 82, 2, 8, 4, 107, 117, 2, 15, 256, 4, 2, 7, 2, 5, 2, 36, 71, 43, 2, 476, 26, 400, 317, 46, 7, 4, 2, 2, 13, 104, 88, 4, 381, 15, 297, 98, 32, 2, 56, 26, 141, 6, 194, 2, 18, 4, 226, 22, 21, 134, 476, 26, 480, 5, 144, 30, 2, 18, 51, 36, 28, 224, 92, 25, 104, 4, 226, 65, 16, 38, 2, 88, 12, 16, 283, 5, 16, 2, 113, 103, 32, 15, 16, 2, 19, 178, 32]\n"
          ]
        }
      ]
    },
    {
      "cell_type": "code",
      "source": [
        "print('imdb 데이터에 있는 모든 단어수:',len(word2index), len(index2word))\n",
        "print('우리가 사용할 단어수: ', max_features)\n",
        "# 빈도수 순서로 500개 단어에 대해서만 원핫"
      ],
      "metadata": {
        "colab": {
          "base_uri": "https://localhost:8080/"
        },
        "id": "x6eOBW2sIiwy",
        "outputId": "af16d705-0cfc-42b4-cc12-bee302e8bb92"
      },
      "execution_count": 12,
      "outputs": [
        {
          "output_type": "stream",
          "name": "stdout",
          "text": [
            "imdb 데이터에 있는 모든 단어수: 88584 88584\n",
            "우리가 사용할 단어수:  500\n"
          ]
        }
      ]
    },
    {
      "cell_type": "code",
      "source": [
        "print('빈도가 높은 단어:',index2word[4], index2word[5], index2word[6])"
      ],
      "metadata": {
        "colab": {
          "base_uri": "https://localhost:8080/"
        },
        "id": "gbhERYfuJHRs",
        "outputId": "ba9e37ad-5520-408c-88a1-b81cc92ba9e7"
      },
      "execution_count": 15,
      "outputs": [
        {
          "output_type": "stream",
          "name": "stdout",
          "text": [
            "빈도가 높은 단어: the and a\n"
          ]
        }
      ]
    },
    {
      "cell_type": "code",
      "source": [
        "from tensorflow.keras.datasets import imdb\n",
        "# FCN: Fully connected entwork (Dense layer)\n",
        "max_features = 500 # 많은 단어를 사용할 수록 성능 향상? -> 다차원 데이터를 다루기 위해서는 FCN으로는 어렵다\n",
        "max_len = 100 # 문장안에 존재할 최대 단어수\n",
        "# 문장 -> (단어의 개수, 각 단어의 벡터차원)\n",
        "(x_train, y_train),(x_test, y_test) = imdb.load_data(num_words = max_features) #  몇개의 단어를 사용할 것인가\n",
        "print(x_train.shape, y_train.shape, x_test.shape, y_test.shape)\n",
        "\n",
        "print('패딩 전:', x_train.shape, y_test.shape)\n",
        "x_train = preprocessing.sequence.pad_sequences(x_train, maxlen = max_len)\n",
        "x_test = preprocessing.sequence.pad_sequences(x_test, maxlen = max_len)\n",
        "print('패딩 후:' ,x_train.shape, x_test.shape)"
      ],
      "metadata": {
        "colab": {
          "base_uri": "https://localhost:8080/"
        },
        "id": "320oZPZ9JcWL",
        "outputId": "0410790b-aadb-4a37-dbf5-448d561adf5a"
      },
      "execution_count": 19,
      "outputs": [
        {
          "output_type": "stream",
          "name": "stdout",
          "text": [
            "(25000,) (25000,) (25000,) (25000,)\n",
            "패딩 전: (25000,) (25000,)\n",
            "패딩 후: (25000, 100) (25000, 100)\n"
          ]
        }
      ]
    },
    {
      "cell_type": "markdown",
      "source": [
        "### **| 모델 학습**"
      ],
      "metadata": {
        "id": "x0b-joGlMQMw"
      }
    },
    {
      "cell_type": "code",
      "source": [
        "def create_model(max_len, max_features, emb_dims):\n",
        "    x = layers.Input(shape = max_len)\n",
        "    y = layers.Embedding(max_features, emb_dims)(x)\n",
        "    y = layers.Flatten()(y)\n",
        "    y = layers.Dense(32, activation = 'relu')(y)\n",
        "    y = layers.Dense(1, activation = 'sigmoid')(y) # 이진분류\n",
        "    return models.Model(x,y)"
      ],
      "metadata": {
        "id": "vhX0O85KMfJQ"
      },
      "execution_count": 28,
      "outputs": []
    },
    {
      "cell_type": "code",
      "source": [
        "model = create_model(max_len, max_features, 100)\n",
        "model.summary()"
      ],
      "metadata": {
        "id": "W3sT2c6Qf9EW",
        "colab": {
          "base_uri": "https://localhost:8080/"
        },
        "outputId": "7e2d062a-972c-456b-9438-77af6799fff9"
      },
      "execution_count": 29,
      "outputs": [
        {
          "output_type": "stream",
          "name": "stdout",
          "text": [
            "Model: \"model_1\"\n",
            "_________________________________________________________________\n",
            " Layer (type)                Output Shape              Param #   \n",
            "=================================================================\n",
            " input_2 (InputLayer)        [(None, 100)]             0         \n",
            "                                                                 \n",
            " embedding_1 (Embedding)     (None, 100, 100)          50000     \n",
            "                                                                 \n",
            " flatten_1 (Flatten)         (None, 10000)             0         \n",
            "                                                                 \n",
            " dense_2 (Dense)             (None, 32)                320032    \n",
            "                                                                 \n",
            " dense_3 (Dense)             (None, 1)                 33        \n",
            "                                                                 \n",
            "=================================================================\n",
            "Total params: 370,065\n",
            "Trainable params: 370,065\n",
            "Non-trainable params: 0\n",
            "_________________________________________________________________\n"
          ]
        }
      ]
    },
    {
      "cell_type": "code",
      "source": [
        "model.compile(optimizer = 'adam',\n",
        "              loss = 'binary_crossentropy',\n",
        "              metrics = ['acc'])\n",
        "history = model.fit(x_train, y_train,\n",
        "                    epochs = 20, \n",
        "                    batch_size = 32,\n",
        "                    validation_split = 0.2)"
      ],
      "metadata": {
        "id": "O9x4UJtINbfQ",
        "colab": {
          "base_uri": "https://localhost:8080/"
        },
        "outputId": "819de2ef-c302-4502-b0a5-c1e7950cfbf0"
      },
      "execution_count": 30,
      "outputs": [
        {
          "output_type": "stream",
          "name": "stdout",
          "text": [
            "Epoch 1/20\n",
            "625/625 [==============================] - 5s 7ms/step - loss: 0.5162 - acc: 0.7338 - val_loss: 0.4595 - val_acc: 0.7818\n",
            "Epoch 2/20\n",
            "625/625 [==============================] - 4s 7ms/step - loss: 0.3506 - acc: 0.8465 - val_loss: 0.4906 - val_acc: 0.7762\n",
            "Epoch 3/20\n",
            "625/625 [==============================] - 4s 7ms/step - loss: 0.2116 - acc: 0.9157 - val_loss: 0.6283 - val_acc: 0.7574\n",
            "Epoch 4/20\n",
            "625/625 [==============================] - 4s 7ms/step - loss: 0.0989 - acc: 0.9636 - val_loss: 0.8439 - val_acc: 0.7516\n",
            "Epoch 5/20\n",
            "625/625 [==============================] - 4s 7ms/step - loss: 0.0538 - acc: 0.9807 - val_loss: 1.0976 - val_acc: 0.7424\n",
            "Epoch 6/20\n",
            "625/625 [==============================] - 4s 7ms/step - loss: 0.0319 - acc: 0.9892 - val_loss: 1.3149 - val_acc: 0.7450\n",
            "Epoch 7/20\n",
            "625/625 [==============================] - 4s 7ms/step - loss: 0.0433 - acc: 0.9851 - val_loss: 1.3602 - val_acc: 0.7426\n",
            "Epoch 8/20\n",
            "625/625 [==============================] - 4s 7ms/step - loss: 0.0374 - acc: 0.9868 - val_loss: 1.4722 - val_acc: 0.7388\n",
            "Epoch 9/20\n",
            "625/625 [==============================] - 4s 7ms/step - loss: 0.0231 - acc: 0.9920 - val_loss: 1.6605 - val_acc: 0.7378\n",
            "Epoch 10/20\n",
            "625/625 [==============================] - 4s 7ms/step - loss: 0.0181 - acc: 0.9939 - val_loss: 1.7696 - val_acc: 0.7384\n",
            "Epoch 11/20\n",
            "625/625 [==============================] - 5s 8ms/step - loss: 0.0199 - acc: 0.9932 - val_loss: 1.8229 - val_acc: 0.7304\n",
            "Epoch 12/20\n",
            "625/625 [==============================] - 4s 7ms/step - loss: 0.0241 - acc: 0.9920 - val_loss: 1.8502 - val_acc: 0.7350\n",
            "Epoch 13/20\n",
            "625/625 [==============================] - 4s 7ms/step - loss: 0.0138 - acc: 0.9958 - val_loss: 2.0030 - val_acc: 0.7332\n",
            "Epoch 14/20\n",
            "625/625 [==============================] - 4s 7ms/step - loss: 0.0138 - acc: 0.9955 - val_loss: 2.0291 - val_acc: 0.7402\n",
            "Epoch 15/20\n",
            "625/625 [==============================] - 4s 7ms/step - loss: 0.0148 - acc: 0.9945 - val_loss: 2.0604 - val_acc: 0.7344\n",
            "Epoch 16/20\n",
            "625/625 [==============================] - 4s 7ms/step - loss: 0.0190 - acc: 0.9930 - val_loss: 2.0552 - val_acc: 0.7318\n",
            "Epoch 17/20\n",
            "625/625 [==============================] - 4s 7ms/step - loss: 0.0143 - acc: 0.9958 - val_loss: 2.1462 - val_acc: 0.7302\n",
            "Epoch 18/20\n",
            "625/625 [==============================] - 5s 8ms/step - loss: 0.0087 - acc: 0.9974 - val_loss: 2.3348 - val_acc: 0.7370\n",
            "Epoch 19/20\n",
            "625/625 [==============================] - 5s 8ms/step - loss: 0.0112 - acc: 0.9963 - val_loss: 2.2529 - val_acc: 0.7346\n",
            "Epoch 20/20\n",
            "625/625 [==============================] - 4s 7ms/step - loss: 0.0114 - acc: 0.9961 - val_loss: 2.4423 - val_acc: 0.7364\n"
          ]
        }
      ]
    },
    {
      "cell_type": "code",
      "source": [
        "from plot_result import plot_lcurve\n",
        "plot_lcurve([history], [''],['dodgerblue'])"
      ],
      "metadata": {
        "colab": {
          "base_uri": "https://localhost:8080/",
          "height": 279
        },
        "id": "DoiQ4jy9OWHB",
        "outputId": "e605081b-53f0-415e-a065-a8d06e2ed130"
      },
      "execution_count": 32,
      "outputs": [
        {
          "output_type": "display_data",
          "data": {
            "text/plain": [
              "<Figure size 864x288 with 2 Axes>"
            ],
            "image/png": "[encoded data removed]"
          },
          "metadata": {
            "needs_background": "light"
          }
        }
      ]
    },
    {
      "cell_type": "markdown",
      "source": [
        "## 사전 훈련된 Embedding 사용하기\n",
        "---\n",
        "\n"
      ],
      "metadata": {
        "id": "l3K7QrTBGI5f"
      }
    },
    {
      "cell_type": "markdown",
      "source": [
        "### **| GloVe 단어 임베딩 내려받기**\n",
        "\n",
        "```\n",
        "https://drive.google.com/u/0/uc?id=1ams5_zp8NrfmbxSzTDCglRpAvjFGi5JY&export=download\n",
        "```"
      ],
      "metadata": {
        "id": "Z6Ob1lPINhu4"
      }
    },
    {
      "cell_type": "code",
      "source": [
        "! gdown https://drive.google.com/u/0/uc?id=1ams5_zp8NrfmbxSzTDCglRpAvjFGi5JY&export=download"
      ],
      "metadata": {
        "id": "HCDADTlSqbYZ",
        "colab": {
          "base_uri": "https://localhost:8080/"
        },
        "outputId": "dc193b41-3355-4c43-f364-7594d908a015"
      },
      "execution_count": 31,
      "outputs": [
        {
          "output_type": "stream",
          "name": "stdout",
          "text": [
            "Downloading...\n",
            "From: https://drive.google.com/u/0/uc?id=1ams5_zp8NrfmbxSzTDCglRpAvjFGi5JY\n",
            "To: /content/glove.6B.zip\n",
            "100% 862M/862M [00:08<00:00, 101MB/s] \n"
          ]
        }
      ]
    },
    {
      "cell_type": "code",
      "source": [
        "! unzip /content/glove.6B.zip"
      ],
      "metadata": {
        "id": "37gKeekxmmHI",
        "colab": {
          "base_uri": "https://localhost:8080/"
        },
        "outputId": "6445f9cf-228d-4635-d3fa-d67bc1eb4ce5"
      },
      "execution_count": 33,
      "outputs": [
        {
          "output_type": "stream",
          "name": "stdout",
          "text": [
            "Archive:  /content/glove.6B.zip\n",
            "  inflating: glove.6B.50d.txt        \n",
            "  inflating: glove.6B.100d.txt       \n",
            "  inflating: glove.6B.200d.txt       \n",
            "  inflating: glove.6B.300d.txt       \n"
          ]
        }
      ]
    },
    {
      "cell_type": "code",
      "source": [
        "word2embedding = {}\n",
        "f = open('/content/glove.6B.100d.txt', encoding = 'utf8')\n",
        "for line in f:\n",
        "    word = line.split()[0] # 가장 첫번재가 단어,\n",
        "    vec = line.split()[1:] # 그 후는 단어에 대한 벡터\n",
        "    vec = np.asarray(vec, dtype = 'float32')\n",
        "    # print(word, len(vec), vec)\n",
        "    # break\n",
        "    word2embedding[word] = vec\n",
        "f.close()"
      ],
      "metadata": {
        "id": "ClAAbJ56mItI"
      },
      "execution_count": 37,
      "outputs": []
    },
    {
      "cell_type": "code",
      "source": [
        "word2embedding['king']"
      ],
      "metadata": {
        "colab": {
          "base_uri": "https://localhost:8080/"
        },
        "id": "K32JkR-DQhFq",
        "outputId": "bb0fe2a3-43a8-4f04-c4bc-b795c7a42f88"
      },
      "execution_count": 38,
      "outputs": [
        {
          "output_type": "execute_result",
          "data": {
            "text/plain": [
              "array([-0.32307 , -0.87616 ,  0.21977 ,  0.25268 ,  0.22976 ,  0.7388  ,\n",
              "       -0.37954 , -0.35307 , -0.84369 , -1.1113  , -0.30266 ,  0.33178 ,\n",
              "       -0.25113 ,  0.30448 , -0.077491, -0.89815 ,  0.092496, -1.1407  ,\n",
              "       -0.58324 ,  0.66869 , -0.23122 , -0.95855 ,  0.28262 , -0.078848,\n",
              "        0.75315 ,  0.26584 ,  0.3422  , -0.33949 ,  0.95608 ,  0.065641,\n",
              "        0.45747 ,  0.39835 ,  0.57965 ,  0.39267 , -0.21851 ,  0.58795 ,\n",
              "       -0.55999 ,  0.63368 , -0.043983, -0.68731 , -0.37841 ,  0.38026 ,\n",
              "        0.61641 , -0.88269 , -0.12346 , -0.37928 , -0.38318 ,  0.23868 ,\n",
              "        0.6685  , -0.43321 , -0.11065 ,  0.081723,  1.1569  ,  0.78958 ,\n",
              "       -0.21223 , -2.3211  , -0.67806 ,  0.44561 ,  0.65707 ,  0.1045  ,\n",
              "        0.46217 ,  0.19912 ,  0.25802 ,  0.057194,  0.53443 , -0.43133 ,\n",
              "       -0.34311 ,  0.59789 , -0.58417 ,  0.068995,  0.23944 , -0.85181 ,\n",
              "        0.30379 , -0.34177 , -0.25746 , -0.031101, -0.16285 ,  0.45169 ,\n",
              "       -0.91627 ,  0.64521 ,  0.73281 , -0.22752 ,  0.30226 ,  0.044801,\n",
              "       -0.83741 ,  0.55006 , -0.52506 , -1.7357  ,  0.4751  , -0.70487 ,\n",
              "        0.056939, -0.7132  ,  0.089623,  0.41394 , -1.3363  , -0.61915 ,\n",
              "       -0.33089 , -0.52881 ,  0.16483 , -0.98878 ], dtype=float32)"
            ]
          },
          "metadata": {},
          "execution_count": 38
        }
      ]
    },
    {
      "cell_type": "code",
      "source": [
        "len(word2embedding) # 40만개의 단어"
      ],
      "metadata": {
        "colab": {
          "base_uri": "https://localhost:8080/"
        },
        "id": "Z5CcCoS7RfDR",
        "outputId": "4746ea9e-826f-424e-d8e3-d346796bc7c3"
      },
      "execution_count": 39,
      "outputs": [
        {
          "output_type": "execute_result",
          "data": {
            "text/plain": [
              "400000"
            ]
          },
          "metadata": {},
          "execution_count": 39
        }
      ]
    },
    {
      "cell_type": "markdown",
      "source": [
        "### **| 임베딩 매트릭스 제작**\n"
      ],
      "metadata": {
        "id": "-0voM702NyN_"
      }
    },
    {
      "cell_type": "code",
      "source": [
        "print('imdb 딕셔너리의 모든 단어 수:', len(word2index))\n",
        "print('우리 모델에서 사용할 모든 단어 수:', max_features)\n",
        "print('glove 임베딩에 있는 모든 단어 수:', len(word2embedding))"
      ],
      "metadata": {
        "id": "Qd2meCF_2brf",
        "colab": {
          "base_uri": "https://localhost:8080/"
        },
        "outputId": "6cb7ce1d-b2b4-4cb4-e9ac-13f3871e3a29"
      },
      "execution_count": 41,
      "outputs": [
        {
          "output_type": "stream",
          "name": "stdout",
          "text": [
            "imdb 딕셔너리의 모든 단어 수: 88584\n",
            "우리 모델에서 사용할 모든 단어 수: 500\n",
            "glove 임배딩에 있는 모든 단어 수: 400000\n"
          ]
        }
      ]
    },
    {
      "cell_type": "code",
      "source": [
        "embed_mx = np.zeros((max_features, 100))\n",
        "# 매트릭스의 크기: (500, 100)\n",
        "embed_mx.shape"
      ],
      "metadata": {
        "colab": {
          "base_uri": "https://localhost:8080/"
        },
        "id": "T8GJw3xrTUHP",
        "outputId": "50a025c4-51d9-4986-c74e-dfa8eed6e5a0"
      },
      "execution_count": 48,
      "outputs": [
        {
          "output_type": "execute_result",
          "data": {
            "text/plain": [
              "(500, 100)"
            ]
          },
          "metadata": {},
          "execution_count": 48
        }
      ]
    },
    {
      "cell_type": "code",
      "source": [
        "for idx in range(4, 504):\n",
        "    word = index2word[idx]\n",
        "    embed = word2embedding.get(word) # 딕셔너리 get 함수는 없으면 None값 반환\n",
        "    # print(word, embed)\n",
        "    if embed is not None:\n",
        "        embed_mx[idx-4] = embed"
      ],
      "metadata": {
        "id": "11HaKUORnLau"
      },
      "execution_count": 49,
      "outputs": []
    },
    {
      "cell_type": "markdown",
      "source": [
        "### **| 임베딩 매트릭스 적용하기**"
      ],
      "metadata": {
        "id": "0NdnxekRN5x3"
      }
    },
    {
      "cell_type": "code",
      "source": [
        "model = create_model(max_len, max_features, 100)\n",
        "model.summary()"
      ],
      "metadata": {
        "id": "GgAXH_T7OBqQ",
        "colab": {
          "base_uri": "https://localhost:8080/"
        },
        "outputId": "54369e00-17cb-433c-9ac1-1910a566cd4e"
      },
      "execution_count": 60,
      "outputs": [
        {
          "output_type": "stream",
          "name": "stdout",
          "text": [
            "Model: \"model_5\"\n",
            "_________________________________________________________________\n",
            " Layer (type)                Output Shape              Param #   \n",
            "=================================================================\n",
            " input_6 (InputLayer)        [(None, 100)]             0         \n",
            "                                                                 \n",
            " embedding_5 (Embedding)     (None, 100, 100)          50000     \n",
            "                                                                 \n",
            " flatten_5 (Flatten)         (None, 10000)             0         \n",
            "                                                                 \n",
            " dense_10 (Dense)            (None, 32)                320032    \n",
            "                                                                 \n",
            " dense_11 (Dense)            (None, 1)                 33        \n",
            "                                                                 \n",
            "=================================================================\n",
            "Total params: 370,065\n",
            "Trainable params: 370,065\n",
            "Non-trainable params: 0\n",
            "_________________________________________________________________\n"
          ]
        }
      ]
    },
    {
      "cell_type": "code",
      "source": [
        "model.layers[1].set_weights([embed_mx]) # 가중치를 Glove 값으로 초기화"
      ],
      "metadata": {
        "id": "2XBq_2UYzhgO"
      },
      "execution_count": 58,
      "outputs": []
    },
    {
      "cell_type": "code",
      "source": [
        "model.compile(optimizer = 'adam',\n",
        "              loss = 'binary_crossentropy',\n",
        "              metrics = ['acc'])\n",
        "history = model.fit(x_train, y_train,\n",
        "                    epochs = 20, \n",
        "                    batch_size = 32,\n",
        "                    validation_split = 0.2)"
      ],
      "metadata": {
        "colab": {
          "base_uri": "https://localhost:8080/"
        },
        "id": "r3GnW5G3Uf6x",
        "outputId": "c8f9f011-75ec-4efe-8eec-3f82692db126"
      },
      "execution_count": 61,
      "outputs": [
        {
          "output_type": "stream",
          "name": "stdout",
          "text": [
            "Epoch 1/20\n",
            "625/625 [==============================] - 5s 8ms/step - loss: 0.5180 - acc: 0.7307 - val_loss: 0.4680 - val_acc: 0.7766\n",
            "Epoch 2/20\n",
            "625/625 [==============================] - 5s 7ms/step - loss: 0.3497 - acc: 0.8445 - val_loss: 0.4845 - val_acc: 0.7790\n",
            "Epoch 3/20\n",
            "625/625 [==============================] - 5s 7ms/step - loss: 0.2010 - acc: 0.9208 - val_loss: 0.6179 - val_acc: 0.7626\n",
            "Epoch 4/20\n",
            "625/625 [==============================] - 6s 9ms/step - loss: 0.0955 - acc: 0.9664 - val_loss: 0.8363 - val_acc: 0.7570\n",
            "Epoch 5/20\n",
            "625/625 [==============================] - 5s 7ms/step - loss: 0.0425 - acc: 0.9865 - val_loss: 1.0464 - val_acc: 0.7580\n",
            "Epoch 6/20\n",
            "625/625 [==============================] - 5s 8ms/step - loss: 0.0240 - acc: 0.9931 - val_loss: 1.3001 - val_acc: 0.7506\n",
            "Epoch 7/20\n",
            "625/625 [==============================] - 6s 9ms/step - loss: 0.0263 - acc: 0.9913 - val_loss: 1.3415 - val_acc: 0.7500\n",
            "Epoch 8/20\n",
            "625/625 [==============================] - 6s 9ms/step - loss: 0.0336 - acc: 0.9891 - val_loss: 1.4382 - val_acc: 0.7522\n",
            "Epoch 9/20\n",
            "625/625 [==============================] - 5s 8ms/step - loss: 0.0216 - acc: 0.9940 - val_loss: 1.5528 - val_acc: 0.7488\n",
            "Epoch 10/20\n",
            "625/625 [==============================] - 5s 9ms/step - loss: 0.0162 - acc: 0.9946 - val_loss: 1.6482 - val_acc: 0.7478\n",
            "Epoch 11/20\n",
            "625/625 [==============================] - 5s 7ms/step - loss: 0.0164 - acc: 0.9947 - val_loss: 1.7904 - val_acc: 0.7504\n",
            "Epoch 12/20\n",
            "625/625 [==============================] - 5s 7ms/step - loss: 0.0180 - acc: 0.9936 - val_loss: 1.7896 - val_acc: 0.7472\n",
            "Epoch 13/20\n",
            "625/625 [==============================] - 5s 7ms/step - loss: 0.0154 - acc: 0.9952 - val_loss: 2.0112 - val_acc: 0.7368\n",
            "Epoch 14/20\n",
            "625/625 [==============================] - 5s 8ms/step - loss: 0.0180 - acc: 0.9941 - val_loss: 1.9689 - val_acc: 0.7420\n",
            "Epoch 15/20\n",
            "625/625 [==============================] - 5s 8ms/step - loss: 0.0099 - acc: 0.9969 - val_loss: 2.0543 - val_acc: 0.7426\n",
            "Epoch 16/20\n",
            "625/625 [==============================] - 5s 9ms/step - loss: 0.0053 - acc: 0.9984 - val_loss: 2.1250 - val_acc: 0.7466\n",
            "Epoch 17/20\n",
            "625/625 [==============================] - 6s 9ms/step - loss: 0.0046 - acc: 0.9988 - val_loss: 2.2683 - val_acc: 0.7502\n",
            "Epoch 18/20\n",
            "625/625 [==============================] - 6s 9ms/step - loss: 0.0183 - acc: 0.9941 - val_loss: 2.1428 - val_acc: 0.7290\n",
            "Epoch 19/20\n",
            "625/625 [==============================] - 6s 9ms/step - loss: 0.0208 - acc: 0.9930 - val_loss: 2.1482 - val_acc: 0.7382\n",
            "Epoch 20/20\n",
            "625/625 [==============================] - 5s 8ms/step - loss: 0.0103 - acc: 0.9966 - val_loss: 2.2296 - val_acc: 0.7418\n"
          ]
        }
      ]
    },
    {
      "cell_type": "code",
      "source": [
        "from plot_result import plot_lcurve\n",
        "plot_lcurve([history], [''],['dodgerblue'])"
      ],
      "metadata": {
        "colab": {
          "base_uri": "https://localhost:8080/",
          "height": 279
        },
        "id": "HJaX3AwxUlpf",
        "outputId": "9dc961c9-fe4b-4949-b530-bc2b5674f75f"
      },
      "execution_count": 62,
      "outputs": [
        {
          "output_type": "display_data",
          "data": {
            "text/plain": [
              "<Figure size 864x288 with 2 Axes>"
            ],
            "image/png": "[encoded data removed]"
          },
          "metadata": {
            "needs_background": "light"
          }
        }
      ]
    },
    {
      "cell_type": "markdown",
      "source": [
        "## 추가 학습 : 규제 적용하기\n",
        "---"
      ],
      "metadata": {
        "id": "UcW36RYhGOTv"
      }
    },
    {
      "cell_type": "code",
      "source": [
        "def create_regular_model(max_len, max_features, emb_dims):\n",
        "    x = layers.Input(shape = max_len)\n",
        "    y = layers.Embedding(max_features, emb_dims)(x)\n",
        "    y = layers.Flatten()(y)\n",
        "    y = layers.Dense(32, activation = 'relu', kernel_regularizer = tf.keras.regularizers.l2(0.1))(y)\n",
        "    y = layers.Dense(1, activation = 'sigmoid')(y) # 이진분류\n",
        "    return models.Model(x,y)\n",
        "\n",
        "model = create_model(max_len, max_features, 100)\n",
        "model.summary()\n",
        "model.layers[1].set_weights([embed_mx])  # 가중치를 Glove 값으로 초기화 \n",
        "\n",
        "\n",
        "model.compile(optimizer = 'rmsprop',\n",
        "              loss = 'binary_crossentropy',\n",
        "              metrics = ['acc'])\n",
        "history = model.fit(x_train, y_train,\n",
        "                    epochs = 20, \n",
        "                    batch_size = 32,\n",
        "                    validation_split = 0.2)\n",
        "\n",
        "from plot_result import plot_lcurve\n",
        "plot_lcurve([history], [''],['dodgerblue'])"
      ],
      "metadata": {
        "id": "JQJWF1-z8MvW",
        "colab": {
          "base_uri": "https://localhost:8080/",
          "height": 1000
        },
        "outputId": "9cef3495-965c-4746-f1f6-57a4c22f50a2"
      },
      "execution_count": 66,
      "outputs": [
        {
          "output_type": "stream",
          "name": "stdout",
          "text": [
            "Model: \"model_7\"\n",
            "_________________________________________________________________\n",
            " Layer (type)                Output Shape              Param #   \n",
            "=================================================================\n",
            " input_8 (InputLayer)        [(None, 100)]             0         \n",
            "                                                                 \n",
            " embedding_7 (Embedding)     (None, 100, 100)          50000     \n",
            "                                                                 \n",
            " flatten_7 (Flatten)         (None, 10000)             0         \n",
            "                                                                 \n",
            " dense_14 (Dense)            (None, 32)                320032    \n",
            "                                                                 \n",
            " dense_15 (Dense)            (None, 1)                 33        \n",
            "                                                                 \n",
            "=================================================================\n",
            "Total params: 370,065\n",
            "Trainable params: 370,065\n",
            "Non-trainable params: 0\n",
            "_________________________________________________________________\n",
            "Epoch 1/20\n",
            "625/625 [==============================] - 6s 8ms/step - loss: 0.6849 - acc: 0.5813 - val_loss: 0.6172 - val_acc: 0.6442\n",
            "Epoch 2/20\n",
            "625/625 [==============================] - 5s 8ms/step - loss: 0.5113 - acc: 0.7479 - val_loss: 0.5659 - val_acc: 0.7126\n",
            "Epoch 3/20\n",
            "625/625 [==============================] - 5s 8ms/step - loss: 0.4294 - acc: 0.7964 - val_loss: 0.4805 - val_acc: 0.7660\n",
            "Epoch 4/20\n",
            "625/625 [==============================] - 5s 8ms/step - loss: 0.3889 - acc: 0.8217 - val_loss: 0.4806 - val_acc: 0.7688\n",
            "Epoch 5/20\n",
            "625/625 [==============================] - 5s 8ms/step - loss: 0.3544 - acc: 0.8421 - val_loss: 0.5219 - val_acc: 0.7580\n",
            "Epoch 6/20\n",
            "625/625 [==============================] - 5s 8ms/step - loss: 0.3203 - acc: 0.8611 - val_loss: 0.5157 - val_acc: 0.7700\n",
            "Epoch 7/20\n",
            "625/625 [==============================] - 5s 8ms/step - loss: 0.2895 - acc: 0.8776 - val_loss: 0.5801 - val_acc: 0.7546\n",
            "Epoch 8/20\n",
            "625/625 [==============================] - 5s 8ms/step - loss: 0.2568 - acc: 0.8913 - val_loss: 0.6463 - val_acc: 0.7496\n",
            "Epoch 9/20\n",
            "625/625 [==============================] - 5s 8ms/step - loss: 0.2178 - acc: 0.9085 - val_loss: 0.6399 - val_acc: 0.7556\n",
            "Epoch 10/20\n",
            "625/625 [==============================] - 5s 8ms/step - loss: 0.1788 - acc: 0.9300 - val_loss: 0.7210 - val_acc: 0.7376\n",
            "Epoch 11/20\n",
            "625/625 [==============================] - 5s 8ms/step - loss: 0.1426 - acc: 0.9452 - val_loss: 0.8351 - val_acc: 0.7454\n",
            "Epoch 12/20\n",
            "625/625 [==============================] - 5s 8ms/step - loss: 0.1065 - acc: 0.9609 - val_loss: 0.8493 - val_acc: 0.7438\n",
            "Epoch 13/20\n",
            "625/625 [==============================] - 5s 8ms/step - loss: 0.0784 - acc: 0.9708 - val_loss: 1.0433 - val_acc: 0.7492\n",
            "Epoch 14/20\n",
            "625/625 [==============================] - 5s 8ms/step - loss: 0.0547 - acc: 0.9800 - val_loss: 1.3319 - val_acc: 0.7344\n",
            "Epoch 15/20\n",
            "625/625 [==============================] - 5s 8ms/step - loss: 0.0373 - acc: 0.9868 - val_loss: 1.4466 - val_acc: 0.7454\n",
            "Epoch 16/20\n",
            "625/625 [==============================] - 5s 8ms/step - loss: 0.0270 - acc: 0.9904 - val_loss: 1.5572 - val_acc: 0.7418\n",
            "Epoch 17/20\n",
            "625/625 [==============================] - 5s 8ms/step - loss: 0.0191 - acc: 0.9934 - val_loss: 1.7617 - val_acc: 0.7370\n",
            "Epoch 18/20\n",
            "625/625 [==============================] - 5s 8ms/step - loss: 0.0155 - acc: 0.9944 - val_loss: 1.8596 - val_acc: 0.7352\n",
            "Epoch 19/20\n",
            "625/625 [==============================] - 5s 8ms/step - loss: 0.0115 - acc: 0.9955 - val_loss: 1.9384 - val_acc: 0.7422\n",
            "Epoch 20/20\n",
            "625/625 [==============================] - 5s 9ms/step - loss: 0.0097 - acc: 0.9962 - val_loss: 2.0904 - val_acc: 0.7382\n"
          ]
        },
        {
          "output_type": "display_data",
          "data": {
            "text/plain": [
              "<Figure size 864x288 with 2 Axes>"
            ],
            "image/png": "[encoded data removed]"
          },
          "metadata": {
            "needs_background": "light"
          }
        }
      ]
    }
  ]
}