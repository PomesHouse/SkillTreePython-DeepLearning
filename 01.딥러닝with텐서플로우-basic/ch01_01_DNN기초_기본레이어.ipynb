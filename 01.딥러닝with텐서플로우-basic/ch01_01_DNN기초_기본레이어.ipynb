{
  "nbformat": 4,
  "nbformat_minor": 0,
  "metadata": {
    "colab": {
      "name": "ch01_01_DNN기초-기본레이어.ipynb",
      "provenance": [],
      "collapsed_sections": [],
      "include_colab_link": true
    },
    "kernelspec": {
      "name": "python3",
      "display_name": "Python 3"
    },
    "language_info": {
      "name": "python"
    }
  },
  "cells": [
    {
      "cell_type": "markdown",
      "metadata": {
        "id": "view-in-github",
        "colab_type": "text"
      },
      "source": [
        "<a href=\"https://colab.research.google.com/github/PomesHouse/SkillTreePython-DeepLearning/blob/main/01.%EB%94%A5%EB%9F%AC%EB%8B%9Dwith%ED%85%90%EC%84%9C%ED%94%8C%EB%A1%9C%EC%9A%B0-basic/ch01_01_DNN%EA%B8%B0%EC%B4%88_%EA%B8%B0%EB%B3%B8%EB%A0%88%EC%9D%B4%EC%96%B4.ipynb\" target=\"_parent\"><img src=\"https://colab.research.google.com/assets/colab-badge.svg\" alt=\"Open In Colab\"/></a>"
      ]
    },
    {
      "cell_type": "markdown",
      "source": [
        "# 01. DNN기초 - 기본 레이어\n",
        "---\n",
        "* 날짜:\n",
        "* 이름:\n",
        "\n",
        "## 학습내용\n",
        "    - 딥러닝을 구성하는 레이어에 대해 이해한다.\n",
        "    - 활성화 함수 종류를 구현하고 특징을 정리한다.\n",
        "    - 그래디언트 소실에 대해 이해한다.\n",
        "\n",
        "## 학습자료\n",
        "\n",
        "\n",
        "- 케라스 창시자에게 배우는 딥러닝\n"
      ],
      "metadata": {
        "id": "9Q1yeunDnbDS"
      }
    },
    {
      "cell_type": "code",
      "source": [
        "import numpy as np\n",
        "import matplotlib.pyplot as plt\n",
        "import pandas as pd"
      ],
      "metadata": {
        "id": "FH_uBeAD1qZ1"
      },
      "execution_count": 1,
      "outputs": []
    },
    {
      "cell_type": "markdown",
      "source": [
        "## 선형 함수 (Linear)\n",
        "---\n",
        "\n",
        "<p align='center'>\n",
        "<img src=https://github.com/yebiny/SkillTreePython-DeepLearning/blob/main/imgs/ch0101-07.png?raw=true width=700>\n",
        "\n"
      ],
      "metadata": {
        "id": "TE4OOCmn02qg"
      }
    },
    {
      "cell_type": "markdown",
      "source": [
        "### **| 모델 생성**"
      ],
      "metadata": {
        "id": "otUGNnfHAMHh"
      }
    },
    {
      "cell_type": "code",
      "source": [
        "class LinearLayer():\n",
        "    # 학습파라미터(W, b)의 shpae 설정 \n",
        "    def __init__(self, d_in, d_out):\n",
        "        W_shape =  (d_in, d_out)\n",
        "        B_shape = d_out\n",
        "        # 행렬 만들기\n",
        "        self.W = np.random.normal(0, 1, W_shape) # 정규분포를 따르는 랜덤 값 (평균 0, 표준편차 1)\n",
        "        self.B = np.zeros(B_shape) # Bias(덧셈), default값을 0\n",
        "    \n",
        "    def forward(self, X): \n",
        "        # X: (n_sample, d_in)\n",
        "        return X @ self.W + self.B\n",
        "\n",
        "\n",
        "layer1 = LinearLayer(d_in = 3, d_out = 3)\n",
        "layer2 = LinearLayer(d_in = 3, d_out = 2)\n",
        "print(layer1.W, layer1.B)\n",
        "print(layer2.W, layer2.B)\n",
        "X = np.array([[1,2,1]])\n",
        "print(f'X: {X}, shape: {X.shape}:')\n",
        "print(f'첫번째 계산결과:{layer1.forward(X)}')\n",
        "print(f'두번째 계산결과:{layer2.forward(layer1.forward(X))}')"
      ],
      "metadata": {
        "id": "nG4eK5_61AEy",
        "colab": {
          "base_uri": "https://localhost:8080/"
        },
        "outputId": "74eb55c2-7d24-4617-c181-99e81d3611ae"
      },
      "execution_count": 6,
      "outputs": [
        {
          "output_type": "stream",
          "name": "stdout",
          "text": [
            "[[ 1.05304256 -1.25136433  1.21707899]\n",
            " [ 0.47118231  1.02793599  0.77281702]\n",
            " [ 0.1244011  -0.5188333   1.06659687]] [0. 0. 0.]\n",
            "[[-0.37042122  0.49586985]\n",
            " [ 1.11343581  0.28846097]\n",
            " [ 2.147264    1.2959386 ]] [0. 0.]\n",
            "X: [[1 2 1]], shape: (1, 3):\n",
            "첫번째 계산결과:[[2.11980829 0.28567435 3.8293099 ]]\n",
            "두번째 계산결과:[[7.75539739 6.09610541]]\n"
          ]
        }
      ]
    },
    {
      "cell_type": "code",
      "source": [
        "class Model():\n",
        "    def __init__(self):\n",
        "        self.layer1 = LinearLayer(d_in = 3, d_out = 3)\n",
        "        self.layer2 = LinearLayer(d_in = 3, d_out = 2)\n",
        "    \n",
        "    def predict(self, x):\n",
        "        z = self.layer1.forward(x)\n",
        "        y = self.layer2.forward(z) # 예측값\n",
        "        return y\n",
        "    \n",
        "    # 학습 파라미터를 반환하는 함수\n",
        "    def get_weights(self):\n",
        "        return [self.layer1.W, self.layer1.B, self.layer2.W, self.layer2.B]\n",
        "    \n",
        "    # 학습 파라미터를 직접 정해주는 함수 \n",
        "    def set_weights(self, new_weight_list):\n",
        "        self.layer1.W = new_weight_list[0]\n",
        "        self.layer1.B = new_weight_list[1]\n",
        "        self.layer2.W = new_weight_list[2]\n",
        "        self.layer2.B = new_weight_list[3]"
      ],
      "metadata": {
        "id": "kumGneoEnSKU"
      },
      "execution_count": 28,
      "outputs": []
    },
    {
      "cell_type": "markdown",
      "source": [
        "* 모델 불러오기"
      ],
      "metadata": {
        "id": "NDY8-kbSCcGj"
      }
    },
    {
      "cell_type": "code",
      "source": [
        "model = Model()\n",
        "model.predict(X)"
      ],
      "metadata": {
        "id": "nwJeEInq6_P7",
        "colab": {
          "base_uri": "https://localhost:8080/"
        },
        "outputId": "71e3102d-1fbf-4962-dd30-110ac5742a7a"
      },
      "execution_count": 29,
      "outputs": [
        {
          "output_type": "execute_result",
          "data": {
            "text/plain": [
              "array([[0.9292421 , 2.08367868]])"
            ]
          },
          "metadata": {},
          "execution_count": 29
        }
      ]
    },
    {
      "cell_type": "markdown",
      "source": [
        "### **| 순전파 계산**\n",
        "\n",
        "데이터와 학습파라미터의 값이 아래와 같을 때 Y값을 구하세요.\n",
        "\n",
        "<p align='center'>\n",
        "<img src=https://github.com/yebiny/SkillTreePython-DeepLearning/blob/main/imgs/ch0101-11.png?raw=true width=800>\n",
        "</p>"
      ],
      "metadata": {
        "id": "aQLEzz4e80It"
      }
    },
    {
      "cell_type": "markdown",
      "source": [
        "* 파라미터 정의"
      ],
      "metadata": {
        "id": "2jpPu_1ACdlt"
      }
    },
    {
      "cell_type": "code",
      "source": [
        "X = np.array([[1,2,1]]) # X shape: (1,3)\n",
        "W1_ = np.array([1,1,-1,1,0.5, -1, 1,1,1]).reshape(3,3)\n",
        "B1_ = np.array([0,0,0]).reshape(1,3)\n",
        "W2_ = np.array([1, 0.5, -1, 0.5, 0, 1]).reshape(3,2)\n",
        "B2_ = np.array([1, -0.5]).reshape(1,2)"
      ],
      "metadata": {
        "id": "0aZbsZGP6XVH"
      },
      "execution_count": 30,
      "outputs": []
    },
    {
      "cell_type": "markdown",
      "source": [
        "* 학습 파라미터 확인"
      ],
      "metadata": {
        "id": "Yj1j1WVlCfEL"
      }
    },
    {
      "cell_type": "code",
      "source": [
        "model.get_weights()"
      ],
      "metadata": {
        "id": "-KS1Snwg60FH",
        "colab": {
          "base_uri": "https://localhost:8080/"
        },
        "outputId": "d97a76fa-050b-4a43-c9e1-5d0717f1c720"
      },
      "execution_count": 31,
      "outputs": [
        {
          "output_type": "execute_result",
          "data": {
            "text/plain": [
              "[array([[-0.79037485, -1.10096671, -1.62055528],\n",
              "        [ 0.40636767, -0.49786906, -0.04102313],\n",
              "        [ 0.67681695,  0.1246064 , -0.46287697]]),\n",
              " array([0., 0., 0.]),\n",
              " array([[ 0.38599966, -0.01427659],\n",
              "        [-0.6592022 , -0.74893499],\n",
              "        [ 0.29584767, -0.28478096]]),\n",
              " array([0., 0.])]"
            ]
          },
          "metadata": {},
          "execution_count": 31
        }
      ]
    },
    {
      "cell_type": "markdown",
      "source": [
        "* 학습 파라미터 세팅"
      ],
      "metadata": {
        "id": "eUOF6xYgClzp"
      }
    },
    {
      "cell_type": "code",
      "source": [
        "model.set_weights([W1_, B1_, W2_, B2_])\n",
        "model.get_weights()"
      ],
      "metadata": {
        "id": "DvoBSK086gxm",
        "colab": {
          "base_uri": "https://localhost:8080/"
        },
        "outputId": "24c610c0-e8fe-4278-a30e-a594128e4917"
      },
      "execution_count": 33,
      "outputs": [
        {
          "output_type": "execute_result",
          "data": {
            "text/plain": [
              "[array([[ 1. ,  1. , -1. ],\n",
              "        [ 1. ,  0.5, -1. ],\n",
              "        [ 1. ,  1. ,  1. ]]), array([[0, 0, 0]]), array([[ 1. ,  0.5],\n",
              "        [-1. ,  0.5],\n",
              "        [ 0. ,  1. ]]), array([[ 1. , -0.5]])]"
            ]
          },
          "metadata": {},
          "execution_count": 33
        }
      ]
    },
    {
      "cell_type": "markdown",
      "source": [
        "* 예측 (순전파)"
      ],
      "metadata": {
        "id": "V-dCS6zTCjD2"
      }
    },
    {
      "cell_type": "code",
      "source": [
        "model.predict(X)"
      ],
      "metadata": {
        "id": "Ag3K-NO97FzD",
        "colab": {
          "base_uri": "https://localhost:8080/"
        },
        "outputId": "8080b5e9-1708-4d60-904a-42be24a36665"
      },
      "execution_count": 34,
      "outputs": [
        {
          "output_type": "execute_result",
          "data": {
            "text/plain": [
              "array([[2., 1.]])"
            ]
          },
          "metadata": {},
          "execution_count": 34
        }
      ]
    },
    {
      "cell_type": "markdown",
      "source": [
        "## 활성 함수 (Activation)\n",
        "---\n",
        "\n",
        "<p align='center'>\n",
        "<img src=https://github.com/yebiny/SkillTreePython-DeepLearning/blob/main/imgs/ch0101-08.png?raw=true width=800>\n",
        "\n",
        "* 비선형 함수를 사용하는 이유\n",
        "\n",
        "> 선형함수인 $h(x)=cx$를 활성화함수로 사용한 3층 네트워크를 떠올려 보세요.\n",
        "이를 식으로 나타내면 $y(x)=h(h(h(x)))$가 됩니다. 이는 실은 $y(x)=ax$와 똑같은 식입니다.\n",
        "$a=c3$이라고만 하면 끝이죠. 즉, 은닉층이 없는 네트워크로 표현할 수 있습니다.\n",
        "뉴럴네트워크에서 층을 쌓는 혜택을 얻고 싶다면 활성화함수로는 반드시 비선형 함수를 사용해야 합니다. **출처: [밑바닥부터 시작하는 딥러닝]**\n",
        " \n",
        "* 어떤 활성화 함수를 써야할까\n",
        "\n",
        "> ELU → LeakyReLU → ReLU → tanh → sigmoid 순으로 사용하라는 얘기도 있고, cs231n 강의에서는 ReLU를 먼저 쓰고 , 그다음으로 LeakyReLU나 ELU 같은 ReLU Family를 쓰며, sigmoid는 사용하지 말라고 하고 있다.\n",
        "**출처: https://excelsior-cjh.tistory.com/177 [EXCELSIOR:티스토리]**\n",
        "\n",
        "* 딥러닝에서 사용되는 활성화 함수의 종류\n",
        "\n",
        "```\n",
        "- Step Function # 예외 (최근에는 사용 x)\n",
        "--------------------------\n",
        "- Sigmoid : 예측 결과가 두개 클래스 중 하나\n",
        "- Softmax : 예측 결과가 세개 이상 클래스 중 하나\n",
        "만약 마지막 층에서 활성화 안쓰면 회귀\n",
        "--- 마지막 층에서 사용 ---\n",
        "- Tanh\n",
        "- ReLU\n",
        "- Leaky ReLU\n",
        "- PReLU\n",
        "- ELU\n",
        "--- 중간 층에서 사용 ---\n",
        "중간 층에서 사용될 때는 gradient(미분) 값이 중요\n",
        "```\n"
      ],
      "metadata": {
        "id": "BARbnIMRzMRC"
      }
    },
    {
      "cell_type": "markdown",
      "source": [
        "* 시각화를 위한 플롯팅 함수"
      ],
      "metadata": {
        "id": "SFciXyKSJG9q"
      }
    },
    {
      "cell_type": "code",
      "source": [
        "plt.rcParams['figure.figsize'] = (8, 2)\n",
        "def plot_func(xs, ys, title=''):\n",
        "  plt.plot(xs, ys)\n",
        "  plt.title(title)\n",
        "  plt.ylim(-1, 2)\n",
        "  plt.hlines(xmin=-5, xmax=5, y=0, colors='r', linestyles=':')\n",
        "  plt.grid()\n",
        "\n",
        "plot_func(xs = [1], ys = [1])"
      ],
      "metadata": {
        "id": "joqmI6sxJOIO",
        "colab": {
          "base_uri": "https://localhost:8080/",
          "height": 161
        },
        "outputId": "49984474-e221-4743-aa19-da8d5e084700"
      },
      "execution_count": 36,
      "outputs": [
        {
          "output_type": "display_data",
          "data": {
            "text/plain": [
              "<Figure size 576x144 with 1 Axes>"
            ],
            "image/png": "[encoded data removed]"
          },
          "metadata": {
            "needs_background": "light"
          }
        }
      ]
    },
    {
      "cell_type": "markdown",
      "source": [
        "### **| Sigmoid**\n",
        "\n",
        "<p align='center'>\n",
        "<img src=https://github.com/yebiny/SkillTreePython-DeepLearning/blob/main/imgs/ch0101-15.png?raw=true width=500>\n",
        "\n",
        "\n",
        "\n"
      ],
      "metadata": {
        "id": "qCVwE0VGdEya"
      }
    },
    {
      "cell_type": "markdown",
      "source": [
        "* 구현\n",
        "\\begin{align}\n",
        "sigmoid(x) = \\frac{1}{1+e^{-x}}\n",
        "\\end{align}\n"
      ],
      "metadata": {
        "id": "lZ-BqoaMI_zr"
      }
    },
    {
      "cell_type": "code",
      "source": [
        "# 함수의 인풋 : 0차 텐서, 아웃풋 : 0차 텐서\n",
        "def sigmoid(x):\n",
        "    return 1/(1+ np.exp(-x))\n",
        "sigmoid(5)"
      ],
      "metadata": {
        "id": "lykqtbIuzXlS",
        "colab": {
          "base_uri": "https://localhost:8080/"
        },
        "outputId": "4681ecfa-c79a-4cee-a55e-8fc1ba6948dd"
      },
      "execution_count": 37,
      "outputs": [
        {
          "output_type": "execute_result",
          "data": {
            "text/plain": [
              "0.9933071490757153"
            ]
          },
          "metadata": {},
          "execution_count": 37
        }
      ]
    },
    {
      "cell_type": "markdown",
      "source": [
        "* 미분\n",
        "\\begin{align}\n",
        "\\frac{d}{dx} sigmoid(x) = sigmoid(x)(1-sigmoid(x))\n",
        "\\end{align}\n"
      ],
      "metadata": {
        "id": "RwWVqA0ddJvx"
      }
    },
    {
      "cell_type": "code",
      "source": [
        "def sigmoid_grad(x):\n",
        "    return sigmoid(x)*(1-sigmoid(x))\n",
        "sigmoid_grad(0)"
      ],
      "metadata": {
        "id": "Oqb7TLZGzXnh",
        "colab": {
          "base_uri": "https://localhost:8080/"
        },
        "outputId": "b7045c29-6240-4354-e67f-76a8e2857b76"
      },
      "execution_count": 39,
      "outputs": [
        {
          "output_type": "execute_result",
          "data": {
            "text/plain": [
              "0.25"
            ]
          },
          "metadata": {},
          "execution_count": 39
        }
      ]
    },
    {
      "cell_type": "markdown",
      "source": [
        "* 시각화"
      ],
      "metadata": {
        "id": "05K5suyKJhCH"
      }
    },
    {
      "cell_type": "code",
      "source": [
        "xs = np.linspace(-5, 5, 100) # -5부터, 5까지 100개의 숫자\n",
        "plt.subplot(121); plot_func(xs, sigmoid(xs), title = 'Sigmoid')\n",
        "plt.subplot(122); plot_func(xs, sigmoid_grad(xs), title = 'Sigmoid (dev)')"
      ],
      "metadata": {
        "id": "y_27bU8kJCdO",
        "colab": {
          "base_uri": "https://localhost:8080/",
          "height": 173
        },
        "outputId": "a20244de-6eb1-47f4-fcdc-2f0d7cbac0a3"
      },
      "execution_count": 44,
      "outputs": [
        {
          "output_type": "display_data",
          "data": {
            "text/plain": [
              "<Figure size 576x144 with 2 Axes>"
            ],
            "image/png": "[encoded data removed]"
          },
          "metadata": {
            "needs_background": "light"
          }
        }
      ]
    },
    {
      "cell_type": "markdown",
      "source": [
        "\n",
        "\n",
        "**Sigmoid 소개**\n",
        "\n",
        "```\n",
        "- # 나오게 된 배경\n",
        "- # 장단점\n",
        "- # 특징 정리 (출력 범위, 미분 값 등 )\n",
        "```\n"
      ],
      "metadata": {
        "id": "Oi2i3MEjIyhu"
      }
    },
    {
      "cell_type": "markdown",
      "source": [
        "### **| Softmax**\n",
        "\n",
        "<p align='center'>\n",
        "<img src=https://github.com/yebiny/SkillTreePython-DeepLearning/blob/main/imgs/ch0101-16.png?raw=true width=550>\n"
      ],
      "metadata": {
        "id": "oUb85RD1ds-H"
      }
    },
    {
      "cell_type": "markdown",
      "source": [
        "* 구현\n",
        "\n",
        "\\begin{align}\n",
        "softmax(x) = \\frac{e^{x_i}}{\\sum_je^{x_j}}\n",
        "\\end{align}"
      ],
      "metadata": {
        "id": "MAS3Q5qGkSnz"
      }
    },
    {
      "cell_type": "code",
      "source": [
        "# 여기서 x는 벡터\n",
        "# 함수의 인풋 : 1차 텐서, 아웃풋: 1차 텐서 \n",
        "def softmax(xs): # [1,2,1]\n",
        "    exs = np.exp(xs) # [np.exp(1), np.exp(2), np.exp(1)]\n",
        "    sum_ex = np.sum(exs) # 0차 텐서\n",
        "    return exs / sum_ex # [np.exp(1)/sum_exs, np.exp(2)/sum_exs, np.exp(1)/sum_exs]\n",
        "# 아웃풋의 요소들은 0~1 까지의 값을 가지고 다 더하면 1이 된다. \n",
        "\n",
        "softmax(np.array([1,2,1,1]))\n"
      ],
      "metadata": {
        "id": "V9OtdSfPkSn0",
        "colab": {
          "base_uri": "https://localhost:8080/"
        },
        "outputId": "668f2ef2-cf08-4ac3-ae34-ad2d9ea5fe51"
      },
      "execution_count": 45,
      "outputs": [
        {
          "output_type": "execute_result",
          "data": {
            "text/plain": [
              "array([0.1748777 , 0.47536689, 0.1748777 , 0.1748777 ])"
            ]
          },
          "metadata": {},
          "execution_count": 45
        }
      ]
    },
    {
      "cell_type": "markdown",
      "source": [
        "* 미분\n",
        "\n",
        "\n",
        "\\begin{align}\n",
        "\\frac{x}{dx} Softmax(\\vec{x}) =  \n",
        "\\begin{cases}\n",
        "& Softmax(\\vec{x})(1-Softmax(\\vec{x})) \\;\\;\\;\\;\\;\\;\\; \\text{ if } i=j  \n",
        "\\\\ & 0 \\;\\;\\;\\;\\;\\;\\;\\;\\;\\;\\;\\;\\;\\;\\;\\;\\;\\;\\;\\;\\;\\;\\;\\;\\;\\;\\;\\;\\;\\;\\;\\;\\;\\;\\;\\;\\;\\;\\;\\;\\;\\;\\;\\;\\;\\;\\;\\;\\;\\;\\;\\;\\;\\;\\;\\; \\text{ if } i\\neq j \n",
        "\\end{cases}\n",
        "\\end{align}"
      ],
      "metadata": {
        "id": "DozuQe8ikSn0"
      }
    },
    {
      "cell_type": "code",
      "source": [
        "# 예측 [0.7, 0.2, 0.1] 실제 [1, 0, 0] -> 0 번째 클래스가 정답! (j = 0)"
      ],
      "metadata": {
        "id": "RsLPlGPckSn0"
      },
      "execution_count": null,
      "outputs": []
    },
    {
      "cell_type": "code",
      "source": [
        "def softmax_grad(xs, j = 0):\n",
        "    return (softmax(xs)* (1- softmax(xs)))[j] # j번째 아이만 사용\n",
        "softmax_grad(np.array([0.7, 0.2, 1]))"
      ],
      "metadata": {
        "colab": {
          "base_uri": "https://localhost:8080/"
        },
        "id": "IbE02j4h_Jxh",
        "outputId": "3f2aa75b-4ff6-4a62-fd06-12127e3e0208"
      },
      "execution_count": 48,
      "outputs": [
        {
          "output_type": "execute_result",
          "data": {
            "text/plain": [
              "0.223837075668383"
            ]
          },
          "metadata": {},
          "execution_count": 48
        }
      ]
    },
    {
      "cell_type": "markdown",
      "source": [
        "* 시각화\n"
      ],
      "metadata": {
        "id": "z2ak5_tNQmu9"
      }
    },
    {
      "cell_type": "code",
      "source": [
        "ys = softmax(np.array([-1,2,1,1]))\n",
        "pd.DataFrame(ys).plot(kind = 'bar')\n",
        "pd.DataFrame([ys]).plot(kind = 'barh', stacked = True)"
      ],
      "metadata": {
        "id": "s_LJOuOJQmu9",
        "colab": {
          "base_uri": "https://localhost:8080/",
          "height": 311
        },
        "outputId": "dbd01e48-3c7a-4a3c-8247-878f3bdd2718"
      },
      "execution_count": 53,
      "outputs": [
        {
          "output_type": "execute_result",
          "data": {
            "text/plain": [
              "<matplotlib.axes._subplots.AxesSubplot at 0x7f58ac016090>"
            ]
          },
          "metadata": {},
          "execution_count": 53
        },
        {
          "output_type": "display_data",
          "data": {
            "text/plain": [
              "<Figure size 576x144 with 1 Axes>"
            ],
            "image/png": "[encoded data removed]"
          },
          "metadata": {
            "needs_background": "light"
          }
        },
        {
          "output_type": "display_data",
          "data": {
            "text/plain": [
              "<Figure size 576x144 with 1 Axes>"
            ],
            "image/png": "[encoded data removed]"
          },
          "metadata": {
            "needs_background": "light"
          }
        }
      ]
    },
    {
      "cell_type": "markdown",
      "source": [
        "\n",
        "**Softmax 소개**\n",
        "\n",
        "```\n",
        "- # 나오게 된 배경\n",
        "- # 장단점\n",
        "- # 특징 정리 (출력 범위, 미분 값 등 )\n",
        "```\n"
      ],
      "metadata": {
        "id": "ejR0PQYZtLSg"
      }
    },
    {
      "cell_type": "markdown",
      "source": [
        "### **| Tanh**\n",
        "\n"
      ],
      "metadata": {
        "id": "W78hLTGxdtK3"
      }
    },
    {
      "cell_type": "markdown",
      "source": [
        "* 구현\n",
        "\n",
        "\\begin{align}\n",
        "tanh(x) = \\frac{e^x - e^{-x}}{e^{x}+e^{-x}}\n",
        "\\end{align}"
      ],
      "metadata": {
        "id": "eBD4SPRLkTMl"
      }
    },
    {
      "cell_type": "code",
      "source": [
        "def tanh(x):\n",
        "    return ( np.exp(x) - np.exp(-x)    ) / (  np.exp(x) + np.exp(-x)  )\n",
        "\n",
        "tanh(np.array([-10, -1, 0, 1, 10]))"
      ],
      "metadata": {
        "id": "SHdGQkAhkTMl",
        "colab": {
          "base_uri": "https://localhost:8080/"
        },
        "outputId": "951eaa67-48b6-4146-d19c-ff214bb9c3f6"
      },
      "execution_count": 58,
      "outputs": [
        {
          "output_type": "execute_result",
          "data": {
            "text/plain": [
              "array([-1.        , -0.76159416,  0.        ,  0.76159416,  1.        ])"
            ]
          },
          "metadata": {},
          "execution_count": 58
        }
      ]
    },
    {
      "cell_type": "markdown",
      "source": [
        "* 미분\n",
        "\n",
        "\n",
        "\\begin{align}\n",
        "\\frac{d}{dx} tanh(x) = (1-tanh(x))(1+tanh(x))) = 1-tanh(x)^2\n",
        "\\end{align}"
      ],
      "metadata": {
        "id": "nqlW5Q_7kTMl"
      }
    },
    {
      "cell_type": "code",
      "source": [
        "def tanh_grad(x):\n",
        "    return (  (1 - tanh(x) )*( 1 + tanh(x) )  )\n",
        "\n",
        "tanh_grad(np.array([-10, -1, 0, 1, 10]))"
      ],
      "metadata": {
        "id": "NKy-cXGAkTMl",
        "colab": {
          "base_uri": "https://localhost:8080/"
        },
        "outputId": "6232b9d4-dac3-40b8-f890-9ffe907bc71f"
      },
      "execution_count": 59,
      "outputs": [
        {
          "output_type": "execute_result",
          "data": {
            "text/plain": [
              "array([8.24461475e-09, 4.19974342e-01, 1.00000000e+00, 4.19974342e-01,\n",
              "       8.24461475e-09])"
            ]
          },
          "metadata": {},
          "execution_count": 59
        }
      ]
    },
    {
      "cell_type": "markdown",
      "source": [
        "* 시각화"
      ],
      "metadata": {
        "id": "wXi8E2T_INh4"
      }
    },
    {
      "cell_type": "code",
      "source": [
        "xs = np.linspace(-5, 5, 100)\n",
        "plt.subplot(121); plot_func(xs, tanh(xs), title = 'tanh')\n",
        "plt.subplot(122); plot_func(xs, tanh_grad(xs), title = 'tanh (dev)')"
      ],
      "metadata": {
        "id": "zli5iL01INh5",
        "colab": {
          "base_uri": "https://localhost:8080/",
          "height": 173
        },
        "outputId": "9933940f-c03d-49c2-b2a3-8368a2dec49d"
      },
      "execution_count": 60,
      "outputs": [
        {
          "output_type": "display_data",
          "data": {
            "text/plain": [
              "<Figure size 576x144 with 2 Axes>"
            ],
            "image/png": "[encoded data removed]"
          },
          "metadata": {
            "needs_background": "light"
          }
        }
      ]
    },
    {
      "cell_type": "markdown",
      "source": [
        "\n",
        "**Tanh 소개**\n",
        "\n",
        "```\n",
        "- # 나오게 된 배경\n",
        "- # 장단점\n",
        "- # 특징 정리 (출력 범위, 미분 값 등 )\n",
        "```\n",
        "\n"
      ],
      "metadata": {
        "id": "aeS5x6QJINh5"
      }
    },
    {
      "cell_type": "markdown",
      "source": [
        "### **| ReLU**\n"
      ],
      "metadata": {
        "id": "3pvnp63ydtbv"
      }
    },
    {
      "cell_type": "markdown",
      "source": [
        "* 구현\n",
        "\n",
        "\\begin{align}\n",
        "ReLU(x) = max(0, x)\n",
        "\\end{align}"
      ],
      "metadata": {
        "id": "CoX6MmkZkU2s"
      }
    },
    {
      "cell_type": "markdown",
      "source": [
        "`np.max` is just an alias for `np.amax`. \n",
        "This function only works on a single input array and finds the value of maximum element in that entire array (returning a scalar). \n",
        "Alternatively, it takes an `axis` argument and will find the maximum value along an axis of the input array (returning a new array).\n",
        "\n",
        "```\n",
        ">>> a = np.array([[0, 1, 6],\n",
        "                  [2, 4, 1]])\n",
        ">>> np.max(a)\n",
        "6\n",
        ">>> np.max(a, axis=0) # max of each column\n",
        "array([2, 4, 6])\n",
        "```\n",
        "\n",
        "The default behaviour of `np.maximum` is to take two arrays and compute their element-wise maximum. Here, 'compatible' means that one array can be broadcast to the other.\n",
        "```\n",
        ">>> b = np.array([3, 6, 1])\n",
        ">>> c = np.array([4, 2, 9])\n",
        ">>> np.maximum(b, c)\n",
        "array([4, 6, 9])\n",
        "```\n",
        "\n",
        "But `np.maximum` is also a universal function which means that it has other features and methods which come in useful when working with multidimensional arrays\n",
        "\n",
        "```\n",
        ">>> d = np.array([2, 0, 3, -4, -2, 7, 9])\n",
        ">>> np.maximum.accumulate(d)\n",
        "array([2, 2, 3, 3, 3, 7, 9])\n",
        "```\n"
      ],
      "metadata": {
        "id": "XzOAoWilJYug"
      }
    },
    {
      "cell_type": "code",
      "source": [
        "def relu(x):\n",
        "    return np.maximum(0,x)\n",
        "relu(np.array([-1,0,1]))"
      ],
      "metadata": {
        "id": "pHdYyZY0kU2s",
        "colab": {
          "base_uri": "https://localhost:8080/"
        },
        "outputId": "bd9230e1-173e-466c-8476-bcf3ff4c0506"
      },
      "execution_count": 77,
      "outputs": [
        {
          "output_type": "execute_result",
          "data": {
            "text/plain": [
              "array([0, 0, 1])"
            ]
          },
          "metadata": {},
          "execution_count": 77
        }
      ]
    },
    {
      "cell_type": "markdown",
      "source": [
        "* 미분\n",
        "\n",
        "\n",
        "\\begin{align}\n",
        "\\frac{x}{dx} ReLU(x) =  \n",
        "\\begin{cases}\n",
        "& 1 \\;\\; \\text{ if } x \\geq 0  \n",
        "\\\\ & 0 \\;\\; \\text{ if } x <0  \n",
        "\\end{cases}\n",
        "\\end{align}\n"
      ],
      "metadata": {
        "id": "i02vlzpOkU2s"
      }
    },
    {
      "cell_type": "code",
      "source": [
        "def relu_grad(x):\n",
        "    return np.where(x >= 0, 1, 0)\n",
        "relu_grad(np.array([-1,0,1]))"
      ],
      "metadata": {
        "id": "VVvwQ-LkkU2s",
        "colab": {
          "base_uri": "https://localhost:8080/"
        },
        "outputId": "ba75c450-bb7a-48c4-b97b-d7db142e01a5"
      },
      "execution_count": 79,
      "outputs": [
        {
          "output_type": "execute_result",
          "data": {
            "text/plain": [
              "array([0, 1, 1])"
            ]
          },
          "metadata": {},
          "execution_count": 79
        }
      ]
    },
    {
      "cell_type": "markdown",
      "source": [
        "* 시각화"
      ],
      "metadata": {
        "id": "kyDgaTsnImBJ"
      }
    },
    {
      "cell_type": "code",
      "source": [
        "xs = np.linspace(-5, 5, 100)\n",
        "plt.subplot(121); plot_func(xs, relu(xs), title = 'ReLU')\n",
        "plt.subplot(122); plot_func(xs, relu_grad(xs), title = 'ReLu (dev)')"
      ],
      "metadata": {
        "id": "Gus2PThvImBJ",
        "colab": {
          "base_uri": "https://localhost:8080/",
          "height": 173
        },
        "outputId": "1c586ea1-2cbc-45c0-e57b-8d7bda29f88c"
      },
      "execution_count": 80,
      "outputs": [
        {
          "output_type": "display_data",
          "data": {
            "text/plain": [
              "<Figure size 576x144 with 2 Axes>"
            ],
            "image/png": "[encoded data removed]"
          },
          "metadata": {
            "needs_background": "light"
          }
        }
      ]
    },
    {
      "cell_type": "markdown",
      "source": [
        "\n",
        "\n",
        "**ReLU 소개**\n",
        "\n",
        "```\n",
        "- # 나오게 된 배경\n",
        "- # 장단점\n",
        "- # 특징 정리 (출력 범위, 미분 값 등 )\n",
        "```\n",
        "\n"
      ],
      "metadata": {
        "id": "W7iYiMomImBJ"
      }
    },
    {
      "cell_type": "markdown",
      "source": [
        "### **| LeackyReLU & PReLU**\n",
        "\n"
      ],
      "metadata": {
        "id": "giYriuzFd2Y5"
      }
    },
    {
      "cell_type": "markdown",
      "source": [
        "* 구현\n",
        "\n",
        "\\begin{align}\n",
        "LeackyReLU(x) = max(0.01  x, x)\n",
        "\\\\\n",
        "\\\\\n",
        "\\end{align}\n",
        "\n",
        "\n",
        "\n",
        "\\begin{align}\n",
        "PReLU(x;\\alpha) = max(\\alpha  x, x)\n",
        "\\end{align}"
      ],
      "metadata": {
        "id": "0J0EQQr6kVyU"
      }
    },
    {
      "cell_type": "code",
      "source": [
        "def prelu(x, alpha = 0.01):\n",
        "    return np.maximum(alpha * x, x)"
      ],
      "metadata": {
        "id": "ZPn3pdYRkVyU"
      },
      "execution_count": 81,
      "outputs": []
    },
    {
      "cell_type": "markdown",
      "source": [
        "* 미분\n",
        "\n",
        "\\begin{align}\n",
        "\\frac{x}{dx} PReLU(x;\\alpha) =  \n",
        "\\begin{cases}\n",
        "& 1 \\;\\; \\text{ if } x \\geq 0  \n",
        "\\\\ & \\alpha \\;\\; \\text{ if } x <0  \n",
        "\\end{cases}\n",
        "\\end{align}"
      ],
      "metadata": {
        "id": "GgkyM8S9kVyU"
      }
    },
    {
      "cell_type": "code",
      "source": [
        "def prelu_grad(x, alpha = 0.01):\n",
        "    return np.where(x >= 0, 1, alpha)"
      ],
      "metadata": {
        "id": "SbkBD0IkkVyU"
      },
      "execution_count": 82,
      "outputs": []
    },
    {
      "cell_type": "markdown",
      "source": [
        "* 시각화\n",
        "  * $\\alpha$ 값이 각각 0.01, 0.1, 0.2 일때 플롯을 그리세요."
      ],
      "metadata": {
        "id": "hEw-vFRiK_LP"
      }
    },
    {
      "cell_type": "code",
      "source": [
        "xs = np.linspace(-5, 5, 100)\n",
        "plt.subplot(121); plot_func(xs, prelu(xs), title = 'ReLU'); plot_func(xs, prelu(xs, 0.1), title = 'ReLU');plot_func(xs, prelu(xs, 0.2), title = 'ReLU');\n",
        "plt.subplot(122); plot_func(xs, prelu_grad(xs), title = 'ReLu (dev)'); plot_func(xs, prelu_grad(xs, 0.1), title = 'ReLu (dev)'); plot_func(xs, prelu_grad(xs, 0.2), title = 'ReLu (dev)')"
      ],
      "metadata": {
        "id": "NnSDkIONK_LP",
        "colab": {
          "base_uri": "https://localhost:8080/",
          "height": 173
        },
        "outputId": "db948562-23f1-4cdd-9c21-34ac4993a0c4"
      },
      "execution_count": 84,
      "outputs": [
        {
          "output_type": "display_data",
          "data": {
            "text/plain": [
              "<Figure size 576x144 with 2 Axes>"
            ],
            "image/png": "[encoded data removed]"
          },
          "metadata": {
            "needs_background": "light"
          }
        }
      ]
    },
    {
      "cell_type": "markdown",
      "source": [
        "\n",
        "\n",
        "**LeackReLU및 PReLU 소개**\n",
        "\n",
        "```\n",
        "- # 나오게 된 배경\n",
        "- # 장단점\n",
        "- # 특징 정리 (출력 범위, 미분 값 등 )\n",
        "- # 알파 값은 보통 어떻게 정해지는가?\n",
        "```\n",
        "\n"
      ],
      "metadata": {
        "id": "iBA1WZWSK_LQ"
      }
    },
    {
      "cell_type": "markdown",
      "source": [
        "### **| ELU & SELU**\n",
        "\n",
        "\n",
        "\\begin{align}\n",
        "ELU(x) =\n",
        "\\begin{cases}\n",
        "& x \\;\\;\\;\\;\\;\\;\\;\\;\\;\\;\\;\\;\\;\\;\\;\\;\\; \\text{ if } x \\geq 0  \n",
        "\\\\ & (e^x-1) \\;\\;\\;\\;\\;\\; \\text{ if } x <0  \n",
        "\\end{cases}\n",
        "\\\\\n",
        "\\\\\n",
        "\\end{align}\n",
        "\n",
        "\n",
        "\n",
        "\\begin{align}\n",
        "SELU(x;\\alpha) =\n",
        "\\begin{cases}\n",
        "& x \\;\\;\\;\\;\\;\\;\\;\\;\\;\\;\\;\\;\\;\\;\\; \\text{ if } x \\geq 0  \n",
        "\\\\ & \\alpha(e^x-1) \\;\\; \\text{ if } x <0  \n",
        "\\end{cases}\n",
        "\\end{align}"
      ],
      "metadata": {
        "id": "IuUR73Ytd-E3"
      }
    },
    {
      "cell_type": "markdown",
      "source": [
        "* 구현"
      ],
      "metadata": {
        "id": "gllJdWbrkYEn"
      }
    },
    {
      "cell_type": "code",
      "source": [
        "def selu(x, alpha = 1):\n",
        "    return np.maximum(x, alpha * (np.exp(x)-1))"
      ],
      "metadata": {
        "id": "bgm1hZG0kYEo",
        "colab": {
          "base_uri": "https://localhost:8080/"
        },
        "outputId": "430f4fb4-9e5d-4c36-c819-f2fff8530925"
      },
      "execution_count": 88,
      "outputs": [
        {
          "output_type": "execute_result",
          "data": {
            "text/plain": [
              "6.38905609893065"
            ]
          },
          "metadata": {},
          "execution_count": 88
        }
      ]
    },
    {
      "cell_type": "markdown",
      "source": [
        "* 미분\n",
        "\n",
        "\\begin{align}\n",
        "\\frac{x}{dx} ELU(x;\\alpha) =  \n",
        "\\begin{cases}\n",
        "& 1 \\;\\;\\;\\;\\;\\; \\text{ if } x \\geq 0  \n",
        "\\\\ & \\alpha e^{x} \\;\\; \\text{ if } x <0  \n",
        "\\end{cases}\n",
        "\\end{align}"
      ],
      "metadata": {
        "id": "w-f6CI2PkYEo"
      }
    },
    {
      "cell_type": "code",
      "source": [
        "def selu_grad(x, alpha = 1):\n",
        "    return np.where( x >= 0, 1, alpha * np.exp(x))"
      ],
      "metadata": {
        "id": "5DlHTv-VkYEo"
      },
      "execution_count": 86,
      "outputs": []
    },
    {
      "cell_type": "markdown",
      "source": [
        "* 시각화\n",
        "  * $\\alpha$ 값이 각각 0.1, 1, 2 일때 플롯을 그리세요."
      ],
      "metadata": {
        "id": "9fQgzGW7MGXO"
      }
    },
    {
      "cell_type": "code",
      "source": [
        "xs = np.linspace(-5, 5, 100)\n",
        "plt.subplot(121)\n",
        "plot_func(xs, selu(xs, 0.1), title = 'ReLU')\n",
        "plot_func(xs, selu(xs), title = 'ReLU')\n",
        "plot_func(xs, selu(xs, 2), title = 'ReLU')\n",
        "plt.subplot(122)\n",
        "plot_func(xs, selu_grad(xs, 0.1), title = 'ReLu (dev)')\n",
        "plot_func(xs, selu_grad(xs), title = 'ReLu (dev)')\n",
        "plot_func(xs, selu_grad(xs, 2), title = 'ReLu (dev)')"
      ],
      "metadata": {
        "id": "PQsWOKX8MGXO",
        "colab": {
          "base_uri": "https://localhost:8080/",
          "height": 173
        },
        "outputId": "66ec101f-ae1b-4794-ab53-cfd9f3d778bb"
      },
      "execution_count": 87,
      "outputs": [
        {
          "output_type": "display_data",
          "data": {
            "text/plain": [
              "<Figure size 576x144 with 2 Axes>"
            ],
            "image/png": "[encoded data removed]"
          },
          "metadata": {
            "needs_background": "light"
          }
        }
      ]
    },
    {
      "cell_type": "markdown",
      "source": [
        "\n",
        "\n",
        "**ELU 및 ReLU 소개**\n",
        "\n",
        "```\n",
        "- # 나오게 된 배경\n",
        "- # 장단점\n",
        "- # 특징 정리 (출력 범위, 미분 값 등 )\n",
        "- # 알파 값은 보통 어떻게 정해지는가?\n",
        "```\n",
        "\n"
      ],
      "metadata": {
        "id": "lScBXtP4MGXO"
      }
    },
    {
      "cell_type": "markdown",
      "source": [
        "## 그래디언트 소실 (Vaniching Gradient)\n",
        "---\n",
        "다음 질문에 답할 수 있도록 내용을 정리하세요.\n",
        "\n",
        "1. 그래디언트 소실 개념\n",
        "2. 딥러닝에서 그래디언트 값이 중요한 이유\n",
        "3. 그래디언트 소실을 방지하기 위한 딥러닝 기법\n",
        "\n",
        "```\n",
        "\n",
        "\n",
        "```"
      ],
      "metadata": {
        "id": "jmJI0rPcK0Lg"
      }
    },
    {
      "cell_type": "code",
      "source": [
        ""
      ],
      "metadata": {
        "id": "UwJdVUnqkL7i"
      },
      "execution_count": null,
      "outputs": []
    }
  ]
}