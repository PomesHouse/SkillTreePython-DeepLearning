{
  "nbformat": 4,
  "nbformat_minor": 0,
  "metadata": {
    "colab": {
      "name": "cgan _exmaple.ipynb",
      "private_outputs": true,
      "provenance": [],
      "authorship_tag": "ABX9TyNc9DCYU2A5tteEkVpEe4fU",
      "include_colab_link": true
    },
    "kernelspec": {
      "name": "python3",
      "display_name": "Python 3"
    },
    "language_info": {
      "name": "python"
    },
    "gpuClass": "standard",
    "accelerator": "GPU"
  },
  "cells": [
    {
      "cell_type": "markdown",
      "metadata": {
        "id": "view-in-github",
        "colab_type": "text"
      },
      "source": [
        "<a href=\"https://colab.research.google.com/github/PomesHouse/SkillTreePython-DeepLearning/blob/main/04.Paper-with-code/cgan/cgan__exmaple.ipynb\" target=\"_parent\"><img src=\"https://colab.research.google.com/assets/colab-badge.svg\" alt=\"Open In Colab\"/></a>"
      ]
    },
    {
      "cell_type": "code",
      "source": [
        "! git clone https://github.com/PomesHouse/SkillTreePython-DeepLearning"
      ],
      "metadata": {
        "id": "gVI9o8R6mTZR"
      },
      "execution_count": null,
      "outputs": []
    },
    {
      "cell_type": "code",
      "source": [
        "import sys\n",
        "sys.path.append('/content/SkillTreePython-DeepLearning/04.Paper-with-code/cgan')"
      ],
      "metadata": {
        "id": "xGbB-f0Tmgxp"
      },
      "execution_count": null,
      "outputs": []
    },
    {
      "cell_type": "markdown",
      "source": [
        "#CGAN\n",
        "---"
      ],
      "metadata": {
        "id": "ItH_mr1HsUsP"
      }
    },
    {
      "cell_type": "markdown",
      "source": [
        "### 데이터 로더"
      ],
      "metadata": {
        "id": "43O7W1aZs0PB"
      }
    },
    {
      "cell_type": "code",
      "source": [
        "from data_loader import *\n",
        "from utils import display_sample_img\n",
        "x_train, y_train, _, _ = mnist_loader(True)\n",
        "display_sample_img(x_train, (3,8), True)\n",
        "x_train.shape, y_train.shape"
      ],
      "metadata": {
        "id": "gWf33bBHs0PD"
      },
      "execution_count": null,
      "outputs": []
    },
    {
      "cell_type": "code",
      "source": [
        "IMG_SHAPE = (28,28,1)\n",
        "NOISE_DIM = 128\n",
        "LABEL_DIM = 10"
      ],
      "metadata": {
        "id": "ojgbI_TpsWNb"
      },
      "execution_count": null,
      "outputs": []
    },
    {
      "cell_type": "markdown",
      "source": [
        "### 모델 구성"
      ],
      "metadata": {
        "id": "Hw2QButNwhG6"
      }
    },
    {
      "cell_type": "code",
      "source": [
        "from model import BuildModel\n",
        "builder = BuildModel(IMG_SHAPE, NOISE_DIM, 10)\n",
        "gene = builder.build_gene(last_activation='tanh') # tanh : -1 ~ 1 아웃풋  sigmoid: 0~1 아웃풋\n",
        "disc = builder.build_disc()\n",
        "gene.summary()\n",
        "disc.summary()"
      ],
      "metadata": {
        "id": "iE6Pq_hgwph9"
      },
      "execution_count": null,
      "outputs": []
    },
    {
      "cell_type": "markdown",
      "source": [
        "### 학습\n"
      ],
      "metadata": {
        "id": "Knoy9F_eoDll"
      }
    },
    {
      "cell_type": "code",
      "source": [
        "from cgan import CGAN\n",
        "model = CGAN(gene, disc, IMG_SHAPE, NOISE_DIM, LABEL_DIM )\n",
        "model.compile(optimizer=tf.keras.optimizers.Adam(learning_rate=0.0002, beta_1=0.5, beta_2=0.999, epsilon=10e-8))\n",
        "model.cgan.summary()"
      ],
      "metadata": {
        "id": "co89_FDbuSxq"
      },
      "execution_count": null,
      "outputs": []
    },
    {
      "cell_type": "code",
      "source": [
        "model.fit(x_train, y_train, epochs = 5)"
      ],
      "metadata": {
        "id": "eUdSkOw7m1a6"
      },
      "execution_count": null,
      "outputs": []
    },
    {
      "cell_type": "code",
      "source": [
        ""
      ],
      "metadata": {
        "id": "MPBmWtWezpGL"
      },
      "execution_count": null,
      "outputs": []
    }
  ]
}