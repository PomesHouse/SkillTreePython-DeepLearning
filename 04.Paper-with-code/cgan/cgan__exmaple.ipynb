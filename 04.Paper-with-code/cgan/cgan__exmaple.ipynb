{
  "nbformat": 4,
  "nbformat_minor": 0,
  "metadata": {
    "colab": {
      "name": "cgan _exmaple.ipynb",
      "private_outputs": true,
      "provenance": [],
      "authorship_tag": "ABX9TyMxBWMtqu4DAJK8vrJq1uNq",
      "include_colab_link": true
    },
    "kernelspec": {
      "name": "python3",
      "display_name": "Python 3"
    },
    "language_info": {
      "name": "python"
    },
    "gpuClass": "standard"
  },
  "cells": [
    {
      "cell_type": "markdown",
      "metadata": {
        "id": "view-in-github",
        "colab_type": "text"
      },
      "source": [
        "<a href=\"https://colab.research.google.com/github/PomesHouse/SkillTreePython-DeepLearning/blob/main/04.Paper-with-code/cgan/cgan__exmaple.ipynb\" target=\"_parent\"><img src=\"https://colab.research.google.com/assets/colab-badge.svg\" alt=\"Open In Colab\"/></a>"
      ]
    },
    {
      "cell_type": "markdown",
      "source": [
        "#CGAN\n",
        "---"
      ],
      "metadata": {
        "id": "ItH_mr1HsUsP"
      }
    },
    {
      "cell_type": "code",
      "source": [
        "IMG_SHAPE = (32,32,3)\n",
        "Z_DIM = 128"
      ],
      "metadata": {
        "id": "ojgbI_TpsWNb"
      },
      "execution_count": null,
      "outputs": []
    },
    {
      "cell_type": "markdown",
      "source": [
        "### 데이터 로더"
      ],
      "metadata": {
        "id": "43O7W1aZs0PB"
      }
    },
    {
      "cell_type": "code",
      "source": [
        "from data_loader import *\n",
        "from utils import display_sample_img\n",
        "x_train, y_train, _, _ = mnist_loader(True)\n",
        "display_sample_img(x_train, (3,8), True)\n",
        "x_train.shape, y_train.shape"
      ],
      "metadata": {
        "id": "gWf33bBHs0PD"
      },
      "execution_count": null,
      "outputs": []
    },
    {
      "cell_type": "markdown",
      "source": [
        "### 모델 구성"
      ],
      "metadata": {
        "id": "Hw2QButNwhG6"
      }
    },
    {
      "cell_type": "code",
      "source": [
        "from model import BuildModel\n",
        "builder = BuildModel(IMG_SHAPE, Z_DIM, 10)\n",
        "gene = builder.build_gene(last_activation='tanh') # tanh : -1 ~ 1 아웃풋  sigmoid: 0~1 아웃풋\n",
        "disc = builder.build_disc()\n",
        "gene.summary()\n",
        "disc.summary()"
      ],
      "metadata": {
        "id": "iE6Pq_hgwph9"
      },
      "execution_count": null,
      "outputs": []
    }
  ]
}