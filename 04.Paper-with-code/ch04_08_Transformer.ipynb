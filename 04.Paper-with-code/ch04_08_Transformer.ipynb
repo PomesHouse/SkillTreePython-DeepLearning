{
  "nbformat": 4,
  "nbformat_minor": 0,
  "metadata": {
    "colab": {
      "provenance": [],
      "collapsed_sections": [],
      "machine_shape": "hm",
      "include_colab_link": true
    },
    "kernelspec": {
      "name": "python3",
      "display_name": "Python 3"
    },
    "language_info": {
      "name": "python"
    },
    "accelerator": "GPU",
    "gpuClass": "standard"
  },
  "cells": [
    {
      "cell_type": "markdown",
      "metadata": {
        "id": "view-in-github",
        "colab_type": "text"
      },
      "source": [
        "<a href=\"https://colab.research.google.com/github/PomesHouse/SkillTreePython-DeepLearning/blob/main/04.Paper-with-code/ch04_08_Transformer.ipynb\" target=\"_parent\"><img src=\"https://colab.research.google.com/assets/colab-badge.svg\" alt=\"Open In Colab\"/></a>"
      ]
    },
    {
      "cell_type": "markdown",
      "source": [
        "# ch04.08 Transformer\n",
        "\n",
        "* 날짜:\n",
        "* 이름:\n",
        "\n",
        "## 학습내용\n",
        "  - Transformer을 이해하고 구현한다.\n",
        "  - Vision Transformer을 이해하고 구현한다.\n",
        "\n",
        "## 참고 사이트\n",
        "\n",
        "   - 논문 [Attention is all you need](https://arxiv.org/pdf/1706.03762.pdf)\n"
      ],
      "metadata": {
        "id": "nLnUQASYQKZc"
      }
    },
    {
      "cell_type": "code",
      "source": [
        "import sys, os\n",
        "import numpy as np\n",
        "import tensorflow as tf\n",
        "import matplotlib.pyplot as plt\n",
        "from tensorflow.keras import layers, models, utils"
      ],
      "metadata": {
        "id": "FlxzeNvjD2dP"
      },
      "execution_count": 1,
      "outputs": []
    },
    {
      "cell_type": "markdown",
      "source": [
        "## 모듈 제작\n",
        "---"
      ],
      "metadata": {
        "id": "XcL9NVU8iYZB"
      }
    },
    {
      "cell_type": "markdown",
      "source": [
        "### **| Multi Head Attention**\n",
        "\n",
        "<p align='center'>\n",
        "<img src=https://github.com/yebiny/SkillTreePython-DeepLearning/blob/main/imgs/ch0408-09.PNG?raw=true?raw=true?raw=true\n",
        " width=350>\n",
        "</p>"
      ],
      "metadata": {
        "id": "xolCJasMbBLR"
      }
    },
    {
      "cell_type": "markdown",
      "source": [
        "* set params\n",
        "\n",
        "<p align='center'>\n",
        "<img src=https://github.com/yebiny/SkillTreePython-DeepLearning/blob/main/imgs/ch0408-01.PNG?raw=true?raw=true\n",
        " width=850>\n",
        "</p>\n"
      ],
      "metadata": {
        "id": "Pvbc9o05q-MC"
      }
    },
    {
      "cell_type": "code",
      "source": [
        "h = 8 \n",
        "d_k = 64\n",
        "d_v  = 64\n",
        "d_model = 64 * h #512  = embeding dims\n",
        "\n",
        "# 인풋 x shape \n",
        "# 시계열 : ( time range(window_size), channel )\n",
        "# 텍스트 : ( max lenth , vocab size )\n",
        "# 텍스트 임베딩 : (max lenth, embeding dims)\n",
        "\n",
        "# -> (V, K, Q)\n",
        "# T = S = max lenth\n",
        "# d_model = embedding dims\n",
        "T = 200\n",
        "S = 100\n",
        "\n",
        "Q = (T, d_model)\n",
        "K = (S, d_model)\n",
        "V = (S, d_model)\n",
        "print(Q)\n",
        "print(K)\n",
        "print(V)"
      ],
      "metadata": {
        "id": "GkyUk71jrBti",
        "colab": {
          "base_uri": "https://localhost:8080/"
        },
        "outputId": "fade3fc8-19cc-420c-978c-7b7b7bce4e7d"
      },
      "execution_count": null,
      "outputs": [
        {
          "output_type": "stream",
          "name": "stdout",
          "text": [
            "(200, 512)\n",
            "(100, 512)\n",
            "(100, 512)\n"
          ]
        }
      ]
    },
    {
      "cell_type": "code",
      "source": [
        "def matmul(shape1, shape2):\n",
        "  assert shape1[1]==shape2[0]\n",
        "  return (shape1[0], shape2[1])\n",
        "A = (100, 300)\n",
        "B = (300, 200)\n",
        "matmul(A, B)"
      ],
      "metadata": {
        "id": "qjGtR8OpwCUC",
        "colab": {
          "base_uri": "https://localhost:8080/"
        },
        "outputId": "b91c4f77-d380-469c-c897-a70e7e8943ba"
      },
      "execution_count": null,
      "outputs": [
        {
          "output_type": "execute_result",
          "data": {
            "text/plain": [
              "(100, 200)"
            ]
          },
          "metadata": {},
          "execution_count": 2
        }
      ]
    },
    {
      "cell_type": "markdown",
      "source": [
        "* Step1. Linear each  $Q, K, V(W^Q, W^K, W^V)$\n",
        "\n",
        "<br>\n",
        "\n",
        "<p align='center'>\n",
        "<img src=https://github.com/yebiny/SkillTreePython-DeepLearning/blob/main/imgs/ch0408-05.PNG?raw=true?raw=true?raw=true\n",
        " width=250>\n",
        "</p>\n",
        "\n",
        "<p align='center'>\n",
        "<img src=https://github.com/yebiny/SkillTreePython-DeepLearning/blob/main/imgs/ch0408-02-1.PNG?raw=true?raw=true\n",
        " width=850>\n",
        "</p>\n",
        "\n"
      ],
      "metadata": {
        "id": "U2pu1Yk8rFay"
      }
    },
    {
      "cell_type": "code",
      "source": [
        "# set weights\n",
        "W_Q = (d_model, d_k)\n",
        "W_K = (d_model, d_k)\n",
        "W_V = (d_model, d_v) \n",
        "\n",
        "# calculate shape\n",
        "VW = matmul(V, W_V) \n",
        "KW = matmul(K, W_K) \n",
        "QW = matmul(Q, W_Q) \n",
        "\n",
        "print(f'Q {Q} x W_Q {W_Q} = {QW}')\n",
        "print(f'K {K} x W_K {W_K} = {KW}')\n",
        "print(f'V {V} x W_V {W_V} = {VW}')"
      ],
      "metadata": {
        "id": "-mgzUhEMwEAa",
        "colab": {
          "base_uri": "https://localhost:8080/"
        },
        "outputId": "14a00116-4c9e-4b8a-9191-ae35629a9c13"
      },
      "execution_count": null,
      "outputs": [
        {
          "output_type": "stream",
          "name": "stdout",
          "text": [
            "Q (200, 512) x W_Q (512, 64) = (200, 64)\n",
            "K (100, 512) x W_K (512, 64) = (100, 64)\n",
            "V (100, 512) x W_V (512, 64) = (100, 64)\n"
          ]
        }
      ]
    },
    {
      "cell_type": "markdown",
      "source": [
        "* Step2. Attention\n",
        "\n",
        "\n",
        "<p align='center'>\n",
        "<img src=https://wikidocs.net/images/page/159310/mha_img_original.png?raw=true\n",
        " width=450>\n",
        "</p>\n",
        "\n",
        "\n",
        "<p align='center'>\n",
        "<img src=https://github.com/yebiny/SkillTreePython-DeepLearning/blob/main/imgs/ch0408-03.PNG?raw=true?raw=true\n",
        " width=850>\n",
        "</p>"
      ],
      "metadata": {
        "id": "5Jt-3QHk5ceb"
      }
    },
    {
      "cell_type": "code",
      "source": [
        "KW_T = (KW[1], KW[0])\n",
        "print(f\"QW: {QW}, KW_T: {KW_T}, VW: {VW}\")\n",
        "\n",
        "Att = matmul( matmul(QW, KW_T), VW )\n",
        "print(f'Attention(QW, KW, VW) : {Att}')"
      ],
      "metadata": {
        "id": "q4wy6SCaqcA7",
        "colab": {
          "base_uri": "https://localhost:8080/"
        },
        "outputId": "b2cbed6a-2ca5-4093-b8df-6864c8f4808d"
      },
      "execution_count": null,
      "outputs": [
        {
          "output_type": "stream",
          "name": "stdout",
          "text": [
            "QW: (200, 64), KW_T: (64, 100), VW: (100, 64)\n",
            "Attention(QW, KW, VW) : (200, 64)\n"
          ]
        }
      ]
    },
    {
      "cell_type": "markdown",
      "source": [
        "* step3. concat & Linear $(W^O)$\n",
        "\n",
        "<p align='center'>\n",
        "<img src=https://github.com/yebiny/SkillTreePython-DeepLearning/blob/main/imgs/ch0408-10.PNG?raw=true?raw=true?raw=true\n",
        " width=300>\n",
        "</p>\n",
        "\n",
        "<p align='center'>\n",
        "<img src=https://github.com/yebiny/SkillTreePython-DeepLearning/blob/main/imgs/ch0408-04.PNG?raw=true?raw=true\n",
        " width=850>\n",
        "</p>"
      ],
      "metadata": {
        "id": "rpK9F02_61db"
      }
    },
    {
      "cell_type": "code",
      "source": [
        "print(f'- Attention(QW, KW, VW) = head {Att}')\n",
        "\n",
        "concat_att = (Att[0], Att[1]*h)\n",
        "print(f'- Concat(head_1, ...head_h) {concat_att}')\n",
        "\n",
        "W_O = ((h*d_v), d_model)\n",
        "final_out = matmul(concat_att, W_O)\n",
        "print(f'- Concat {concat_att} x W_O {W_O} = final output: {final_out}' )"
      ],
      "metadata": {
        "id": "ALvY3gFB5j2z",
        "colab": {
          "base_uri": "https://localhost:8080/"
        },
        "outputId": "5715d591-6116-4c95-c4ca-120d4f5a0f7c"
      },
      "execution_count": null,
      "outputs": [
        {
          "output_type": "stream",
          "name": "stdout",
          "text": [
            "- Attention(QW, KW, VW) = head (200, 64)\n",
            "- Concat(head_1, ...head_h) (200, 512)\n",
            "- Concat (200, 512) x W_O (512, 512) = final output: (200, 512)\n"
          ]
        }
      ]
    },
    {
      "cell_type": "code",
      "source": [
        "print('- 인풋: ',  V, K, Q)\n",
        "print(f'- 최종 아웃풋: {final_out}')"
      ],
      "metadata": {
        "id": "0yQlAMph8BQb",
        "colab": {
          "base_uri": "https://localhost:8080/"
        },
        "outputId": "996d4103-16ee-4fcf-f243-5acc773b9177"
      },
      "execution_count": null,
      "outputs": [
        {
          "output_type": "stream",
          "name": "stdout",
          "text": [
            "- 인풋:  (100, 512) (100, 512) (200, 512)\n",
            "- 최종 아웃풋: (200, 512)\n"
          ]
        }
      ]
    },
    {
      "cell_type": "markdown",
      "source": [
        "#### Tensorflow.keras MultiHeadAttention Layer\n",
        "\n",
        "* docs: https://www.tensorflow.org/api_docs/python/tf/keras/layers/MultiHeadAttention\n",
        "\n",
        "```\n",
        "tf.keras.layers.MultiHeadAttention(\n",
        "    num_heads,\n",
        "    key_dim,\n",
        "    value_dim=None,\n",
        ")\n",
        "\n",
        "# call args\n",
        "\n",
        "query\tQuery Tensor of shape (B, T, dim).\n",
        "value\tValue Tensor of shape (B, S, dim).\n",
        "key\tOptional key Tensor of shape (B, S, dim). If not given, will use \n",
        "```"
      ],
      "metadata": {
        "id": "JlGlKBg57lRr"
      }
    },
    {
      "cell_type": "code",
      "source": [
        "h = 8 \n",
        "d_k = 64\n",
        "d_model = 64 * h #512  = embeding dims\n",
        "\n",
        "T = 200\n",
        "S = 100\n",
        "\n",
        "Q = layers.Input(shape=(T, d_model))\n",
        "V = layers.Input(shape=(S, d_model))\n",
        "\n",
        "y = layers.MultiHeadAttention(num_heads = h,\n",
        "                              key_dim = d_k,\n",
        "                              )(Q, V)\n",
        "                          "
      ],
      "metadata": {
        "id": "cOHRxGBxbE1C"
      },
      "execution_count": null,
      "outputs": []
    },
    {
      "cell_type": "code",
      "source": [
        "print(f'- 인풋: V {V.shape} K {K.shape} Q {Q.shape}')\n",
        "print(f'- 최종 아웃풋: {y.shape}')"
      ],
      "metadata": {
        "id": "QRnjbqfvKmn7",
        "colab": {
          "base_uri": "https://localhost:8080/"
        },
        "outputId": "58444085-1733-420b-cb05-bd9940fd5d32"
      },
      "execution_count": null,
      "outputs": [
        {
          "output_type": "stream",
          "name": "stdout",
          "text": [
            "- 인풋: V (None, 100, 512)\n",
            "- 최종 아웃풋: (None, 2)\n"
          ]
        }
      ]
    },
    {
      "cell_type": "markdown",
      "source": [
        "### **| Encoder Block**\n",
        "\n",
        "<p align='center'>\n",
        "<img src=https://github.com/yebiny/SkillTreePython-DeepLearning/blob/main/imgs/ch0408-11.PNG?raw=true?raw=true\n",
        " width=250>\n",
        "</p>"
      ],
      "metadata": {
        "id": "etBfO5Y9cHVf"
      }
    },
    {
      "cell_type": "code",
      "source": [
        "def encoder_block(input_shape, h, d_k, d_ff, dropout=0.25, name=None):\n",
        "    inputs = layers.Input(shape=input_shape)\n",
        "    # Attention and Normalization\n",
        "    # multi-head\n",
        "    y = layers.MultiHeadAttention(num_heads= h,\n",
        "                                  key_dim= d_k, \n",
        "                                  dropout= dropout)(inputs, inputs)\n",
        "    y = layers.Dropout(dropout)(y)                        \n",
        "    # Add & Norm\n",
        "    y = layers.LayerNormalization(epsilon=1e-6)(y)\n",
        "    y_1 = layers.Add()([y, inputs])\n",
        "\n",
        "    # Feed Forward Part\n",
        "    # FF\n",
        "    y = layers.Conv1D(filters=d_ff, kernel_size=1, activation='relu')(y_1)\n",
        "    y = layers.Dropout(dropout)(y)\n",
        "    y = layers.Conv1D(filters=inputs.shape[-1], kernel_size=1, activation='relu')(y)\n",
        "    # Add & Norm\n",
        "    y = layers.LayerNormalization(epsilon=1e-6)(y)\n",
        "    outputs = layers.Add()([y, y_1])\n",
        "\n",
        "    return models.Model(inputs, outputs, name=name)"
      ],
      "metadata": {
        "id": "e-hVfBKwMG9X"
      },
      "execution_count": null,
      "outputs": []
    },
    {
      "cell_type": "code",
      "source": [
        "input_shape = (200, 128)\n",
        "h = 8\n",
        "d_k = 16\n",
        "d_ff = 32\n",
        "encoder = encoder_block(input_shape,\n",
        "                        h, \n",
        "                        d_k, \n",
        "                        d_ff)\n",
        "utils.plot_model(encoder, show_shapes=True)"
      ],
      "metadata": {
        "id": "ZRRQwBR6ayxH"
      },
      "execution_count": null,
      "outputs": []
    },
    {
      "cell_type": "markdown",
      "source": [
        "## 실습1. 시계열 데이터 분류\n",
        "---"
      ],
      "metadata": {
        "id": "adsKf_GqrbFw"
      }
    },
    {
      "cell_type": "markdown",
      "source": [
        "### **| 시계열 데이터셋**"
      ],
      "metadata": {
        "id": "tS8Z6BJxib6n"
      }
    },
    {
      "cell_type": "code",
      "source": [
        "def readucr(filename):\n",
        "    data = np.loadtxt(filename, delimiter=\"\\t\")\n",
        "    y = data[:, 0]\n",
        "    x = data[:, 1:]\n",
        "    return x, y.astype(int)\n",
        "\n",
        "\n",
        "root_url = \"https://raw.githubusercontent.com/hfawaz/cd-diagram/master/FordA/\"\n",
        "\n",
        "x_train, y_train = readucr(root_url + \"FordA_TRAIN.tsv\")\n",
        "x_test, y_test = readucr(root_url + \"FordA_TEST.tsv\")\n",
        "\n",
        "x_train = x_train.reshape((x_train.shape[0], x_train.shape[1], 1))\n",
        "x_test = x_test.reshape((x_test.shape[0], x_test.shape[1], 1))\n",
        "\n",
        "n_classes = len(np.unique(y_train))\n",
        "\n",
        "idx = np.random.permutation(len(x_train))\n",
        "x_train = x_train[idx]\n",
        "y_train = y_train[idx]\n",
        "\n",
        "y_train[y_train == -1] = 0\n",
        "y_test[y_test == -1] = 0"
      ],
      "metadata": {
        "id": "1ngVAq1FEy1v"
      },
      "execution_count": null,
      "outputs": []
    },
    {
      "cell_type": "code",
      "source": [
        "print(x_train.shape, y_train.shape)\n",
        "\n",
        "idx = 10\n",
        "plt.subplot(121)\n",
        "plt.title(y_train[idx])\n",
        "plt.plot(x_train[idx])\n",
        "plt.subplot(122)\n",
        "plt.hist(y_train)\n",
        "plt.show()"
      ],
      "metadata": {
        "id": "JrwNOqUXE3Lm",
        "colab": {
          "base_uri": "https://localhost:8080/",
          "height": 299
        },
        "outputId": "fef44a9c-b603-4299-cbd5-904f3f3edcc0"
      },
      "execution_count": null,
      "outputs": [
        {
          "output_type": "stream",
          "name": "stdout",
          "text": [
            "(3601, 500, 1) (3601,)\n"
          ]
        },
        {
          "output_type": "display_data",
          "data": {
            "text/plain": [
              "<Figure size 432x288 with 2 Axes>"
            ],
            "image/png": "[encoded data removed]"
          },
          "metadata": {
            "needs_background": "light"
          }
        }
      ]
    },
    {
      "cell_type": "markdown",
      "source": [
        "\n",
        "### **| 모델 구현**"
      ],
      "metadata": {
        "id": "I-zZMs1xd2uI"
      }
    },
    {
      "cell_type": "code",
      "source": [
        "### Set params\n",
        "input_shape = (500, 1) # ( T/S , d_model)\n",
        "n_classes = 2\n",
        "\n",
        "N = 4\n",
        "h = 4\n",
        "d_k = 128\n",
        "d_ff = 4\n",
        "\n",
        "### 모델 구현\n",
        "\n",
        "# Set Input\n",
        "inputs = layers.Input(shape=input_shape)\n",
        "\n",
        "# Encoder Block\n",
        "y = inputs\n",
        "for i in range(N):\n",
        "  encoder = encoder_block(input_shape, \n",
        "                          h, \n",
        "                          d_k, \n",
        "                          d_ff, \n",
        "                          name=f'encoder_{i}')\n",
        "  y = encoder(y)\n",
        "\n",
        "# Classifier\n",
        "y = layers.GlobalAveragePooling1D(data_format='channels_first')(y)\n",
        "y = layers.Dense(128, activation='relu')(y)\n",
        "y = layers.Dropout(0.5)(y)\n",
        "y = layers.Dense(n_classes, activation='softmax')(y)\n",
        "\n",
        "# Final model\n",
        "model = models.Model(inputs, y, name='TransformerEncoderCfy')\n",
        "model.summary()"
      ],
      "metadata": {
        "id": "1D4ITo01Z0HX",
        "colab": {
          "base_uri": "https://localhost:8080/"
        },
        "outputId": "115a34b0-a679-4577-f037-64d8f68d11aa"
      },
      "execution_count": null,
      "outputs": [
        {
          "output_type": "stream",
          "name": "stdout",
          "text": [
            "Model: \"TransformerEncoderCfy\"\n",
            "_________________________________________________________________\n",
            " Layer (type)                Output Shape              Param #   \n",
            "=================================================================\n",
            " input_51 (InputLayer)       [(None, 500, 1)]          0         \n",
            "                                                                 \n",
            " encoder_0 (Functional)      (None, 500, 1)            3602      \n",
            "                                                                 \n",
            " encoder_1 (Functional)      (None, 500, 1)            3602      \n",
            "                                                                 \n",
            " encoder_2 (Functional)      (None, 500, 1)            3602      \n",
            "                                                                 \n",
            " encoder_3 (Functional)      (None, 500, 1)            3602      \n",
            "                                                                 \n",
            " global_average_pooling1d_6   (None, 500)              0         \n",
            " (GlobalAveragePooling1D)                                        \n",
            "                                                                 \n",
            " dense_7 (Dense)             (None, 128)               64128     \n",
            "                                                                 \n",
            " dropout_80 (Dropout)        (None, 128)               0         \n",
            "                                                                 \n",
            " dense_8 (Dense)             (None, 2)                 258       \n",
            "                                                                 \n",
            "=================================================================\n",
            "Total params: 78,794\n",
            "Trainable params: 78,794\n",
            "Non-trainable params: 0\n",
            "_________________________________________________________________\n"
          ]
        }
      ]
    },
    {
      "cell_type": "code",
      "source": [
        "model.compile(loss = 'sparse_categorical_crossentropy',\n",
        "              optimizer = tf.keras.optimizers.Adam(0.0001),\n",
        "              metrics='acc')\n",
        "es = tf.keras.callbacks.EarlyStopping(patience=8, restore_best_weights=True)\n",
        "model.fit(x_train, y_train,\n",
        "          validation_data=[x_test, y_test],\n",
        "          epochs = 50,\n",
        "          batch_size=64,\n",
        "          callbacks=[es])"
      ],
      "metadata": {
        "id": "hOpei2oVnJmo",
        "colab": {
          "base_uri": "https://localhost:8080/"
        },
        "outputId": "8673dc0f-e9a4-44f1-83a5-96087a8ae6f4"
      },
      "execution_count": null,
      "outputs": [
        {
          "output_type": "stream",
          "name": "stdout",
          "text": [
            "Epoch 1/50\n",
            "57/57 [==============================] - 28s 207ms/step - loss: 1.1684 - acc: 0.5176 - val_loss: 0.7986 - val_acc: 0.5591\n",
            "Epoch 2/50\n",
            "57/57 [==============================] - 11s 196ms/step - loss: 0.9287 - acc: 0.5648 - val_loss: 0.7021 - val_acc: 0.6053\n",
            "Epoch 3/50\n",
            "57/57 [==============================] - 11s 195ms/step - loss: 0.8524 - acc: 0.5862 - val_loss: 0.6504 - val_acc: 0.6439\n",
            "Epoch 4/50\n",
            "12/57 [=====>........................] - ETA: 7s - loss: 0.8128 - acc: 0.5964"
          ]
        }
      ]
    },
    {
      "cell_type": "code",
      "source": [],
      "metadata": {
        "id": "cwOBhu0XsBbp"
      },
      "execution_count": null,
      "outputs": []
    },
    {
      "cell_type": "markdown",
      "source": [
        "## 실습2. IMDB 텍스트 분류\n",
        "---"
      ],
      "metadata": {
        "id": "6A9BPqyPrVo4"
      }
    },
    {
      "cell_type": "markdown",
      "source": [
        "### **| IMDB 데이터셋**\n"
      ],
      "metadata": {
        "id": "xnVcneSwigM3"
      }
    },
    {
      "cell_type": "code",
      "source": [
        "vocab_size = 20000  \n",
        "maxlen = 200  \n",
        "\n",
        "(x_train, y_train), (x_val, y_val) = tf.keras.datasets.imdb.load_data(num_words=vocab_size)\n",
        "print(len(x_train), \"Training sequences\")\n",
        "print(len(x_val), \"Validation sequences\")\n",
        "x_train = tf.keras.preprocessing.sequence.pad_sequences(x_train, maxlen=maxlen)\n",
        "x_val = tf.keras.preprocessing.sequence.pad_sequences(x_val, maxlen=maxlen)\n",
        "print(x_train.shape, x_val.shape)"
      ],
      "metadata": {
        "id": "zanVdSOvfEMx",
        "colab": {
          "base_uri": "https://localhost:8080/"
        },
        "outputId": "01a4eccf-239a-4566-cd56-06a3fb24c01e"
      },
      "execution_count": null,
      "outputs": [
        {
          "output_type": "stream",
          "name": "stdout",
          "text": [
            "Downloading data from https://storage.googleapis.com/tensorflow/tf-keras-datasets/imdb.npz\n",
            "17465344/17464789 [==============================] - 0s 0us/step\n",
            "17473536/17464789 [==============================] - 0s 0us/step\n",
            "25000 Training sequences\n",
            "25000 Validation sequences\n",
            "(25000, 200) (25000, 200)\n"
          ]
        }
      ]
    },
    {
      "cell_type": "code",
      "source": [
        "# 200 -> (200, embedding)"
      ],
      "metadata": {
        "id": "fLiJTOJ9TUsW"
      },
      "execution_count": null,
      "outputs": []
    },
    {
      "cell_type": "code",
      "source": [
        "# 데이터가 정하는 값\n",
        "maxlen = 200\n",
        "vocab_size = 20000\n",
        "\n",
        "# 하이퍼파라미터\n",
        "embed_dim = 128\n",
        "\n",
        "x = layers.Input(shape = (maxlen,))\n",
        "x_em = layers.Embedding(input_dim = vocab_size,  \n",
        "                        output_dim = embed_dim)(x)\n",
        "print(x.shape, x_em.shape)\n"
      ],
      "metadata": {
        "colab": {
          "base_uri": "https://localhost:8080/"
        },
        "id": "SNn_exvITaTj",
        "outputId": "5924cc42-a0b3-44c0-e1ef-5bcc5686fe71"
      },
      "execution_count": null,
      "outputs": [
        {
          "output_type": "stream",
          "name": "stdout",
          "text": [
            "(None, 200) (None, 200, 128)\n"
          ]
        }
      ]
    },
    {
      "cell_type": "code",
      "source": [
        "class TokenAndPositionEmbedding(layers.Layer): # 상속: tf.keras의 Layer를 상속받는다.\n",
        "    def __init__(self, maxlen, vocab_size, embed_dim):\n",
        "        super(TokenAndPositionEmbedding, self).__init__() # 부모 클래스의 초기값들을 가져오기\n",
        "        \n",
        "        self.token_emb = layers.Embedding(input_dim=vocab_size, output_dim=embed_dim) # 기본 임베딩 \n",
        "        self.pos_emb = layers.Embedding(input_dim=maxlen, output_dim=embed_dim) # Positional encoding\n",
        "        self.maxlen = maxlen\n",
        "    def call(self, x):\n",
        "        # maxlen = tf.shape(x)[-1]\n",
        "        positions = tf.range(start=0, limit=self.maxlen, delta=1)\n",
        "        positions = self.pos_emb(positions)\n",
        "        x = self.token_emb(x)\n",
        "        return x + positions"
      ],
      "metadata": {
        "id": "S2LReh_CfiG4"
      },
      "execution_count": null,
      "outputs": []
    },
    {
      "cell_type": "code",
      "source": [
        "# call이 하는 기능\n",
        "\n",
        "# embed = TokenAndPositionEmbedding(maxlen, vocab_size, embed_dim)\n",
        "# embed(x)\n",
        "\n",
        "\n",
        "# x_embed = TokenAndPositionEmbedding(maxlen, vocab_size, embed_dim )(x)\n",
        "# print(x_embed)"
      ],
      "metadata": {
        "id": "BLmyS3OkVEbk"
      },
      "execution_count": null,
      "outputs": []
    },
    {
      "cell_type": "markdown",
      "source": [
        "\n",
        "### **| 모델 구현**"
      ],
      "metadata": {
        "id": "KZzxMCQDK5c7"
      }
    },
    {
      "cell_type": "code",
      "source": [
        "### Set params\n",
        "\n",
        "maxlen = 200\n",
        "vocab_size = 20000\n",
        "embed_dim = 32\n",
        "n_classes = 2\n",
        "\n",
        "N = 4\n",
        "h = 4\n",
        "d_k = 32\n",
        "d_ff = 32\n",
        "\n",
        "### 모델 구현\n",
        "\n",
        "# Set Input\n",
        "inputs = layers.Input(shape=(maxlen,))\n",
        "\n",
        "# Embedding : (maxlen) -> (maxlen, embed_dim)\n",
        "y_emb = TokenAndPositionEmbedding(maxlen, vocab_size, embed_dim)(inputs)\n",
        "\n",
        "# Encoder Block\n",
        "y = y_emb # y.shape: [None, maxlen, embed_dim]\n",
        "for i in range(N):\n",
        "  encoder = encoder_block(y.shape[1:], \n",
        "                          h, \n",
        "                          d_k, \n",
        "                          d_ff, \n",
        "                          name=f'encoder_{i}')\n",
        "  y = encoder(y)\n",
        "\n",
        "# Classifier\n",
        "y = layers.GlobalAveragePooling1D(data_format='channels_first')(y)\n",
        "y = layers.Dense(128, activation='relu')(y)\n",
        "y = layers.Dropout(0.5)(y)\n",
        "y = layers.Dense(n_classes, activation='softmax')(y)\n",
        "\n",
        "# Final model\n",
        "model = models.Model(inputs, y, name='TransformerEncoderCfy')\n",
        "model.summary()\n",
        "\n",
        "\n",
        "# Set Input\n",
        "\n",
        "# Encoder Block\n",
        "\n",
        "\n",
        "# Classifier\n",
        "\n",
        "# Final model\n"
      ],
      "metadata": {
        "id": "RY3759qfK5c7",
        "colab": {
          "base_uri": "https://localhost:8080/"
        },
        "outputId": "1af51630-85c8-4b4a-f616-f08507b7853a"
      },
      "execution_count": null,
      "outputs": [
        {
          "output_type": "stream",
          "name": "stdout",
          "text": [
            "Model: \"TransformerEncoderCfy\"\n",
            "_________________________________________________________________\n",
            " Layer (type)                Output Shape              Param #   \n",
            "=================================================================\n",
            " input_9 (InputLayer)        [(None, 200)]             0         \n",
            "                                                                 \n",
            " token_and_position_embeddin  (None, 200, 32)          646400    \n",
            " g_1 (TokenAndPositionEmbedd                                     \n",
            " ing)                                                            \n",
            "                                                                 \n",
            " encoder_0 (Functional)      (None, 200, 32)           19040     \n",
            "                                                                 \n",
            " encoder_1 (Functional)      (None, 200, 32)           19040     \n",
            "                                                                 \n",
            " encoder_2 (Functional)      (None, 200, 32)           19040     \n",
            "                                                                 \n",
            " encoder_3 (Functional)      (None, 200, 32)           19040     \n",
            "                                                                 \n",
            " global_average_pooling1d (G  (None, 200)              0         \n",
            " lobalAveragePooling1D)                                          \n",
            "                                                                 \n",
            " dense (Dense)               (None, 128)               25728     \n",
            "                                                                 \n",
            " dropout_14 (Dropout)        (None, 128)               0         \n",
            "                                                                 \n",
            " dense_1 (Dense)             (None, 2)                 258       \n",
            "                                                                 \n",
            "=================================================================\n",
            "Total params: 748,546\n",
            "Trainable params: 748,546\n",
            "Non-trainable params: 0\n",
            "_________________________________________________________________\n"
          ]
        }
      ]
    },
    {
      "cell_type": "markdown",
      "source": [
        "### **| 학습**"
      ],
      "metadata": {
        "id": "3bS4AnGMd65o"
      }
    },
    {
      "cell_type": "code",
      "source": [
        "model.compile(loss = 'sparse_categorical_crossentropy',\n",
        "              optimizer = tf.keras.optimizers.Adam(0.0001),\n",
        "              metrics='acc')\n",
        "es = tf.keras.callbacks.EarlyStopping(patience=8, restore_best_weights=True)\n",
        "model.fit(x_train, y_train,\n",
        "          validation_data=[x_val, y_val],\n",
        "          epochs = 50,\n",
        "          batch_size=64,\n",
        "          callbacks=[es])"
      ],
      "metadata": {
        "id": "mOCrC4IdW-if",
        "colab": {
          "base_uri": "https://localhost:8080/"
        },
        "outputId": "792ad9ee-7bf6-4036-9886-939f205455a3"
      },
      "execution_count": null,
      "outputs": [
        {
          "output_type": "stream",
          "name": "stdout",
          "text": [
            "Epoch 1/50\n",
            "391/391 [==============================] - 34s 50ms/step - loss: 0.6219 - acc: 0.6237 - val_loss: 0.3873 - val_acc: 0.8264\n",
            "Epoch 2/50\n",
            "391/391 [==============================] - 19s 48ms/step - loss: 0.3076 - acc: 0.8720 - val_loss: 0.3244 - val_acc: 0.8683\n",
            "Epoch 3/50\n",
            "391/391 [==============================] - 19s 50ms/step - loss: 0.2231 - acc: 0.9162 - val_loss: 0.3859 - val_acc: 0.8580\n",
            "Epoch 4/50\n",
            "391/391 [==============================] - 19s 48ms/step - loss: 0.1612 - acc: 0.9428 - val_loss: 0.3562 - val_acc: 0.8683\n",
            "Epoch 5/50\n",
            "391/391 [==============================] - 19s 49ms/step - loss: 0.1334 - acc: 0.9536 - val_loss: 0.4325 - val_acc: 0.8614\n",
            "Epoch 6/50\n",
            "391/391 [==============================] - 19s 48ms/step - loss: 0.0990 - acc: 0.9682 - val_loss: 0.5414 - val_acc: 0.8416\n",
            "Epoch 7/50\n",
            "391/391 [==============================] - 19s 48ms/step - loss: 0.0835 - acc: 0.9738 - val_loss: 0.6511 - val_acc: 0.8587\n",
            "Epoch 8/50\n",
            "391/391 [==============================] - 19s 48ms/step - loss: 0.0733 - acc: 0.9772 - val_loss: 0.6219 - val_acc: 0.8571\n",
            "Epoch 9/50\n",
            "391/391 [==============================] - 19s 48ms/step - loss: 0.0599 - acc: 0.9817 - val_loss: 0.6939 - val_acc: 0.8512\n",
            "Epoch 10/50\n",
            "391/391 [==============================] - 19s 48ms/step - loss: 0.0515 - acc: 0.9853 - val_loss: 0.7711 - val_acc: 0.8370\n"
          ]
        },
        {
          "output_type": "execute_result",
          "data": {
            "text/plain": [
              "<keras.callbacks.History at 0x7fcf642ba150>"
            ]
          },
          "metadata": {},
          "execution_count": 28
        }
      ]
    },
    {
      "cell_type": "code",
      "source": [],
      "metadata": {
        "id": "_zuy7UIjmQOH"
      },
      "execution_count": null,
      "outputs": []
    },
    {
      "cell_type": "code",
      "source": [],
      "metadata": {
        "id": "uiqzzBnNXEg2"
      },
      "execution_count": null,
      "outputs": []
    },
    {
      "cell_type": "markdown",
      "source": [
        "## 실습3. Vision Transformer\n",
        "---"
      ],
      "metadata": {
        "id": "Ga27rKRsuKgg"
      }
    },
    {
      "cell_type": "code",
      "source": [
        "def display_img_patches(img, patches=None):\n",
        "\n",
        "  # origin image\n",
        "  plt.imshow(img)\n",
        "  plt.axis('off')\n",
        "  plt.show()\n",
        " \n",
        "  if patches is not None:\n",
        "    n = int(np.sqrt(patches.shape[0]))\n",
        "    patch_size = int(img.shape[0]/n)\n",
        "\n",
        "    # patch imgs\n",
        "    plt.figure(figsize=(4, 4))\n",
        "    for i, patch in enumerate(patches):\n",
        "      ax = plt.subplot(n, n, i + 1)\n",
        "      patch_img = tf.reshape(patch, (patch_size, patch_size, 3))\n",
        "      plt.imshow(patch_img.numpy().astype(\"uint8\"))\n",
        "      plt.axis(\"off\")\n",
        "    plt.show()\n",
        "\n",
        "    # patches\n",
        "    plt.figure(figsize=(10, 2))\n",
        "    for i, patch in enumerate(patches):\n",
        "      ax = plt.subplot(1, n*n, i + 1)\n",
        "      patch = tf.expand_dims(patch, 1)\n",
        "      plt.imshow(patch.numpy().astype(\"uint8\"))\n",
        "      plt.axis(\"off\")\n",
        "    plt.show()"
      ],
      "metadata": {
        "id": "jyvroA8DLeIZ"
      },
      "execution_count": 2,
      "outputs": []
    },
    {
      "cell_type": "code",
      "source": [
        "(x_train, y_train), (x_test, y_test) = tf.keras.datasets.cifar100.load_data() # 100개의 클래스 \n",
        "x_train.shape, y_train.shape"
      ],
      "metadata": {
        "id": "-BTU3lHQuMO1",
        "colab": {
          "base_uri": "https://localhost:8080/"
        },
        "outputId": "d790aea6-e637-42ff-99fa-edfea67ea872"
      },
      "execution_count": 3,
      "outputs": [
        {
          "output_type": "stream",
          "name": "stdout",
          "text": [
            "Downloading data from https://www.cs.toronto.edu/~kriz/cifar-100-python.tar.gz\n",
            "169009152/169001437 [==============================] - 4s 0us/step\n",
            "169017344/169001437 [==============================] - 4s 0us/step\n"
          ]
        },
        {
          "output_type": "execute_result",
          "data": {
            "text/plain": [
              "((50000, 32, 32, 3), (50000, 1))"
            ]
          },
          "metadata": {},
          "execution_count": 3
        }
      ]
    },
    {
      "cell_type": "code",
      "source": [
        "idx = 12\n",
        "display_img_patches(x_train[idx])"
      ],
      "metadata": {
        "id": "BW_l5s3_EnjR",
        "colab": {
          "base_uri": "https://localhost:8080/",
          "height": 248
        },
        "outputId": "67681f5c-ce40-460f-99ee-daf8d90c7bb7"
      },
      "execution_count": 6,
      "outputs": [
        {
          "output_type": "display_data",
          "data": {
            "text/plain": [
              "<Figure size 432x288 with 1 Axes>"
            ],
            "image/png": "[encoded data removed]"
          },
          "metadata": {
            "needs_background": "light"
          }
        }
      ]
    },
    {
      "cell_type": "markdown",
      "source": [
        "### **| 이미지 증강**"
      ],
      "metadata": {
        "id": "ayGzpMWKLMgL"
      }
    },
    {
      "cell_type": "code",
      "source": [
        "def aug_model(resize = 72):\n",
        "    # 전처리\n",
        "    aug_layers = [layers.Normalization(), # 정규화  1/255\n",
        "                    layers.Resizing(resize, resize),    # 리사이즈\n",
        "                    # 증강 \n",
        "                    layers.RandomFlip(mode = 'horizontal'), # 랜덤플립\n",
        "                    layers.RandomRotation(factor = 0.02),   # 랜덤회전\n",
        "                    layers.RandomZoom(height_factor = 0.2, width_factor = 0.2)]   # 랜덤확대\n",
        "\n",
        "    model = tf.keras.Sequential(aug_layers, name = 'ImgAug')\n",
        "    return model\n",
        "\n",
        "# train / valid / test : train set에만 자동적으로 증강 레이어가 적용  \n",
        "\n",
        "x_img = x_train[idx]\n",
        "x_aug = aug_model()(x_img)\n",
        "\n",
        "display_img_patches(x_aug.numpy().astype('uint8'))\n",
        "\n",
        "x_img.shape, x_aug.shape    "
      ],
      "metadata": {
        "id": "UMdNJVrZPxyh",
        "colab": {
          "base_uri": "https://localhost:8080/",
          "height": 266
        },
        "outputId": "ae8db4b7-c363-44c9-a39d-a8cc8679ec72"
      },
      "execution_count": 10,
      "outputs": [
        {
          "output_type": "display_data",
          "data": {
            "text/plain": [
              "<Figure size 432x288 with 1 Axes>"
            ],
            "image/png": "[encoded data removed]"
          },
          "metadata": {
            "needs_background": "light"
          }
        },
        {
          "output_type": "execute_result",
          "data": {
            "text/plain": [
              "((32, 32, 3), TensorShape([72, 72, 3]))"
            ]
          },
          "metadata": {},
          "execution_count": 10
        }
      ]
    },
    {
      "cell_type": "markdown",
      "source": [
        "### **| Patch 생성**"
      ],
      "metadata": {
        "id": "o7bXeAwN_mwZ"
      }
    },
    {
      "cell_type": "code",
      "source": [
        "\n",
        "class MakePatchLayer(layers.Layer):\n",
        "    def __init__(self, patch_size):\n",
        "        super(MakePatchLayer, self).__init__()\n",
        "        self.patch_size = patch_size\n",
        "\n",
        "    def call(self, imgs): # ( batch, h, w, ch)\n",
        "        # BUT, x_aug.shape = (72, 72, 3)\n",
        "    \n",
        "        x_patches = tf.image.extract_patches(images = imgs, \n",
        "                                            sizes = [1, self.patch_size, self.patch_size, 1] , # patch size가 1이란 말은 그대로\n",
        "                                            strides = [1, self.patch_size, self.patch_size, 1],\n",
        "                                            rates = [1, 1, 1, 1],\n",
        "                                            padding = 'VALID',\n",
        "                                            )\n",
        "        # (batch_size, H patch 개수, W patch 개수, patch 차원((patch size**2)* 3))\n",
        "        batch_size = tf.shape(x_patches)[0]\n",
        "        d_patches = tf.shape(x_patches)[-1]\n",
        "\n",
        "        x_patches = tf.reshape(x_patches, [batch_size, -1, d_patches])\n",
        "        # (batch_size, patch개수, patch 차원)\n",
        "        return x_patches\n"
      ],
      "metadata": {
        "id": "ApoNC3tUv0dB"
      },
      "execution_count": 47,
      "outputs": []
    },
    {
      "cell_type": "code",
      "source": [
        "x_patches = MakePatchLayer(12)(x_aug)\n",
        "print(x_aug.shape, x_patches.shape)\n",
        "display_img_patches(x_aug[0].numpy().astype('uint8'), x_patches[0])"
      ],
      "metadata": {
        "id": "jWt00XZDv37Y",
        "colab": {
          "base_uri": "https://localhost:8080/",
          "height": 620
        },
        "outputId": "e78ff99c-2b85-410b-b33e-cf141b5b02eb"
      },
      "execution_count": 18,
      "outputs": [
        {
          "output_type": "stream",
          "name": "stdout",
          "text": [
            "(1, 72, 72, 3) (1, 36, 432)\n"
          ]
        },
        {
          "output_type": "display_data",
          "data": {
            "text/plain": [
              "<Figure size 432x288 with 1 Axes>"
            ],
            "image/png": "[encoded data removed]"
          },
          "metadata": {
            "needs_background": "light"
          }
        },
        {
          "output_type": "display_data",
          "data": {
            "text/plain": [
              "<Figure size 288x288 with 36 Axes>"
            ],
            "image/png": "[encoded data removed]"
          },
          "metadata": {
            "needs_background": "light"
          }
        },
        {
          "output_type": "display_data",
          "data": {
            "text/plain": [
              "<Figure size 720x144 with 36 Axes>"
            ],
            "image/png": "[encoded data removed]"
          },
          "metadata": {
            "needs_background": "light"
          }
        }
      ]
    },
    {
      "cell_type": "markdown",
      "source": [
        "### **| Patch Encoder**"
      ],
      "metadata": {
        "id": "NDDhrJtb_rKp"
      }
    },
    {
      "cell_type": "code",
      "source": [
        "project_dim = 128\n",
        "num_patches = tf.shape(x_patches)[1]\n",
        "print(f'-flatten patches: {x_patches.shape}')\n",
        "\n",
        "# patch linear projection \n",
        "projected = layers.Dense(project_dim)(x_patches)\n",
        "print(f'-projected patches: {projected.shape}')\n",
        "\n",
        "# position embedding\n",
        "positions = tf.range(0, num_patches, 1)\n",
        "print(f'-positions: {positions}, num_patches: {num_patches}')\n",
        "embed = layers.Embedding(num_patches, project_dim)(positions)\n",
        "print(f'-embedded positions: {embed.shape}')\n",
        "\n",
        "# position + patch encoding\n",
        "encoded = projected + embed\n",
        "print(f'- encoding result: {encoded.shape}')"
      ],
      "metadata": {
        "id": "4TF3PvGB_kuJ",
        "colab": {
          "base_uri": "https://localhost:8080/"
        },
        "outputId": "0b67efd0-712b-40d2-fd11-2c4b7773e514"
      },
      "execution_count": 22,
      "outputs": [
        {
          "output_type": "stream",
          "name": "stdout",
          "text": [
            "-flatten patches: (1, 36, 432)\n",
            "-projected patches: (1, 36, 128)\n",
            "-positions: [ 0  1  2  3  4  5  6  7  8  9 10 11 12 13 14 15 16 17 18 19 20 21 22 23\n",
            " 24 25 26 27 28 29 30 31 32 33 34 35], num_patches: 36\n",
            "-embedded positions: (36, 128)\n",
            "- encoding result: (1, 36, 128)\n"
          ]
        }
      ]
    },
    {
      "cell_type": "code",
      "source": [
        "class PatchPositionEncoder(layers.Layer):\n",
        "    def __init__(self, project_dim, num_patches):\n",
        "        super(PatchPositionEncoder, self).__init__()\n",
        "        self.project_dim = project_dim\n",
        "        self.num_patches = num_patches \n",
        "\n",
        "        self.dense = layers.Dense(project_dim)\n",
        "        self.embedding = layers.Embedding(num_patches, project_dim)\n",
        "\n",
        "    def call(self, patches): # ( batch, h, w, ch)\n",
        "        # patch linear projection \n",
        "        projected = self.dense(patches)\n",
        "\n",
        "        # position embedding\n",
        "        positions = tf.range(0, self.num_patches, 1)\n",
        "        embed = self.embedding(positions)\n",
        "\n",
        "        # position + patch encoding\n",
        "        encoded = projected + embed\n",
        "        return encoded\n",
        "\n",
        "encoded = PatchPositionEncoder(128, 36)(x_patches)\n",
        "print(x_patches.shape, encoded.shape)"
      ],
      "metadata": {
        "id": "Lf1Z-aaYBWUR",
        "colab": {
          "base_uri": "https://localhost:8080/"
        },
        "outputId": "db22ad62-94af-4f31-a562-9208f3d72636"
      },
      "execution_count": 24,
      "outputs": [
        {
          "output_type": "stream",
          "name": "stdout",
          "text": [
            "(1, 36, 432) (1, 36, 128)\n"
          ]
        }
      ]
    },
    {
      "cell_type": "markdown",
      "source": [
        "\n",
        "### **| 모델 구현**"
      ],
      "metadata": {
        "id": "9DnMP2RyLFmD"
      }
    },
    {
      "cell_type": "code",
      "source": [
        "def encoder_block(input_shape, h, d_k, d_ff, dropout=0.25, name=None):\n",
        "    inputs = layers.Input(shape=input_shape)\n",
        "    # Attention and Normalization\n",
        "    y = layers.LayerNormalization(epsilon=1e-6)(inputs)\n",
        "    y = layers.MultiHeadAttention(num_heads= h,\n",
        "                                  key_dim= d_k, \n",
        "                                  dropout= dropout)(y, y)\n",
        "    z = layers.Add()([y, inputs])\n",
        "\n",
        "    # Feed Forward Part\n",
        "    y = layers.LayerNormalization(epsilon=1e-6)(z)\n",
        "    y = layers.Conv1D(filters=d_ff, kernel_size=1, activation='relu')(y)\n",
        "    y = layers.Dropout(dropout)(y)\n",
        "    y = layers.Conv1D(filters=inputs.shape[-1], kernel_size=1, activation='relu')(y)\n",
        "    outputs = layers.Add()([y, z])\n",
        "\n",
        "    return models.Model(inputs, outputs, name=name)"
      ],
      "metadata": {
        "id": "3dCENPNk1U0B"
      },
      "execution_count": 48,
      "outputs": []
    },
    {
      "cell_type": "code",
      "source": [
        "### Set params\n",
        "input_shape = (32,32,3)\n",
        "resize = 72\n",
        "patch_size = 6\n",
        "project_dim = 64\n",
        "num_patches = int(resize/patch_size)**2\n",
        "n_classes = 100\n",
        "\n",
        "## Transformer units\n",
        "N = 8\n",
        "h = 4\n",
        "d_k = 32\n",
        "d_ff = 32\n",
        "\n",
        "### 모델 구현\n",
        "# Set Input\n",
        "inputs = layers.Input(shape=input_shape)\n",
        "# Augment img\n",
        "y = aug_model(resize=resize)(inputs)\n",
        "# Make patches\n",
        "y = MakePatchLayer(patch_size)(y)\n",
        "# Encoding\n",
        "y = PatchPositionEncoder(project_dim, num_patches)(y)\n",
        "\n",
        "# Encoder Block\n",
        "for i in range(N):\n",
        "  encoder = encoder_block(y.shape[1:], \n",
        "                          h, \n",
        "                          d_k, \n",
        "                          d_ff, \n",
        "                          name=f'encoder_{i}')\n",
        "  y = encoder(y)\n",
        "\n",
        "# Classifier\n",
        "y = layers.LayerNormalization(epsilon=1e-6)(y)\n",
        "y = layers.Flatten()(y)\n",
        "\n",
        "y = layers.Dropout(0.5)(y)\n",
        "y = layers.Dense(2048, activation='gelu')(y)\n",
        "y = layers.Dropout(0.5)(y)\n",
        "y = layers.Dense(1024, activation='gelu')(y)\n",
        "y = layers.Dropout(0.5)(y)\n",
        "\n",
        "y = layers.Dense(n_classes, activation='softmax')(y)\n",
        "# Final model\n",
        "model = models.Model(inputs, y, name='TransformerEncoderCfy')\n",
        "model.summary()"
      ],
      "metadata": {
        "colab": {
          "base_uri": "https://localhost:8080/"
        },
        "id": "FKyR8ICK1ZBp",
        "outputId": "3827babd-c88e-4cc5-b529-37fa7a238a88"
      },
      "execution_count": 49,
      "outputs": [
        {
          "output_type": "stream",
          "name": "stdout",
          "text": [
            "Model: \"TransformerEncoderCfy\"\n",
            "_________________________________________________________________\n",
            " Layer (type)                Output Shape              Param #   \n",
            "=================================================================\n",
            " input_41 (InputLayer)       [(None, 32, 32, 3)]       0         \n",
            "                                                                 \n",
            " ImgAug (Sequential)         (None, 72, 72, 3)         7         \n",
            "                                                                 \n",
            " make_patch_layer_9 (MakePat  (None, None, 108)        0         \n",
            " chLayer)                                                        \n",
            "                                                                 \n",
            " patch_position_encoder_9 (P  (None, 144, 64)          16192     \n",
            " atchPositionEncoder)                                            \n",
            "                                                                 \n",
            " encoder_0 (Functional)      (None, 144, 64)           37664     \n",
            "                                                                 \n",
            " encoder_1 (Functional)      (None, 144, 64)           37664     \n",
            "                                                                 \n",
            " encoder_2 (Functional)      (None, 144, 64)           37664     \n",
            "                                                                 \n",
            " encoder_3 (Functional)      (None, 144, 64)           37664     \n",
            "                                                                 \n",
            " encoder_4 (Functional)      (None, 144, 64)           37664     \n",
            "                                                                 \n",
            " encoder_5 (Functional)      (None, 144, 64)           37664     \n",
            "                                                                 \n",
            " encoder_6 (Functional)      (None, 144, 64)           37664     \n",
            "                                                                 \n",
            " encoder_7 (Functional)      (None, 144, 64)           37664     \n",
            "                                                                 \n",
            " layer_normalization_86 (Lay  (None, 144, 64)          128       \n",
            " erNormalization)                                                \n",
            "                                                                 \n",
            " flatten_6 (Flatten)         (None, 9216)              0         \n",
            "                                                                 \n",
            " dropout_58 (Dropout)        (None, 9216)              0         \n",
            "                                                                 \n",
            " dense_32 (Dense)            (None, 2048)              18876416  \n",
            "                                                                 \n",
            " dropout_59 (Dropout)        (None, 2048)              0         \n",
            "                                                                 \n",
            " dense_33 (Dense)            (None, 1024)              2098176   \n",
            "                                                                 \n",
            " dropout_60 (Dropout)        (None, 1024)              0         \n",
            "                                                                 \n",
            " dense_34 (Dense)            (None, 100)               102500    \n",
            "                                                                 \n",
            "=================================================================\n",
            "Total params: 21,394,731\n",
            "Trainable params: 21,394,724\n",
            "Non-trainable params: 7\n",
            "_________________________________________________________________\n"
          ]
        }
      ]
    },
    {
      "cell_type": "code",
      "source": [
        "# callback lr 조절\n",
        "model.compile(\n",
        "    optimizer = tf.keras.optimizers.Adam(),\n",
        "    loss = tf.keras.losses.SparseCategoricalCrossentropy(),\n",
        "    metrics = [tf.keras.metrics.SparseCategoricalAccuracy(name='acc'),\n",
        "               tf.keras.metrics.SparseTopKCategoricalAccuracy(5, name='top-5-acc') \n",
        "               ]\n",
        ")"
      ],
      "metadata": {
        "id": "P-W0JeAr3aVK"
      },
      "execution_count": 50,
      "outputs": []
    },
    {
      "cell_type": "code",
      "source": [
        "history = model.fit(x_train, y_train,\n",
        "                    batch_size = 256, \n",
        "                    epochs = 50, \n",
        "                    validation_data=(x_test, y_test))"
      ],
      "metadata": {
        "colab": {
          "base_uri": "https://localhost:8080/"
        },
        "id": "9s2IdQZS4ieg",
        "outputId": "b0281676-a4eb-4f08-f12b-058447145277"
      },
      "execution_count": 51,
      "outputs": [
        {
          "output_type": "stream",
          "name": "stdout",
          "text": [
            "Epoch 1/50\n",
            "196/196 [==============================] - 48s 207ms/step - loss: 4.6541 - acc: 0.0231 - top-5-acc: 0.0976 - val_loss: 4.3329 - val_acc: 0.0453 - val_top-5-acc: 0.1868\n",
            "Epoch 2/50\n",
            "196/196 [==============================] - 38s 196ms/step - loss: 4.3524 - acc: 0.0351 - top-5-acc: 0.1477 - val_loss: 4.2053 - val_acc: 0.0621 - val_top-5-acc: 0.2257\n",
            "Epoch 3/50\n",
            "196/196 [==============================] - 38s 196ms/step - loss: 4.2374 - acc: 0.0480 - top-5-acc: 0.1847 - val_loss: 4.0791 - val_acc: 0.0780 - val_top-5-acc: 0.2571\n",
            "Epoch 4/50\n",
            "196/196 [==============================] - 38s 196ms/step - loss: 4.1198 - acc: 0.0622 - top-5-acc: 0.2240 - val_loss: 3.9481 - val_acc: 0.0932 - val_top-5-acc: 0.3121\n",
            "Epoch 5/50\n",
            "196/196 [==============================] - 38s 196ms/step - loss: 4.0048 - acc: 0.0756 - top-5-acc: 0.2638 - val_loss: 3.8371 - val_acc: 0.1118 - val_top-5-acc: 0.3423\n",
            "Epoch 6/50\n",
            "196/196 [==============================] - 38s 196ms/step - loss: 3.8941 - acc: 0.0930 - top-5-acc: 0.2992 - val_loss: 3.7123 - val_acc: 0.1379 - val_top-5-acc: 0.3783\n",
            "Epoch 7/50\n",
            "196/196 [==============================] - 38s 196ms/step - loss: 3.7614 - acc: 0.1137 - top-5-acc: 0.3413 - val_loss: 3.5434 - val_acc: 0.1633 - val_top-5-acc: 0.4294\n",
            "Epoch 8/50\n",
            "196/196 [==============================] - 38s 196ms/step - loss: 3.6318 - acc: 0.1380 - top-5-acc: 0.3841 - val_loss: 3.3895 - val_acc: 0.1976 - val_top-5-acc: 0.4677\n",
            "Epoch 9/50\n",
            "196/196 [==============================] - 38s 196ms/step - loss: 3.4936 - acc: 0.1639 - top-5-acc: 0.4248 - val_loss: 3.2295 - val_acc: 0.2203 - val_top-5-acc: 0.5017\n",
            "Epoch 10/50\n",
            "196/196 [==============================] - 38s 196ms/step - loss: 3.3702 - acc: 0.1839 - top-5-acc: 0.4564 - val_loss: 3.1893 - val_acc: 0.2279 - val_top-5-acc: 0.5153\n",
            "Epoch 11/50\n",
            "196/196 [==============================] - 38s 196ms/step - loss: 3.2811 - acc: 0.1996 - top-5-acc: 0.4808 - val_loss: 3.0718 - val_acc: 0.2510 - val_top-5-acc: 0.5396\n",
            "Epoch 12/50\n",
            "196/196 [==============================] - 38s 196ms/step - loss: 3.1934 - acc: 0.2159 - top-5-acc: 0.5043 - val_loss: 3.0666 - val_acc: 0.2514 - val_top-5-acc: 0.5440\n",
            "Epoch 13/50\n",
            "196/196 [==============================] - 38s 196ms/step - loss: 3.1299 - acc: 0.2276 - top-5-acc: 0.5198 - val_loss: 2.9975 - val_acc: 0.2640 - val_top-5-acc: 0.5593\n",
            "Epoch 14/50\n",
            "196/196 [==============================] - 38s 196ms/step - loss: 3.0655 - acc: 0.2414 - top-5-acc: 0.5367 - val_loss: 2.9008 - val_acc: 0.2817 - val_top-5-acc: 0.5733\n",
            "Epoch 15/50\n",
            "196/196 [==============================] - 38s 196ms/step - loss: 3.0015 - acc: 0.2534 - top-5-acc: 0.5529 - val_loss: 2.8868 - val_acc: 0.2787 - val_top-5-acc: 0.5801\n",
            "Epoch 16/50\n",
            "196/196 [==============================] - 38s 196ms/step - loss: 2.9515 - acc: 0.2628 - top-5-acc: 0.5670 - val_loss: 2.8316 - val_acc: 0.2912 - val_top-5-acc: 0.5960\n",
            "Epoch 17/50\n",
            "196/196 [==============================] - 38s 196ms/step - loss: 2.9047 - acc: 0.2690 - top-5-acc: 0.5755 - val_loss: 2.7683 - val_acc: 0.3053 - val_top-5-acc: 0.6068\n",
            "Epoch 18/50\n",
            "196/196 [==============================] - 38s 196ms/step - loss: 2.8589 - acc: 0.2794 - top-5-acc: 0.5884 - val_loss: 2.7407 - val_acc: 0.3158 - val_top-5-acc: 0.6119\n",
            "Epoch 19/50\n",
            "196/196 [==============================] - 38s 196ms/step - loss: 2.8170 - acc: 0.2918 - top-5-acc: 0.5965 - val_loss: 2.7100 - val_acc: 0.3193 - val_top-5-acc: 0.6214\n",
            "Epoch 20/50\n",
            "196/196 [==============================] - 38s 196ms/step - loss: 2.7761 - acc: 0.2966 - top-5-acc: 0.6061 - val_loss: 2.6863 - val_acc: 0.3230 - val_top-5-acc: 0.6254\n",
            "Epoch 21/50\n",
            "196/196 [==============================] - 38s 196ms/step - loss: 2.7295 - acc: 0.3072 - top-5-acc: 0.6166 - val_loss: 2.6535 - val_acc: 0.3275 - val_top-5-acc: 0.6328\n",
            "Epoch 22/50\n",
            "196/196 [==============================] - 38s 196ms/step - loss: 2.7040 - acc: 0.3092 - top-5-acc: 0.6230 - val_loss: 2.6599 - val_acc: 0.3318 - val_top-5-acc: 0.6302\n",
            "Epoch 23/50\n",
            "196/196 [==============================] - 38s 196ms/step - loss: 2.6654 - acc: 0.3206 - top-5-acc: 0.6338 - val_loss: 2.6301 - val_acc: 0.3348 - val_top-5-acc: 0.6353\n",
            "Epoch 24/50\n",
            "196/196 [==============================] - 38s 196ms/step - loss: 2.6313 - acc: 0.3256 - top-5-acc: 0.6381 - val_loss: 2.6028 - val_acc: 0.3427 - val_top-5-acc: 0.6447\n",
            "Epoch 25/50\n",
            "196/196 [==============================] - 38s 196ms/step - loss: 2.5966 - acc: 0.3336 - top-5-acc: 0.6476 - val_loss: 2.5517 - val_acc: 0.3547 - val_top-5-acc: 0.6511\n",
            "Epoch 26/50\n",
            "196/196 [==============================] - 38s 196ms/step - loss: 2.5689 - acc: 0.3413 - top-5-acc: 0.6543 - val_loss: 2.5489 - val_acc: 0.3539 - val_top-5-acc: 0.6501\n",
            "Epoch 27/50\n",
            "196/196 [==============================] - 38s 196ms/step - loss: 2.5347 - acc: 0.3471 - top-5-acc: 0.6614 - val_loss: 2.5285 - val_acc: 0.3599 - val_top-5-acc: 0.6586\n",
            "Epoch 28/50\n",
            "196/196 [==============================] - 38s 196ms/step - loss: 2.5033 - acc: 0.3520 - top-5-acc: 0.6697 - val_loss: 2.5010 - val_acc: 0.3722 - val_top-5-acc: 0.6653\n",
            "Epoch 29/50\n",
            "196/196 [==============================] - 38s 196ms/step - loss: 2.4787 - acc: 0.3589 - top-5-acc: 0.6720 - val_loss: 2.4916 - val_acc: 0.3680 - val_top-5-acc: 0.6653\n",
            "Epoch 30/50\n",
            "196/196 [==============================] - 38s 196ms/step - loss: 2.4477 - acc: 0.3632 - top-5-acc: 0.6797 - val_loss: 2.5097 - val_acc: 0.3628 - val_top-5-acc: 0.6622\n",
            "Epoch 31/50\n",
            "196/196 [==============================] - 38s 196ms/step - loss: 2.4138 - acc: 0.3710 - top-5-acc: 0.6855 - val_loss: 2.4847 - val_acc: 0.3727 - val_top-5-acc: 0.6679\n",
            "Epoch 32/50\n",
            "196/196 [==============================] - 38s 196ms/step - loss: 2.3888 - acc: 0.3756 - top-5-acc: 0.6942 - val_loss: 2.4977 - val_acc: 0.3662 - val_top-5-acc: 0.6654\n",
            "Epoch 33/50\n",
            "196/196 [==============================] - 38s 196ms/step - loss: 2.3688 - acc: 0.3811 - top-5-acc: 0.6971 - val_loss: 2.4519 - val_acc: 0.3736 - val_top-5-acc: 0.6739\n",
            "Epoch 34/50\n",
            "196/196 [==============================] - 38s 196ms/step - loss: 2.3364 - acc: 0.3874 - top-5-acc: 0.7022 - val_loss: 2.4311 - val_acc: 0.3813 - val_top-5-acc: 0.6783\n",
            "Epoch 35/50\n",
            "196/196 [==============================] - 38s 196ms/step - loss: 2.3128 - acc: 0.3919 - top-5-acc: 0.7088 - val_loss: 2.4270 - val_acc: 0.3853 - val_top-5-acc: 0.6804\n",
            "Epoch 36/50\n",
            "196/196 [==============================] - 38s 196ms/step - loss: 2.2809 - acc: 0.3985 - top-5-acc: 0.7158 - val_loss: 2.4749 - val_acc: 0.3712 - val_top-5-acc: 0.6751\n",
            "Epoch 37/50\n",
            "196/196 [==============================] - 38s 196ms/step - loss: 2.2671 - acc: 0.4024 - top-5-acc: 0.7193 - val_loss: 2.4083 - val_acc: 0.3866 - val_top-5-acc: 0.6862\n",
            "Epoch 38/50\n",
            "196/196 [==============================] - 38s 196ms/step - loss: 2.2321 - acc: 0.4094 - top-5-acc: 0.7233 - val_loss: 2.4178 - val_acc: 0.3925 - val_top-5-acc: 0.6828\n",
            "Epoch 39/50\n",
            "196/196 [==============================] - 38s 196ms/step - loss: 2.2136 - acc: 0.4134 - top-5-acc: 0.7291 - val_loss: 2.3818 - val_acc: 0.4014 - val_top-5-acc: 0.6901\n",
            "Epoch 40/50\n",
            "196/196 [==============================] - 38s 196ms/step - loss: 2.1933 - acc: 0.4189 - top-5-acc: 0.7332 - val_loss: 2.3851 - val_acc: 0.3930 - val_top-5-acc: 0.6895\n",
            "Epoch 41/50\n",
            "196/196 [==============================] - 38s 196ms/step - loss: 2.1716 - acc: 0.4208 - top-5-acc: 0.7396 - val_loss: 2.3830 - val_acc: 0.4038 - val_top-5-acc: 0.6930\n",
            "Epoch 42/50\n",
            "196/196 [==============================] - 38s 196ms/step - loss: 2.1490 - acc: 0.4270 - top-5-acc: 0.7421 - val_loss: 2.3584 - val_acc: 0.4038 - val_top-5-acc: 0.6915\n",
            "Epoch 43/50\n",
            "196/196 [==============================] - 38s 196ms/step - loss: 2.1317 - acc: 0.4308 - top-5-acc: 0.7467 - val_loss: 2.3676 - val_acc: 0.4008 - val_top-5-acc: 0.6903\n",
            "Epoch 44/50\n",
            "196/196 [==============================] - 39s 197ms/step - loss: 2.1025 - acc: 0.4391 - top-5-acc: 0.7511 - val_loss: 2.3377 - val_acc: 0.4133 - val_top-5-acc: 0.6979\n",
            "Epoch 45/50\n",
            "196/196 [==============================] - 38s 196ms/step - loss: 2.0877 - acc: 0.4428 - top-5-acc: 0.7538 - val_loss: 2.3543 - val_acc: 0.4033 - val_top-5-acc: 0.6916\n",
            "Epoch 46/50\n",
            "196/196 [==============================] - 38s 196ms/step - loss: 2.0649 - acc: 0.4461 - top-5-acc: 0.7586 - val_loss: 2.3422 - val_acc: 0.4041 - val_top-5-acc: 0.7005\n",
            "Epoch 47/50\n",
            "196/196 [==============================] - 38s 196ms/step - loss: 2.0489 - acc: 0.4490 - top-5-acc: 0.7624 - val_loss: 2.3460 - val_acc: 0.4080 - val_top-5-acc: 0.6996\n",
            "Epoch 48/50\n",
            "196/196 [==============================] - 38s 196ms/step - loss: 2.0217 - acc: 0.4545 - top-5-acc: 0.7684 - val_loss: 2.3489 - val_acc: 0.4082 - val_top-5-acc: 0.6973\n",
            "Epoch 49/50\n",
            "196/196 [==============================] - 38s 196ms/step - loss: 2.0101 - acc: 0.4587 - top-5-acc: 0.7691 - val_loss: 2.3400 - val_acc: 0.4098 - val_top-5-acc: 0.7004\n",
            "Epoch 50/50\n",
            "196/196 [==============================] - 38s 196ms/step - loss: 1.9769 - acc: 0.4672 - top-5-acc: 0.7756 - val_loss: 2.3149 - val_acc: 0.4175 - val_top-5-acc: 0.7062\n"
          ]
        }
      ]
    }
  ]
}