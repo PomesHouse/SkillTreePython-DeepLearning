{
  "nbformat": 4,
  "nbformat_minor": 0,
  "metadata": {
    "colab": {
      "name": "gan_example.ipynb",
      "private_outputs": true,
      "provenance": [],
      "authorship_tag": "ABX9TyMIGd5csKyF+fBu7yPdZI+R",
      "include_colab_link": true
    },
    "kernelspec": {
      "name": "python3",
      "display_name": "Python 3"
    },
    "language_info": {
      "name": "python"
    },
    "accelerator": "GPU",
    "gpuClass": "standard"
  },
  "cells": [
    {
      "cell_type": "markdown",
      "metadata": {
        "id": "view-in-github",
        "colab_type": "text"
      },
      "source": [
        "<a href=\"https://colab.research.google.com/github/PomesHouse/SkillTreePython-DeepLearning/blob/main/04.Paper-with-code/gan/gan_example.ipynb\" target=\"_parent\"><img src=\"https://colab.research.google.com/assets/colab-badge.svg\" alt=\"Open In Colab\"/></a>"
      ]
    },
    {
      "cell_type": "markdown",
      "source": [
        "# GAN"
      ],
      "metadata": {
        "id": "tc54dQLY8un9"
      }
    },
    {
      "cell_type": "code",
      "execution_count": null,
      "metadata": {
        "id": "qsOUZ0-x8C5E"
      },
      "outputs": [],
      "source": [
        "IMG_SHAPE = (32,32,3)\n",
        "Z_DIM = 128"
      ]
    },
    {
      "cell_type": "markdown",
      "source": [
        "### 데이터 로더"
      ],
      "metadata": {
        "id": "b5GEXAU182b9"
      }
    },
    {
      "cell_type": "code",
      "source": [
        "from data_loader import *\n",
        "from utils import display_sample_img\n",
        "x_train, _, _, _ = cifar10_loader(True)\n",
        "display_sample_img(x_train, (3,8), True)\n",
        "x_train.shape\n",
        "# 이미지 -1~1 제너레이터가 -1~1까지의 이미지를 생성해야한다."
      ],
      "metadata": {
        "id": "0-HlpEBz81TV"
      },
      "execution_count": null,
      "outputs": []
    },
    {
      "cell_type": "markdown",
      "source": [
        "### 모델 구성"
      ],
      "metadata": {
        "id": "EpdYadCJ8-bV"
      }
    },
    {
      "cell_type": "code",
      "source": [
        "from model import BuildModel\n",
        "builder = BuildModel(IMG_SHAPE, Z_DIM)\n",
        "gene = builder.build_gene(last_activation='tanh') # tanh : -1 ~ 1 아웃풋  sigmoid: 0~1 아웃풋\n",
        "disc = builder.build_disc()\n",
        "gene.summary()\n",
        "disc.summary()"
      ],
      "metadata": {
        "id": "8xPwp0VA87UM"
      },
      "execution_count": null,
      "outputs": []
    },
    {
      "cell_type": "markdown",
      "source": [
        "### 학습"
      ],
      "metadata": {
        "id": "cZJCqt3F9EUN"
      }
    },
    {
      "cell_type": "code",
      "source": [
        "from gan import GAN\n",
        "model = GAN(gene, disc, IMG_SHAPE, Z_DIM)\n",
        "model.compile()\n",
        "model.gan.summary()\n",
        "model.fit(x_train,  epochs= 5, standard=True)"
      ],
      "metadata": {
        "id": "a37HcHo-9CFF"
      },
      "execution_count": null,
      "outputs": []
    }
  ]
}